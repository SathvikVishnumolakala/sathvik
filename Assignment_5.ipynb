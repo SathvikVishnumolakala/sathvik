{
 "cells": [
  {
   "cell_type": "markdown",
   "id": "ce49aa6c",
   "metadata": {},
   "source": [
    "#### 1. What does an empty dictionary's code look like?\n",
    "**ANS:** Lets assume dictionary name is d.\n",
    "* d={}"
   ]
  },
  {
   "cell_type": "markdown",
   "id": "d99e4bfc",
   "metadata": {},
   "source": [
    "#### 2. What is the value of a dictionary value with the key 'foo' and the value 42?\n",
    "**ANS:** d={\"foo\":42} "
   ]
  },
  {
   "cell_type": "markdown",
   "id": "62d2a815",
   "metadata": {},
   "source": [
    "#### 3. What is the most significant distinction between a dictionary and a list?\n",
    "**Ans** Dictionary contains the key value pairs ,the values can be accessed using the keys.But Lists contains only values,the values can be accessed using the indices."
   ]
  },
  {
   "cell_type": "markdown",
   "id": "2395b70a",
   "metadata": {},
   "source": [
    "#### 4. What happens if you try to access spam['foo'] if spam is {'bar': 100}?\n",
    "**Ans** It gives an error i.e key error 'foo'.Because the spam doesn't contain the key named as 'foo'."
   ]
  },
  {
   "cell_type": "markdown",
   "id": "2c61b7dd",
   "metadata": {},
   "source": [
    "#### 5. If a dictionary is stored in spam, what is the difference between the expressions 'cat' in spam and 'cat' in spam.keys()?\n",
    "**Ans** Both will check whether the 'cat' is there in the keys of spam dictionary."
   ]
  },
  {
   "cell_type": "markdown",
   "id": "38c9258e",
   "metadata": {},
   "source": [
    "#### 6. If a dictionary is stored in spam, what is the difference between the expressions 'cat' in spam and 'cat' in spam.values()?\n",
    "**Ans** The **'cat' in spam** checks if it is available in keys or not. **'cat' in spam.values()** checks if it available in the values or not."
   ]
  },
  {
   "cell_type": "markdown",
   "id": "6aaedfe7",
   "metadata": {},
   "source": [
    "#### 7. What is a shortcut for the following code?\n",
    "#### if 'color' not in spam:\n",
    "#### spam['color'] = 'black'\n",
    "**Ans** spam.setdefault('color','black')"
   ]
  },
  {
   "cell_type": "markdown",
   "id": "f832cf99",
   "metadata": {},
   "source": [
    "#### 8. How do you \"pretty print\" dictionary values using which module and function?\n",
    "**Ans** \n",
    "* By using pprint()\n",
    "* json.dumps()\n",
    "* yaml.dump()"
   ]
  },
  {
   "cell_type": "code",
   "execution_count": null,
   "id": "e693c0c9",
   "metadata": {},
   "outputs": [],
   "source": []
  }
 ],
 "metadata": {
  "kernelspec": {
   "display_name": "Python 3 (ipykernel)",
   "language": "python",
   "name": "python3"
  },
  "language_info": {
   "codemirror_mode": {
    "name": "ipython",
    "version": 3
   },
   "file_extension": ".py",
   "mimetype": "text/x-python",
   "name": "python",
   "nbconvert_exporter": "python",
   "pygments_lexer": "ipython3",
   "version": "3.10.0"
  }
 },
 "nbformat": 4,
 "nbformat_minor": 5
}

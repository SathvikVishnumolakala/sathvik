{
 "cells": [
  {
   "cell_type": "markdown",
   "id": "d40b293b",
   "metadata": {},
   "source": [
    "#### 1. What does RGBA stand for?\n",
    "**ANS:** The RGBA stand for Red-green-blue-alpha."
   ]
  },
  {
   "cell_type": "markdown",
   "id": "66510452",
   "metadata": {},
   "source": [
    "#### 2. From the Pillow module, how do you get the RGBA value of any images?\n",
    "**ANS:** `ImageColor.getcolor()` gives rgba value of any image."
   ]
  },
  {
   "cell_type": "markdown",
   "id": "a936d01e",
   "metadata": {},
   "source": [
    "#### 3. What is a box tuple, and how does it work?\n",
    "**ANS:** A box tuple is a tuple value of four integers: the left-edge x-coordinate, the top-edge y-coordinate,the width, and the height, respectively.It represents a box that precisely contains the ellipse."
   ]
  },
  {
   "cell_type": "markdown",
   "id": "07f0b69a",
   "metadata": {},
   "source": [
    "#### 4. Use your image and load in notebook then, How can you find out the width and height of an Image object?\n",
    "**ANS:** "
   ]
  },
  {
   "cell_type": "code",
   "execution_count": null,
   "id": "97c190b2",
   "metadata": {},
   "outputs": [],
   "source": [
    "from PIL import Image\n",
    "pic = Image.open('Pic.jpg')\n",
    "print(f'Width, Height -> {pic.size}')"
   ]
  },
  {
   "cell_type": "markdown",
   "id": "6a1784b4",
   "metadata": {},
   "source": [
    "#### 5. What method would you call to get Image object for a 100×100 image, excluding the lower-left quarter of it?\n",
    "**ANS:**"
   ]
  },
  {
   "cell_type": "code",
   "execution_count": null,
   "id": "e58d9b50",
   "metadata": {},
   "outputs": [],
   "source": [
    "from PIL import Image\n",
    "img = Image.open('Pic.jpg')\n",
    "new_img = img.crop((0,50,50,50))"
   ]
  },
  {
   "cell_type": "markdown",
   "id": "03554017",
   "metadata": {},
   "source": [
    "#### 6. After making changes to an Image object, how could you save it as an image file?\n",
    "**ANS:** "
   ]
  },
  {
   "cell_type": "code",
   "execution_count": null,
   "id": "b7b0dc2a",
   "metadata": {},
   "outputs": [],
   "source": [
    "from PIL import Image\n",
    "pic = Image.open('pic.jpg')\n",
    "pic.save('pic1.jpg')"
   ]
  },
  {
   "cell_type": "markdown",
   "id": "2000bfaf",
   "metadata": {},
   "source": [
    "#### 7. What module contains Pillow’s shape-drawing code?\n",
    "**ANS:** `ImageDraw` module contains shape-drawing code."
   ]
  },
  {
   "cell_type": "markdown",
   "id": "0c59a0a9",
   "metadata": {},
   "source": [
    "#### 8. Image objects do not have drawing methods. What kind of object does? How do you get this kind of object?\n",
    "**ANS:** ImageDraw objects have shape-drawing methods such as `point()`, `line()`, or `rectangle()`.They are returned by passing the Image object to the `ImageDraw.Draw()` function.`"
   ]
  },
  {
   "cell_type": "code",
   "execution_count": null,
   "id": "3bc7b8f6",
   "metadata": {},
   "outputs": [],
   "source": []
  }
 ],
 "metadata": {
  "kernelspec": {
   "display_name": "Python 3 (ipykernel)",
   "language": "python",
   "name": "python3"
  },
  "language_info": {
   "codemirror_mode": {
    "name": "ipython",
    "version": 3
   },
   "file_extension": ".py",
   "mimetype": "text/x-python",
   "name": "python",
   "nbconvert_exporter": "python",
   "pygments_lexer": "ipython3",
   "version": "3.10.0"
  }
 },
 "nbformat": 4,
 "nbformat_minor": 5
}

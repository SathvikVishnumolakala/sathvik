{
 "cells": [
  {
   "cell_type": "markdown",
   "id": "3d12389f",
   "metadata": {},
   "source": [
    "#### 1. What is the result of the code, and explain?\n",
    "##### >>> X = 'iNeuron'\n",
    "##### >>> def func():\n",
    "#####           print(X)\n",
    "##### >>> func()\n",
    "**ANS:**\n",
    "* The result of the above code will be 'iNeuron'.Initially the string 'iNeuron' is assigned to the variable X.Then function is created with the body to print the variable X.So when the function call happened the function will be executed then prints value of Varible X."
   ]
  },
  {
   "cell_type": "markdown",
   "id": "ea7c9e28",
   "metadata": {},
   "source": [
    "#### 2. What is the result of the code, and explain?\n",
    "##### >>> X = 'iNeuron'\n",
    "##### >>> def func():\n",
    "##### X = 'NI!'\n",
    "##### >>> func()\n",
    "##### >>> print(X)\n",
    "**ANS:**\n",
    "* The above code prints the 'iNeuron'.Even when we change the X variable it contains only local scope.print is in outside the funtion so it consider only the variable contains global scope."
   ]
  },
  {
   "cell_type": "markdown",
   "id": "ca98688b",
   "metadata": {},
   "source": [
    "#### 3. What does this code print, and why?\n",
    "##### X = 'iNeuron'\n",
    "##### def func():\n",
    "#####     X='NI!'\n",
    "##### print(X)\n",
    "##### func()\n",
    "##### print(X)\n",
    "**ANS:** \n",
    "* This code will print both values of X i.e 'iNeuron' 'NI!'.when the function call happens it prints local variable value of 'NI!'.For outside the function print statement will print 'iNeuron'."
   ]
  },
  {
   "cell_type": "markdown",
   "id": "7e081334",
   "metadata": {},
   "source": [
    "#### 4. What does this code print, and why?\n",
    "##### X = 'iNeuron'\n",
    "##### def func():\n",
    "##### global X\n",
    "#####     X='NI!'\n",
    "##### func()\n",
    "##### print(X)\n",
    "**ANS:**\n",
    "* This code prints the 'NI!'.Because we made the X variable as global,so the X value inside the function will be changed as global value of X."
   ]
  },
  {
   "cell_type": "markdown",
   "id": "12d58e9b",
   "metadata": {},
   "source": [
    "#### 5. What about this code—what’s the output, and why?\n",
    "##### >>> X = 'iNeuron'\n",
    "##### >>> def func():\n",
    "##### X = 'NI'\n",
    "##### def nested():\n",
    "##### print(X)\n",
    "##### nested()\n",
    "##### >>> func()\n",
    "##### >>> X\n",
    "**ANS:**\n",
    "*  The output of the code is 'NI'. the reason for this output is if a function wants to access a variable, if its not available in its localscope. it looks for the variable in its global scope. similarly here also function nested looks for variable X in its global scope. hence the output of the code is NI."
   ]
  },
  {
   "cell_type": "markdown",
   "id": "56fbc660",
   "metadata": {},
   "source": [
    "#### 6. How about this code: what is its output in Python 3, and explain?\n",
    "##### >>> def func():\n",
    "##### X = 'NI'\n",
    "##### def nested():\n",
    "##### nonlocal X\n",
    "##### X = 'Spam'\n",
    "##### nested()\n",
    "##### print(X)\n",
    "##### >>> func()\n",
    "**ANS:**\n",
    "* The output of the code is Spam. nonlocal keyword in python is used to declare a variable as not local.Hence the statement X = \"Spam\" is modified in the global scope. hence the output of print(X) statement is Spam."
   ]
  },
  {
   "cell_type": "code",
   "execution_count": null,
   "id": "23fe3d2a",
   "metadata": {},
   "outputs": [],
   "source": []
  }
 ],
 "metadata": {
  "kernelspec": {
   "display_name": "Python 3 (ipykernel)",
   "language": "python",
   "name": "python3"
  },
  "language_info": {
   "codemirror_mode": {
    "name": "ipython",
    "version": 3
   },
   "file_extension": ".py",
   "mimetype": "text/x-python",
   "name": "python",
   "nbconvert_exporter": "python",
   "pygments_lexer": "ipython3",
   "version": "3.10.0"
  }
 },
 "nbformat": 4,
 "nbformat_minor": 5
}

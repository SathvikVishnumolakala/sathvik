{
 "cells": [
  {
   "cell_type": "markdown",
   "id": "30cf7c9b",
   "metadata": {},
   "source": [
    "#### 1. What is the result of the code, and why?\n",
    "##### >>> def func(a, b=6, c=8):\n",
    "##### print(a, b, c)\n",
    "##### >>> func(1, 2)\n",
    "**ANS:**\n",
    "* The above code will print `1 2 8`.Because when we make a function call with the values then the previous values will replaced with current values."
   ]
  },
  {
   "cell_type": "markdown",
   "id": "de30e609",
   "metadata": {},
   "source": [
    "#### 2. What is the result of this code, and why?\n",
    "##### >>> def func(a, b, c=5):\n",
    "##### print(a, b, c)\n",
    "##### >>> func(1, c=3, b=2)\n",
    "**ANS:**\n",
    "* The result of the above code is `1 2 3`. it is because the function will use default values only when a value for a argument is not provided and if argument name is mentioned while doing a function call, the order of arguments is also ignored by the python interpreter"
   ]
  },
  {
   "cell_type": "markdown",
   "id": "36254e15",
   "metadata": {},
   "source": [
    "#### 3. How about this code: what is its result, and why?\n",
    "##### >>> def func(a, *pargs):\n",
    "##### print(a, pargs)\n",
    "##### >>> func(1, 2, 3)\n",
    "**ANS:**\n",
    "* The result will be `1 (2, 3)`.`*pargs` stands for variable length arguments. this format is used when we are not sure about the no of arguments to be passed to a function. all the values under this argument will be stored in a tuple."
   ]
  },
  {
   "cell_type": "markdown",
   "id": "c2c2fa15",
   "metadata": {},
   "source": [
    "#### 4. What does this code print, and why?\n",
    "##### >>> def func(a, **kargs):\n",
    "##### print(a, kargs)\n",
    "##### >>> func(a=1, c=3, b=2)\n",
    "**ANS:**\n",
    "* This code prints `1 {'c': 3, 'b': 2}`.`**args` stands for variable length keyword arguments. This format is used when we want pass key value pairs as input to a function. All these key value pairs will be stored in a dictionary."
   ]
  },
  {
   "cell_type": "markdown",
   "id": "a6569d16",
   "metadata": {},
   "source": [
    "#### 5. What gets printed by this, and explain?\n",
    "##### >>> def func(a, b, c=8, d=5): print(a, b, c, d)\n",
    "##### >>> func(1, *(5, 6))\n",
    "**ANS:**\n",
    "* This code will print `1 5 6 5`.The function will expand the `*(5,6)` and consider the value of b as 5 and value of c as 6. since the default value of d is provided in function declaration d value will be 5."
   ]
  },
  {
   "cell_type": "markdown",
   "id": "ca702109",
   "metadata": {},
   "source": [
    "#### 6. what is the result of this, and explain?\n",
    "##### >>> def func(a, b, c): a = 2; b[0] = 'x'; c['a'] = 'y'\n",
    "##### >>> l=1; m=[1]; n={'a':0}\n",
    "##### >>> func(l, m, n)\n",
    "##### >>> l, m, n\n",
    "**ANS:**\n",
    "* The output of above code is `1, ['x'], {'a': 'y'}`.Python gives importance to indentation. its provides a facility to declare an entire function in one single line. where statements in a function body are sepereated by `;`.When l,m,n are provided as inputs to the function. its modifies the values of l,m,n and sets the value of `l=2` ,`m=['x']` and `n={'a':'y'}`."
   ]
  },
  {
   "cell_type": "code",
   "execution_count": null,
   "id": "6606f8fa",
   "metadata": {},
   "outputs": [],
   "source": []
  }
 ],
 "metadata": {
  "kernelspec": {
   "display_name": "Python 3 (ipykernel)",
   "language": "python",
   "name": "python3"
  },
  "language_info": {
   "codemirror_mode": {
    "name": "ipython",
    "version": 3
   },
   "file_extension": ".py",
   "mimetype": "text/x-python",
   "name": "python",
   "nbconvert_exporter": "python",
   "pygments_lexer": "ipython3",
   "version": "3.10.0"
  }
 },
 "nbformat": 4,
 "nbformat_minor": 5
}

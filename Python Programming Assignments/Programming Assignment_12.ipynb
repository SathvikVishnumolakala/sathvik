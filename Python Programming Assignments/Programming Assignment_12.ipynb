{
 "cells": [
  {
   "cell_type": "markdown",
   "id": "2b740dd9",
   "metadata": {},
   "source": [
    "#### 1.\tWrite a Python program to Extract Unique values dictionary values?\n",
    "**ANS:**"
   ]
  },
  {
   "cell_type": "code",
   "execution_count": 1,
   "id": "36b41ad7",
   "metadata": {},
   "outputs": [
    {
     "name": "stdout",
     "output_type": "stream",
     "text": [
      "dict_values(['sathvik', 'vishnu', 'sai', 'vishnu', 'sai'])\n",
      "['sathvik', 'sai', 'vishnu']\n"
     ]
    }
   ],
   "source": [
    "dictionary={1:'sathvik',2:'vishnu',3:'sai',4:'vishnu',5:'sai'}\n",
    "print(dictionary.values())\n",
    "print(list(set(dictionary.values())))"
   ]
  },
  {
   "cell_type": "markdown",
   "id": "925b013b",
   "metadata": {},
   "source": [
    "#### 2.\tWrite a Python program to find the sum of all items in a dictionary?\n",
    "**ANS:**"
   ]
  },
  {
   "cell_type": "code",
   "execution_count": 2,
   "id": "5f33cdc9",
   "metadata": {},
   "outputs": [
    {
     "name": "stdout",
     "output_type": "stream",
     "text": [
      "204\n"
     ]
    }
   ],
   "source": [
    "dictionary={1:1,2:4,3:9,4:16,5:25,6:36,7:49,8:64}\n",
    "print(sum(dictionary.values()))"
   ]
  },
  {
   "cell_type": "markdown",
   "id": "59809c7a",
   "metadata": {},
   "source": [
    "#### 3.\tWrite a Python program to Merging two Dictionaries?\n",
    "**ANS:**"
   ]
  },
  {
   "cell_type": "code",
   "execution_count": 3,
   "id": "21cffa99",
   "metadata": {},
   "outputs": [
    {
     "name": "stdout",
     "output_type": "stream",
     "text": [
      "{1: 'Sath', 2: 46, 5: '@#$%^&*', 3: 'kjbvd', 4: 323456}\n"
     ]
    }
   ],
   "source": [
    "d1={1:\"Sath\",2:46,5:'@#$%^&*'}\n",
    "d2={3:\"kjbvd\",4:323456}\n",
    "d1.update(d2)\n",
    "print(d1)"
   ]
  },
  {
   "cell_type": "markdown",
   "id": "e8eab633",
   "metadata": {},
   "source": [
    "#### 4.\tWrite a Python program to convert key-values list to flat dictionary?\n",
    "**ANS:**"
   ]
  },
  {
   "cell_type": "code",
   "execution_count": 4,
   "id": "1aefc4ab",
   "metadata": {},
   "outputs": [
    {
     "name": "stdout",
     "output_type": "stream",
     "text": [
      "{'A': 10, 'B': 20, 'C': 30, 'D': 40, 'E': 50, 'F': 60, 'G': 70, 'H': 80, 'I': 90, 'J': 100}\n"
     ]
    }
   ],
   "source": [
    "list1 = [('A',10),('B',20),('C',30),('D',40),('E',50),('F',60),('G',70),('H',80),('I',90),('J',100)]\n",
    "dict(list1)\n",
    "out={}\n",
    "for i in list1:\n",
    "    out[i[0]] = i[1]\n",
    "print(out)"
   ]
  },
  {
   "cell_type": "markdown",
   "id": "3065b232",
   "metadata": {},
   "source": [
    "#### 5.\tWrite a Python program to insertion at the beginning in OrderedDict?\n",
    "**ANS:**"
   ]
  },
  {
   "cell_type": "code",
   "execution_count": 5,
   "id": "02eadd60",
   "metadata": {},
   "outputs": [
    {
     "name": "stdout",
     "output_type": "stream",
     "text": [
      "OrderedDict([(1, 'sathvik'), (2, 'vishnu'), (3, 'sat')])\n",
      "OrderedDict([(4, 4356), (1, 'sathvik'), (2, 'vishnu'), (3, 'sat')])\n"
     ]
    }
   ],
   "source": [
    "from collections import OrderedDict\n",
    "d= OrderedDict({1:\"sathvik\",2:\"vishnu\",3:\"sat\"})\n",
    "print(d)\n",
    "d2 = {4:4356}\n",
    "d.update(d2)\n",
    "d.move_to_end(4,last=False)\n",
    "print(d)"
   ]
  },
  {
   "cell_type": "markdown",
   "id": "c0440bbe",
   "metadata": {},
   "source": [
    "#### 6.\tWrite a Python program to check order of character in string using OrderedDict()?\n",
    "**ANS:**"
   ]
  },
  {
   "cell_type": "code",
   "execution_count": 6,
   "id": "5237998a",
   "metadata": {},
   "outputs": [
    {
     "name": "stdout",
     "output_type": "stream",
     "text": [
      "{1: 'sathvik', 2: 'vishnu', 3: 'sat'}\n",
      "OrderedDict([(1, 'sathvik'), (2, 'vishnu'), (3, 'sat')])\n"
     ]
    }
   ],
   "source": [
    "from collections import OrderedDict\n",
    "\n",
    "d={1:\"sathvik\",2:\"vishnu\",3:\"sat\"}\n",
    "print(d)\n",
    "print(OrderedDict(dict(sorted(d.items()))))\n"
   ]
  },
  {
   "cell_type": "markdown",
   "id": "857445d8",
   "metadata": {},
   "source": [
    "#### 7.\tWrite a Python program to sort Python Dictionaries by Key or Value?\n",
    "**ANS:**"
   ]
  },
  {
   "cell_type": "code",
   "execution_count": 7,
   "id": "23c38084",
   "metadata": {},
   "outputs": [
    {
     "name": "stdout",
     "output_type": "stream",
     "text": [
      "{'Mango': 100, 'PineApple': 22, 'Banana': 60, 'Grape': 13}\n",
      "{'Banana': 60, 'Grape': 13, 'Mango': 100, 'PineApple': 22}\n"
     ]
    }
   ],
   "source": [
    "d={'Mango':100,'PineApple':22,'Banana':60,'Grape':13}\n",
    "print(d)\n",
    "o=dict(sorted(d.items(),key=lambda x:x[0], reverse=False))\n",
    "print(o)"
   ]
  },
  {
   "cell_type": "code",
   "execution_count": null,
   "id": "f58462e7",
   "metadata": {},
   "outputs": [],
   "source": []
  }
 ],
 "metadata": {
  "kernelspec": {
   "display_name": "Python 3 (ipykernel)",
   "language": "python",
   "name": "python3"
  },
  "language_info": {
   "codemirror_mode": {
    "name": "ipython",
    "version": 3
   },
   "file_extension": ".py",
   "mimetype": "text/x-python",
   "name": "python",
   "nbconvert_exporter": "python",
   "pygments_lexer": "ipython3",
   "version": "3.10.0"
  }
 },
 "nbformat": 4,
 "nbformat_minor": 5
}

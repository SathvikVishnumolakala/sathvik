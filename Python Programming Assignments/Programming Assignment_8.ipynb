{
 "cells": [
  {
   "cell_type": "markdown",
   "id": "f00381dd",
   "metadata": {},
   "source": [
    "#### 1.\tWrite a Python Program to Add Two Matrices?\n",
    "**ANS:**"
   ]
  },
  {
   "cell_type": "code",
   "execution_count": 2,
   "id": "2b974b90",
   "metadata": {},
   "outputs": [
    {
     "name": "stdout",
     "output_type": "stream",
     "text": [
      "[[10, 10, 10], [10, 10, 10], [10, 10, 10]]\n"
     ]
    }
   ],
   "source": [
    "a=[[1,2,3],[4,5,6],[7,8,9]]\n",
    "b=[[9,8,7],[6,5,4],[3,2,1]]\n",
    "if len(a)==len(b):\n",
    "    o=[]\n",
    "    for i in range(len(a)):\n",
    "        if len(a[i])==len(b[i]):\n",
    "            o.append([])\n",
    "            for j in range(len(a[i])):\n",
    "                o[i].append(a[i][j]+b[i][j])\n",
    "print(o)"
   ]
  },
  {
   "cell_type": "markdown",
   "id": "ab4d5877",
   "metadata": {},
   "source": [
    "#### 2.\tWrite a Python Program to Multiply Two Matrices?\n",
    "**ANS:**"
   ]
  },
  {
   "cell_type": "code",
   "execution_count": 3,
   "id": "ba661268",
   "metadata": {},
   "outputs": [
    {
     "name": "stdout",
     "output_type": "stream",
     "text": [
      "[[30, 24, 18], [84, 69, 54], [138, 114, 90]]\n"
     ]
    }
   ],
   "source": [
    "a=[[1,2,3],[4,5,6],[7,8,9]]\n",
    "b=[[9,8,7],[6,5,4],[3,2,1]]\n",
    "o=[[0,0,0],[0,0,0],[0,0,0]]\n",
    "for i in range(len(a)):\n",
    "    for j in range(len(b[0])):\n",
    "        for k in range(len(b)):\n",
    "            o[i][j] += a[i][k] * b[k][j]\n",
    "\n",
    "print(o)"
   ]
  },
  {
   "cell_type": "markdown",
   "id": "0d65fa25",
   "metadata": {},
   "source": [
    "#### 3.\tWrite a Python Program to Transpose a Matrix?\n",
    "**ANS:**"
   ]
  },
  {
   "cell_type": "code",
   "execution_count": 4,
   "id": "0912a479",
   "metadata": {},
   "outputs": [
    {
     "name": "stdout",
     "output_type": "stream",
     "text": [
      "[[1, 2, 3], [4, 5, 6], [7, 8, 9]]\n",
      "[[1, 4, 7], [2, 5, 8], [3, 6, 9]]\n"
     ]
    }
   ],
   "source": [
    "a=[[1,2,3],[4,5,6],[7,8,9]]\n",
    "o=[]\n",
    "for i in range(len(a[0])):\n",
    "    o.append([0 for e in range(len(a))])\n",
    "for j in range(len(a)):\n",
    "    for k in range(len(a[j])):\n",
    "        o[k][j] = a[j][k]\n",
    "print(a)\n",
    "print(o)"
   ]
  },
  {
   "cell_type": "markdown",
   "id": "b8871051",
   "metadata": {},
   "source": [
    "#### 4.\tWrite a Python Program to Sort Words in Alphabetic Order?\n",
    "**ANS:**"
   ]
  },
  {
   "cell_type": "code",
   "execution_count": 5,
   "id": "0b73330e",
   "metadata": {},
   "outputs": [
    {
     "name": "stdout",
     "output_type": "stream",
     "text": [
      "Full stack data science\n",
      "Data Full Science Stack\n"
     ]
    }
   ],
   "source": [
    "a=input().title()\n",
    "o=sorted(a.split(' '))\n",
    "print(' '.join(o))"
   ]
  },
  {
   "cell_type": "markdown",
   "id": "345d5fe3",
   "metadata": {},
   "source": [
    "#### 5.\tWrite a Python Program to Remove Punctuation From a String?\n",
    "**ANS:**"
   ]
  },
  {
   "cell_type": "code",
   "execution_count": 6,
   "id": "1d022639",
   "metadata": {},
   "outputs": [
    {
     "name": "stdout",
     "output_type": "stream",
     "text": [
      "My name is \"Sathvik\":@vishnu\n",
      "My name is Sathvikvishnu\n"
     ]
    }
   ],
   "source": [
    "def removepunc():\n",
    "    punctuations = '''!()-[]{};:'\"\\,<>./?@#$%^&*_~'''\n",
    "    s = input()\n",
    "    o = ''\n",
    "    for i in s:\n",
    "        if i not in punctuations:\n",
    "            o+=i\n",
    "    print(o)\n",
    "    \n",
    "removepunc()"
   ]
  },
  {
   "cell_type": "code",
   "execution_count": null,
   "id": "5efbab0b",
   "metadata": {},
   "outputs": [],
   "source": []
  }
 ],
 "metadata": {
  "kernelspec": {
   "display_name": "Python 3 (ipykernel)",
   "language": "python",
   "name": "python3"
  },
  "language_info": {
   "codemirror_mode": {
    "name": "ipython",
    "version": 3
   },
   "file_extension": ".py",
   "mimetype": "text/x-python",
   "name": "python",
   "nbconvert_exporter": "python",
   "pygments_lexer": "ipython3",
   "version": "3.10.0"
  }
 },
 "nbformat": 4,
 "nbformat_minor": 5
}

{
 "cells": [
  {
   "cell_type": "markdown",
   "id": "1e1eaf98",
   "metadata": {},
   "source": [
    "#### 1.Create a function that takes a string and returns a string in which each character is repeated once.\n",
    "#### Examples\n",
    "#### double_char(\"String\") ➞ \"SSttrriinngg\"\n",
    "#### double_char(\"Hello World!\") ➞ \"HHeelllloo  WWoorrlldd!!\"\n",
    "#### double_char(\"1234!_ \") ➞ \"11223344!!__  \"\n",
    "**ANS**"
   ]
  },
  {
   "cell_type": "code",
   "execution_count": 1,
   "id": "26974c75",
   "metadata": {},
   "outputs": [
    {
     "name": "stdout",
     "output_type": "stream",
     "text": [
      "SSttrriinngg\n",
      "HHeelllloo  WWoorrlldd!!\n",
      "11223344!!__\n"
     ]
    }
   ],
   "source": [
    "def double_char(s):\n",
    "    o=''\n",
    "    for i in s:\n",
    "        o+=2*i\n",
    "    print(o)\n",
    "double_char(\"String\")\n",
    "double_char(\"Hello World!\")\n",
    "double_char(\"1234!_\")"
   ]
  },
  {
   "cell_type": "markdown",
   "id": "1c2ec4ba",
   "metadata": {},
   "source": [
    "#### 2.Create a function that reverses a boolean value and returns the string \"boolean expected\" if another variable type is given.\n",
    "#### Examples\n",
    "#### reverse(True) ➞ False\n",
    "#### reverse(False) ➞ True\n",
    "#### reverse(0) ➞ \"boolean expected\"\n",
    "#### reverse(None) ➞ \"boolean expected\"\n",
    "**ANS:**"
   ]
  },
  {
   "cell_type": "code",
   "execution_count": 2,
   "id": "fdd8b292",
   "metadata": {},
   "outputs": [
    {
     "name": "stdout",
     "output_type": "stream",
     "text": [
      "False\n",
      "True\n",
      "boolean expected\n",
      "boolean expected\n"
     ]
    }
   ],
   "source": [
    "def reverse(s):\n",
    "    if type(s)==bool and s==True:\n",
    "        print(False)\n",
    "    elif type(s)==bool and s==False:\n",
    "        print(True)\n",
    "    else:\n",
    "        print(\"boolean expected\")\n",
    "reverse(True)\n",
    "reverse(False)\n",
    "reverse(0)\n",
    "reverse(None)"
   ]
  },
  {
   "cell_type": "markdown",
   "id": "a419025b",
   "metadata": {},
   "source": [
    "#### 3.Create a function that returns the thickness (in meters) of a piece of paper after folding it n number of times. The paper starts off with a thickness of 0.5mm.\n",
    "#### Examples\n",
    "#### num_layers(1) ➞ \"0.001m\"\n",
    "#### # Paper folded once is 1mm (equal to 0.001m)\n",
    "#### num_layers(4) ➞ \"0.008m\"\n",
    "#### # Paper folded 4 times is 8mm (equal to 0.008m)\n",
    "#### num_layers(21) ➞ \"1048.576m\"\n",
    "#### # Paper folded 21 times is 1048576mm (equal to 1048.576m)\n",
    "**ANS:**"
   ]
  },
  {
   "cell_type": "code",
   "execution_count": 3,
   "id": "baef8040",
   "metadata": {},
   "outputs": [
    {
     "name": "stdout",
     "output_type": "stream",
     "text": [
      "0.001\n",
      "0.008\n",
      "1048.576\n"
     ]
    }
   ],
   "source": [
    "def num_layers(num):\n",
    "    o = 0.5\n",
    "    for i in range(num):\n",
    "        o *= 2\n",
    "    print(o/1000)\n",
    "    \n",
    "num_layers(1)\n",
    "num_layers(4)\n",
    "num_layers(21)"
   ]
  },
  {
   "cell_type": "markdown",
   "id": "eec0889a",
   "metadata": {},
   "source": [
    "#### 4.Create a function that takes a single string as argument and returns an ordered list containing the indices of all capital letters in the string.\n",
    "#### Examples\n",
    "#### index_of_caps(\"eDaBiT\") ➞ [1, 3, 5]\n",
    "#### index_of_caps(\"eQuINoX\") ➞ [1, 3, 4, 6]\n",
    "#### index_of_caps(\"determine\") ➞ []\n",
    "#### index_of_caps(\"STRIKE\") ➞ [0, 1, 2, 3, 4, 5]\n",
    "#### index_of_caps(\"sUn\") ➞ [1]\n",
    "**ANS:**"
   ]
  },
  {
   "cell_type": "code",
   "execution_count": 4,
   "id": "441f4ed6",
   "metadata": {},
   "outputs": [
    {
     "name": "stdout",
     "output_type": "stream",
     "text": [
      "[1, 3, 5]\n",
      "[1, 3, 4, 6]\n",
      "[]\n",
      "[0, 1, 2, 3, 4, 5]\n",
      "[1]\n"
     ]
    }
   ],
   "source": [
    "def index_of_caps(s):\n",
    "    l=[]\n",
    "    for i in range(len(s)):\n",
    "        if s[i].isupper():\n",
    "            l.append(i)\n",
    "    print(l)\n",
    "index_of_caps(\"eDaBiT\")\n",
    "index_of_caps(\"eQuINoX\")\n",
    "index_of_caps(\"determine\")\n",
    "index_of_caps(\"STRIKE\")\n",
    "index_of_caps(\"sUn\")"
   ]
  },
  {
   "cell_type": "markdown",
   "id": "aedf06ed",
   "metadata": {},
   "source": [
    "#### 5.Using list comprehensions, create a function that finds all even numbers from 1 to the given number.\n",
    "#### Examples\n",
    "#### find_even_nums(8) ➞ [2, 4, 6, 8]\n",
    "#### find_even_nums(4) ➞ [2, 4]\n",
    "#### find_even_nums(2) ➞ [2]\n",
    "**ANS:**"
   ]
  },
  {
   "cell_type": "code",
   "execution_count": 5,
   "id": "bec56626",
   "metadata": {},
   "outputs": [
    {
     "name": "stdout",
     "output_type": "stream",
     "text": [
      "[2, 4, 6, 8]\n",
      "[2, 4]\n",
      "[2]\n"
     ]
    }
   ],
   "source": [
    "def find_even_nums(num):\n",
    "    l=[]\n",
    "    for i in range(1,num+1):\n",
    "        if i%2==0:\n",
    "            l.append(i)\n",
    "    print(l)\n",
    "find_even_nums(8)\n",
    "find_even_nums(4)\n",
    "find_even_nums(2)"
   ]
  },
  {
   "cell_type": "code",
   "execution_count": null,
   "id": "bcef197a",
   "metadata": {},
   "outputs": [],
   "source": []
  }
 ],
 "metadata": {
  "kernelspec": {
   "display_name": "Python 3 (ipykernel)",
   "language": "python",
   "name": "python3"
  },
  "language_info": {
   "codemirror_mode": {
    "name": "ipython",
    "version": 3
   },
   "file_extension": ".py",
   "mimetype": "text/x-python",
   "name": "python",
   "nbconvert_exporter": "python",
   "pygments_lexer": "ipython3",
   "version": "3.10.0"
  }
 },
 "nbformat": 4,
 "nbformat_minor": 5
}

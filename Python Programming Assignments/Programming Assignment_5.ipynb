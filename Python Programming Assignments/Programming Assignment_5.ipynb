{
 "cells": [
  {
   "cell_type": "markdown",
   "id": "c70156cf",
   "metadata": {},
   "source": [
    "#### 1.\tWrite a Python Program to Find LCM?\n",
    "**ANS:**"
   ]
  },
  {
   "cell_type": "code",
   "execution_count": 2,
   "id": "5497fff5",
   "metadata": {},
   "outputs": [
    {
     "name": "stdout",
     "output_type": "stream",
     "text": [
      "The LCM of 10,3 is 30\n"
     ]
    }
   ],
   "source": [
    "def lcm(x,y):\n",
    "    if x > y:\n",
    "        g = x\n",
    "    else:\n",
    "        g = y\n",
    "    while True:\n",
    "        if((g%x == 0) and (g%y == 0)):\n",
    "            lcm = g\n",
    "            break\n",
    "        else:\n",
    "            g +=1\n",
    "    print(f'The LCM of {x},{y} is {lcm}')\n",
    "    \n",
    "lcm(10,3)"
   ]
  },
  {
   "cell_type": "markdown",
   "id": "614c4c90",
   "metadata": {},
   "source": [
    "#### 2.\tWrite a Python Program to Find HCF?\n",
    "**ANS:**"
   ]
  },
  {
   "cell_type": "code",
   "execution_count": 3,
   "id": "1ce29481",
   "metadata": {},
   "outputs": [
    {
     "name": "stdout",
     "output_type": "stream",
     "text": [
      "The HCF of 2,8 is 2\n"
     ]
    }
   ],
   "source": [
    "def hcf(x,y):\n",
    "    if x>y:\n",
    "        s = y\n",
    "    else:\n",
    "        s = x\n",
    "    for i in range(1,s+1):\n",
    "        if((x%i == 0) and (y%i== 0)):\n",
    "            hcf = i\n",
    "    print(f'The HCF of {x},{y} is {hcf}')\n",
    "hcf(2,8)"
   ]
  },
  {
   "cell_type": "markdown",
   "id": "7ce4c031",
   "metadata": {},
   "source": [
    "#### 3.\tWrite a Python Program to Convert Decimal to Binary, Octal and Hexadecimal?\n",
    "**ANS:**"
   ]
  },
  {
   "cell_type": "code",
   "execution_count": 6,
   "id": "cfe2baf3",
   "metadata": {},
   "outputs": [
    {
     "name": "stdout",
     "output_type": "stream",
     "text": [
      "88\n",
      "1011000\n",
      "130\n",
      "58\n"
     ]
    }
   ],
   "source": [
    "num=int(input())\n",
    "print(bin(num)[2:])\n",
    "print(oct(num)[2:])\n",
    "print(hex(num)[2:])"
   ]
  },
  {
   "cell_type": "markdown",
   "id": "33a21272",
   "metadata": {},
   "source": [
    "#### 4.\tWrite a Python Program To Find ASCII value of a character?\n",
    "**ANS:**"
   ]
  },
  {
   "cell_type": "code",
   "execution_count": 8,
   "id": "8ba24be3",
   "metadata": {},
   "outputs": [
    {
     "name": "stdout",
     "output_type": "stream",
     "text": [
      "%\n",
      "37\n"
     ]
    }
   ],
   "source": [
    "s=input()\n",
    "print(ord(s))"
   ]
  },
  {
   "cell_type": "markdown",
   "id": "a3194785",
   "metadata": {},
   "source": [
    "#### 5.\tWrite a Python Program to Make a Simple Calculator with 4 basic mathematical operations?\n",
    "**ANS:**"
   ]
  },
  {
   "cell_type": "code",
   "execution_count": 2,
   "id": "beeb7431",
   "metadata": {},
   "outputs": [
    {
     "name": "stdout",
     "output_type": "stream",
     "text": [
      "Select a Arithmetic Operation:         \n",
      "1.Addition(+)        \n",
      "2.Division(-)        \n",
      "2.Multiplication(*)        \n",
      "4.Division(/)        \n",
      "3.Stop(0)\n",
      "\n",
      "Enter a arithmetic operation -> +\n",
      "\n",
      "Enter 1st Number: 10\n",
      "Enter 2nd Number: 20\n",
      "10+20=30\n",
      "\n",
      "Enter a arithmetic operation -> -\n",
      "\n",
      "Enter 1st Number: 30\n",
      "Enter 2nd Number: 10\n",
      "30-10=20\n",
      "\n",
      "Enter a arithmetic operation -> *\n",
      "\n",
      "Enter 1st Number: 20\n",
      "Enter 2nd Number: 11\n",
      "20*11=220\n",
      "\n",
      "Enter a arithmetic operation -> /\n",
      "\n",
      "Enter 1st Number: 200\n",
      "Enter 2nd Number: 10\n",
      "200/10=20.0\n",
      "\n",
      "Enter a arithmetic operation -> 0\n",
      "Program Stopped successfully\n"
     ]
    }
   ],
   "source": [
    "import operator\n",
    "\n",
    "ops = { \"+\": operator.add, \"-\": operator.sub, \"*\":operator.mul, \"/\":operator.truediv } \n",
    "\n",
    "print('Select a Arithmetic Operation: \\\n",
    "        \\n1.Addition(+)\\\n",
    "        \\n2.Division(-)\\\n",
    "        \\n2.Multiplication(*)\\\n",
    "        \\n4.Division(/)\\\n",
    "        \\n3.Stop(0)\\n')\n",
    "   \n",
    "\n",
    "while True:\n",
    "    operator = input('Enter a arithmetic operation -> ')\n",
    "    if operator == '0':\n",
    "        print(\"Program Stopped successfully\")\n",
    "        break\n",
    "    elif operator not in ['+','-','*','/']:\n",
    "        print(\"Please enter a valid operator\")\n",
    "    else:\n",
    "        num_1 = int(input('\\nEnter 1st Number: '))\n",
    "        num_2 = int(input('Enter 2nd Number: '))\n",
    "        print(f'{num_1}{operator}{num_2}={ops[operator](num_1,num_2)}\\n')    "
   ]
  },
  {
   "cell_type": "code",
   "execution_count": null,
   "id": "2acaf781",
   "metadata": {},
   "outputs": [],
   "source": []
  }
 ],
 "metadata": {
  "kernelspec": {
   "display_name": "Python 3 (ipykernel)",
   "language": "python",
   "name": "python3"
  },
  "language_info": {
   "codemirror_mode": {
    "name": "ipython",
    "version": 3
   },
   "file_extension": ".py",
   "mimetype": "text/x-python",
   "name": "python",
   "nbconvert_exporter": "python",
   "pygments_lexer": "ipython3",
   "version": "3.10.0"
  }
 },
 "nbformat": 4,
 "nbformat_minor": 5
}

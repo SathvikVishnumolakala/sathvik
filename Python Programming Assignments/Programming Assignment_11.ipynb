{
 "cells": [
  {
   "cell_type": "markdown",
   "id": "262793d4",
   "metadata": {},
   "source": [
    "#### 1.\tWrite a Python program to find words which are greater than given length k?\n",
    "**ANS:**"
   ]
  },
  {
   "cell_type": "code",
   "execution_count": 1,
   "id": "52cba8ef",
   "metadata": {},
   "outputs": [
    {
     "name": "stdout",
     "output_type": "stream",
     "text": [
      "Full Stack Data Science\n",
      "4\n",
      "Stack\n",
      "Science\n"
     ]
    }
   ],
   "source": [
    "string=input()\n",
    "k=int(input())\n",
    "l=list(string.split(\" \"))\n",
    "for i in l:\n",
    "    if len(i)>k:\n",
    "        print(i)"
   ]
  },
  {
   "cell_type": "markdown",
   "id": "e09b7fe3",
   "metadata": {},
   "source": [
    "#### 2.\tWrite a Python program for removing i-th character from a string?\n",
    "**ANS:**"
   ]
  },
  {
   "cell_type": "code",
   "execution_count": 2,
   "id": "ef8552dc",
   "metadata": {},
   "outputs": [
    {
     "name": "stdout",
     "output_type": "stream",
     "text": [
      "Sathvik\n",
      "enter the character to remove:k\n",
      "Sathvi\n"
     ]
    }
   ],
   "source": [
    "string=input()\n",
    "r=input(\"enter the character to remove:\")\n",
    "o=''\n",
    "for i in string:\n",
    "    if i!=r:\n",
    "        o+=i\n",
    "print(o)"
   ]
  },
  {
   "cell_type": "markdown",
   "id": "195905ab",
   "metadata": {},
   "source": [
    "#### 3.\tWrite a Python program to split and join a string?\n",
    "**ANS:**"
   ]
  },
  {
   "cell_type": "code",
   "execution_count": 3,
   "id": "22bd8454",
   "metadata": {},
   "outputs": [
    {
     "name": "stdout",
     "output_type": "stream",
     "text": [
      "Full Stack Data science\n",
      "['Full', 'Stack', 'Data', 'science']\n",
      "Full Stack Data science\n"
     ]
    }
   ],
   "source": [
    "string=input()\n",
    "split=string.split(' ')\n",
    "join=' '.join(split)\n",
    "print(split)\n",
    "print(join)"
   ]
  },
  {
   "cell_type": "markdown",
   "id": "b3202326",
   "metadata": {},
   "source": [
    "#### 4.\tWrite a Python to check if a given string is binary string or not?\n",
    "**ANS:**"
   ]
  },
  {
   "cell_type": "code",
   "execution_count": 8,
   "id": "686ff603",
   "metadata": {},
   "outputs": [
    {
     "name": "stdout",
     "output_type": "stream",
     "text": [
      "1234\n",
      "not binary string\n"
     ]
    }
   ],
   "source": [
    "string=input()\n",
    "binary=True\n",
    "for i in string:\n",
    "    if i in ['0','1']:\n",
    "        binary=True\n",
    "        continue\n",
    "    else:\n",
    "        binary=False\n",
    "        break\n",
    "if binary==True:\n",
    "    print(\"Binary string\")\n",
    "else:\n",
    "    print(\"not binary string\")"
   ]
  },
  {
   "cell_type": "markdown",
   "id": "0dc99e71",
   "metadata": {},
   "source": [
    "#### 5.\tWrite a Python program to find uncommon words from two Strings?\n",
    "**ANS:**"
   ]
  },
  {
   "cell_type": "code",
   "execution_count": 5,
   "id": "2498a0e4",
   "metadata": {},
   "outputs": [
    {
     "name": "stdout",
     "output_type": "stream",
     "text": [
      "sathvik vishnu\n",
      "vishnu sat\n",
      "{'sat', 'sathvik'}\n"
     ]
    }
   ],
   "source": [
    "string1=set(input().split(' '))\n",
    "string2=set(input().split(' '))\n",
    "out=(string1.union(string2)).difference(string1.intersection(string2))\n",
    "print(out)"
   ]
  },
  {
   "cell_type": "markdown",
   "id": "d0d0a05b",
   "metadata": {},
   "source": [
    "#### 6.\tWrite a Python to find all duplicate characters in string?\n",
    "**ANS:**"
   ]
  },
  {
   "cell_type": "code",
   "execution_count": 6,
   "id": "3016c697",
   "metadata": {},
   "outputs": [
    {
     "name": "stdout",
     "output_type": "stream",
     "text": [
      "Full stack data science\n",
      "{'t', 'e', ' ', 'a', 'l', 's', 'c'}\n"
     ]
    }
   ],
   "source": [
    "string=input()\n",
    "non_duplicates = []\n",
    "duplicates= []\n",
    "for i in string:\n",
    "    if i not in non_duplicates:\n",
    "        non_duplicates.append(i)\n",
    "    else:\n",
    "        duplicates.append(i)\n",
    "print(set(duplicates))"
   ]
  },
  {
   "cell_type": "markdown",
   "id": "f0e937cb",
   "metadata": {},
   "source": [
    "#### 7.\tWrite a Python Program to check if a string contains any special character?\n",
    "**ANS:**"
   ]
  },
  {
   "cell_type": "code",
   "execution_count": 7,
   "id": "260416ab",
   "metadata": {},
   "outputs": [
    {
     "name": "stdout",
     "output_type": "stream",
     "text": [
      "sathvik @#$%^& vishnu\n",
      "these are the special characters @#$%^&\n"
     ]
    }
   ],
   "source": [
    "special_char='[@_!#$%^&*()<>?/\\|}{~:]'\n",
    "string=input()\n",
    "o=''\n",
    "for i in string:\n",
    "    if i in special_char:\n",
    "        o+=i\n",
    "print(f\"these are the special characters {o}\")"
   ]
  },
  {
   "cell_type": "code",
   "execution_count": null,
   "id": "7663d0d4",
   "metadata": {},
   "outputs": [],
   "source": []
  }
 ],
 "metadata": {
  "kernelspec": {
   "display_name": "Python 3 (ipykernel)",
   "language": "python",
   "name": "python3"
  },
  "language_info": {
   "codemirror_mode": {
    "name": "ipython",
    "version": 3
   },
   "file_extension": ".py",
   "mimetype": "text/x-python",
   "name": "python",
   "nbconvert_exporter": "python",
   "pygments_lexer": "ipython3",
   "version": "3.10.0"
  }
 },
 "nbformat": 4,
 "nbformat_minor": 5
}

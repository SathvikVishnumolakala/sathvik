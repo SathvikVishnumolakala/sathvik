{
 "cells": [
  {
   "cell_type": "markdown",
   "id": "6a4e57b8",
   "metadata": {},
   "source": [
    "#### 1. Write a function that stutters a word as if someone is struggling to read it. The first two letters are repeated twice with an ellipsis ... and space after each, and then the word is pronounced with a question mark ?.\n",
    "#### Examples\n",
    "#### stutter(\"incredible\") ➞ \"in... in... incredible?\"\n",
    "#### stutter(\"enthusiastic\") ➞ \"en... en... enthusiastic?\"\n",
    "#### stutter(\"outstanding\") ➞ \"ou... ou... outstanding?\"\n",
    "#### Hint :- Assume all input is in lower case and at least two characters long.\n",
    "**ANS:**\n"
   ]
  },
  {
   "cell_type": "code",
   "execution_count": 1,
   "id": "0b177f12",
   "metadata": {},
   "outputs": [
    {
     "name": "stdout",
     "output_type": "stream",
     "text": [
      "in...in...incredible?\n",
      "en...en...enthusiastic?\n",
      "ou...ou...outstanding?\n"
     ]
    }
   ],
   "source": [
    "def stutter(word):\n",
    "    out=2*(word[:2]+'...')+word+'?'\n",
    "    print(out)\n",
    "stutter(\"incredible\")\n",
    "stutter(\"enthusiastic\")\n",
    "stutter(\"outstanding\")"
   ]
  },
  {
   "cell_type": "markdown",
   "id": "09f45ffa",
   "metadata": {},
   "source": [
    "#### 2.Create a function that takes an angle in radians and returns the corresponding angle in degrees rounded to one decimal place.\n",
    "#### Examples\n",
    "#### radians_to_degrees(1) ➞ 57.3\n",
    "#### radians_to_degrees(20) ➞ 1145.9\n",
    "#### radians_to_degrees(50) ➞ 2864.8\n",
    "**ANS:**"
   ]
  },
  {
   "cell_type": "code",
   "execution_count": 2,
   "id": "37b8e334",
   "metadata": {},
   "outputs": [
    {
     "name": "stdout",
     "output_type": "stream",
     "text": [
      "57.3\n",
      "1145.9\n",
      "2864.8\n"
     ]
    }
   ],
   "source": [
    "import math\n",
    "def rad_to_deg(rad):\n",
    "    deg=(180/math.pi)*rad\n",
    "    print(round(deg,1))\n",
    "rad_to_deg(1)\n",
    "rad_to_deg(20)\n",
    "rad_to_deg(50)"
   ]
  },
  {
   "cell_type": "markdown",
   "id": "69662377",
   "metadata": {},
   "source": [
    "#### 3. In this challenge, establish if a given integer num is a Curzon number. If 1 plus 2 elevated to num is exactly divisible by 1 plus 2 multiplied by num, then num is a Curzon number.\n",
    "#### Given a non-negative integer num, implement a function that returns True if num is a Curzon number, or False otherwise.\n",
    "#### Examples\n",
    "#### is_curzon(5) ➞ True\n",
    "####  # 2 ** 5 + 1 = 33\n",
    "#### # 2 * 5 + 1 = 11\n",
    "#### # 33 is a multiple of 11\n",
    "#### is_curzon(10) ➞ False\n",
    "#### # 2 ** 10 + 1 = 1025\n",
    "#### # 2 * 10 + 1 = 21\n",
    "#### # 1025 is not a multiple of 21\n",
    "#### is_curzon(14) ➞ True\n",
    "#### # 2 ** 14 + 1 = 16385\n",
    "#### # 2 * 14 + 1 = 29\n",
    "#### # 16385 is a multiple of 29\n",
    "**ANS:**"
   ]
  },
  {
   "cell_type": "code",
   "execution_count": 3,
   "id": "8e521a1b",
   "metadata": {},
   "outputs": [
    {
     "name": "stdout",
     "output_type": "stream",
     "text": [
      "33 is a multiple of 11\n",
      "1025 is not a multiple of 21\n",
      "16385 is a multiple of 29\n"
     ]
    }
   ],
   "source": [
    "def is_curzon(num):\n",
    "    n=2**num+1\n",
    "    d=2*num+1\n",
    "    if n%d==0:\n",
    "        print(f'{n} is a multiple of {d}')\n",
    "    else:\n",
    "        print(f'{n} is not a multiple of {d}')\n",
    "is_curzon(5)\n",
    "is_curzon(10)\n",
    "is_curzon(14)"
   ]
  },
  {
   "attachments": {},
   "cell_type": "markdown",
   "id": "9f62f834",
   "metadata": {},
   "source": [
    "#### 4.Given the side length x find the area of a hexagon.\n",
    "#### Examples\n",
    "#### area_of_hexagon(1) ➞ 2.6\n",
    "#### area_of_hexagon(2) ➞ 10.4\n",
    "#### area_of_hexagon(3) ➞ 23.4\n",
    "**ANS:**"
   ]
  },
  {
   "cell_type": "code",
   "execution_count": 4,
   "id": "681cfc95",
   "metadata": {},
   "outputs": [
    {
     "name": "stdout",
     "output_type": "stream",
     "text": [
      "2.6\n",
      "10.4\n",
      "23.4\n"
     ]
    }
   ],
   "source": [
    "def area_of_hexagon(s):\n",
    "    out=3*(3**0.5)*(s*s)\n",
    "    print(round(out/2,1))\n",
    "area_of_hexagon(1)\n",
    "area_of_hexagon(2)\n",
    "area_of_hexagon(3)"
   ]
  },
  {
   "cell_type": "markdown",
   "id": "32b22471",
   "metadata": {},
   "source": [
    "#### 5. Create a function that returns a base-2 (binary) representation of a base-10 (decimal) string number. To convert is simple: ((2) means base-2 and (10) means base-10) 010101001(2) = 1 + 8 + 32 + 128.\n",
    "#### Going from right to left, the value of the most right bit is 1, now from that every bit to the left will be x2 the value, value of an 8 bit binary numbers are (256, 128, 64, 32, 16, 8, 4, 2, 1).\n",
    "#### Examples\n",
    "#### binary(1) ➞ \"1\"\n",
    "#### # 1`*`1 = 1\n",
    "#### binary(5) ➞ \"101\"\n",
    "#### # 1`*`1 + 1`*`4 = 5\n",
    "#### binary(10) ➞ \"1010\"\n",
    "#### # 1`*`2 + 1`*`8 = 10\n",
    "**ANS:**"
   ]
  },
  {
   "cell_type": "code",
   "execution_count": 5,
   "id": "08db32b4",
   "metadata": {},
   "outputs": [
    {
     "name": "stdout",
     "output_type": "stream",
     "text": [
      "1\n",
      "101\n",
      "1010\n"
     ]
    }
   ],
   "source": [
    "def binary(num):\n",
    "    out=bin(num)\n",
    "    print(out[2:])\n",
    "binary(1)\n",
    "binary(5)\n",
    "binary(10)"
   ]
  },
  {
   "cell_type": "code",
   "execution_count": null,
   "id": "25fd89c8",
   "metadata": {},
   "outputs": [],
   "source": []
  }
 ],
 "metadata": {
  "kernelspec": {
   "display_name": "Python 3 (ipykernel)",
   "language": "python",
   "name": "python3"
  },
  "language_info": {
   "codemirror_mode": {
    "name": "ipython",
    "version": 3
   },
   "file_extension": ".py",
   "mimetype": "text/x-python",
   "name": "python",
   "nbconvert_exporter": "python",
   "pygments_lexer": "ipython3",
   "version": "3.10.0"
  }
 },
 "nbformat": 4,
 "nbformat_minor": 5
}

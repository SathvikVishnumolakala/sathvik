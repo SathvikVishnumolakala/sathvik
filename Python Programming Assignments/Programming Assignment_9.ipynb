{
 "cells": [
  {
   "cell_type": "markdown",
   "id": "ca79c110",
   "metadata": {},
   "source": [
    "#### 1.\tWrite a Python program to check if the given number is a Disarium Number?\n",
    "**ANS:**"
   ]
  },
  {
   "cell_type": "code",
   "execution_count": 2,
   "id": "bc9ba5c8",
   "metadata": {},
   "outputs": [
    {
     "name": "stdout",
     "output_type": "stream",
     "text": [
      "175\n",
      "Disarium Number\n"
     ]
    }
   ],
   "source": [
    "n=int(input())\n",
    "s=str(n)\n",
    "o=0\n",
    "for i in range(len(s)):\n",
    "    o=o+int(s[i])**(i+1)\n",
    "if o==n:\n",
    "    print(\"Disarium Number\")\n",
    "else:\n",
    "    print(\"Not Disarium Number\")"
   ]
  },
  {
   "cell_type": "markdown",
   "id": "e807b9b6",
   "metadata": {},
   "source": [
    "#### 2.\tWrite a Python program to print all disarium numbers between 1 to 100?\n",
    "**ANS:**"
   ]
  },
  {
   "cell_type": "code",
   "execution_count": 4,
   "id": "275afd92",
   "metadata": {},
   "outputs": [
    {
     "name": "stdout",
     "output_type": "stream",
     "text": [
      "1,2,3,4,5,6,7,8,9,89,"
     ]
    }
   ],
   "source": [
    "def Disarium(n):\n",
    "    s=str(n)\n",
    "    o=0\n",
    "    for i in range(len(s)):\n",
    "        o=o+int(s[i])**(i+1)\n",
    "    if o==n:\n",
    "        return True\n",
    "    else:\n",
    "        return False\n",
    "for i in range(1,101):\n",
    "    if Disarium(i)==True:\n",
    "        print(i,end=',')"
   ]
  },
  {
   "cell_type": "markdown",
   "id": "2f9700ec",
   "metadata": {},
   "source": [
    "#### 3.\tWrite a Python program to check if the given number is Happy Number?\n",
    "**ANS:**"
   ]
  },
  {
   "cell_type": "code",
   "execution_count": 9,
   "id": "c2d4f360",
   "metadata": {},
   "outputs": [
    {
     "name": "stdout",
     "output_type": "stream",
     "text": [
      "Enter a Number: 7\n",
      "7 is a Happy Number\n",
      "Enter a Number: 00\n",
      "00 is not a Happy Number\n"
     ]
    }
   ],
   "source": [
    "def HappyNumber():\n",
    "    n = input('Enter a Number: ')\n",
    "    num = n\n",
    "    t = set()   \n",
    "    while True:\n",
    "        if n != '1' and str(n) not in t:\n",
    "            t.add(n)\n",
    "            sum = 0\n",
    "            for i in range(len((n))):\n",
    "                sum = sum + int(n[i])**2\n",
    "            n = str(sum)\n",
    "        elif str(n) in t:\n",
    "            print(f'{num} is not a Happy Number')\n",
    "            break\n",
    "        else:\n",
    "            print(f'{num} is a Happy Number')\n",
    "            break\n",
    "\n",
    "HappyNumber()\n",
    "HappyNumber()"
   ]
  },
  {
   "cell_type": "markdown",
   "id": "4c24a65c",
   "metadata": {},
   "source": [
    "#### 4.\tWrite a Python program to print all happy numbers between 1 and 100?\n",
    "**ANS:**"
   ]
  },
  {
   "cell_type": "code",
   "execution_count": 11,
   "id": "6a21c90d",
   "metadata": {},
   "outputs": [
    {
     "name": "stdout",
     "output_type": "stream",
     "text": [
      "1,7,10,13,19,23,28,31,32,44,49,68,70,79,82,86,91,94,97,100,"
     ]
    }
   ],
   "source": [
    "def HappyNumber(n):\n",
    "    n=str(n)\n",
    "    t = set()   \n",
    "    while True:\n",
    "        if n != '1' and str(n) not in t:\n",
    "            t.add(n)\n",
    "            sum = 0\n",
    "            for i in range(len((n))):\n",
    "                sum = sum + int(n[i])**2\n",
    "            n = str(sum)\n",
    "        elif str(n) in t:\n",
    "            return False\n",
    "            break\n",
    "        else:\n",
    "            return True\n",
    "            break\n",
    "\n",
    "for i in range(1,101):\n",
    "    if HappyNumber(i)==True:\n",
    "        print(i,end=',')"
   ]
  },
  {
   "cell_type": "markdown",
   "id": "8aa69e2c",
   "metadata": {},
   "source": [
    "#### 5.\tWrite a Python program to determine whether the given number is a Harshad Number?\n",
    "**ANS:**"
   ]
  },
  {
   "cell_type": "code",
   "execution_count": 2,
   "id": "4a20834b",
   "metadata": {},
   "outputs": [
    {
     "name": "stdout",
     "output_type": "stream",
     "text": [
      "Harshaad Number\n",
      "Not Harshad Number\n"
     ]
    }
   ],
   "source": [
    "def harshad(n):\n",
    "    k=str(n)\n",
    "    s=0\n",
    "    for i in k:\n",
    "        s=s+int(i)\n",
    "    if n%s==0:\n",
    "        print(\"Harshaad Number\")\n",
    "    else:\n",
    "        print(\"Not Harshad Number\")\n",
    "harshad(120)\n",
    "harshad(22)"
   ]
  },
  {
   "cell_type": "markdown",
   "id": "607d1ebd",
   "metadata": {},
   "source": [
    "#### 6.\tWrite a Python program to print all pronic numbers between 1 and 100?\n",
    "**ANS:**"
   ]
  },
  {
   "cell_type": "code",
   "execution_count": 3,
   "id": "bf2701f0",
   "metadata": {},
   "outputs": [
    {
     "name": "stdout",
     "output_type": "stream",
     "text": [
      "2\n",
      "6\n",
      "12\n",
      "20\n",
      "30\n",
      "42\n",
      "56\n",
      "72\n",
      "90\n"
     ]
    }
   ],
   "source": [
    "def pronic(n):\n",
    "    for i in range(1,n):\n",
    "        if i*(i+1)==n:\n",
    "            return True\n",
    "for i in range(1,101):\n",
    "    if pronic(i)==True:\n",
    "        print(i)"
   ]
  },
  {
   "cell_type": "code",
   "execution_count": null,
   "id": "0c469562",
   "metadata": {},
   "outputs": [],
   "source": []
  }
 ],
 "metadata": {
  "kernelspec": {
   "display_name": "Python 3 (ipykernel)",
   "language": "python",
   "name": "python3"
  },
  "language_info": {
   "codemirror_mode": {
    "name": "ipython",
    "version": 3
   },
   "file_extension": ".py",
   "mimetype": "text/x-python",
   "name": "python",
   "nbconvert_exporter": "python",
   "pygments_lexer": "ipython3",
   "version": "3.10.0"
  }
 },
 "nbformat": 4,
 "nbformat_minor": 5
}

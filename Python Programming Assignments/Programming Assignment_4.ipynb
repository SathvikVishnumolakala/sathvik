{
 "cells": [
  {
   "cell_type": "markdown",
   "id": "e47a7e1a",
   "metadata": {},
   "source": [
    "#### 1.\tWrite a Python Program to Find the Factorial of a Number?\n",
    "**ANS:**"
   ]
  },
  {
   "cell_type": "code",
   "execution_count": 1,
   "id": "4be41fbe",
   "metadata": {},
   "outputs": [
    {
     "name": "stdout",
     "output_type": "stream",
     "text": [
      "6\n"
     ]
    }
   ],
   "source": [
    "def fact(n):\n",
    "    if n==0 or n==1:\n",
    "        return 1\n",
    "    else:\n",
    "        return n*fact(n-1)\n",
    "print(fact(3))"
   ]
  },
  {
   "cell_type": "markdown",
   "id": "e39dbcc5",
   "metadata": {},
   "source": [
    "#### 2.\tWrite a Python Program to Display the multiplication Table?\n",
    "**ANS:**"
   ]
  },
  {
   "cell_type": "code",
   "execution_count": 2,
   "id": "e5d69074",
   "metadata": {},
   "outputs": [
    {
     "name": "stdout",
     "output_type": "stream",
     "text": [
      "9\n",
      "9 X 1 = 9\n",
      "9 X 2 = 18\n",
      "9 X 3 = 27\n",
      "9 X 4 = 36\n",
      "9 X 5 = 45\n",
      "9 X 6 = 54\n",
      "9 X 7 = 63\n",
      "9 X 8 = 72\n",
      "9 X 9 = 81\n",
      "9 X 10 = 90\n"
     ]
    }
   ],
   "source": [
    "n=int(input())\n",
    "for i in range(1,11):\n",
    "    print(f'{n} X {i} = {n*i}')"
   ]
  },
  {
   "cell_type": "markdown",
   "id": "0e4fb6a6",
   "metadata": {},
   "source": [
    "#### 3.\tWrite a Python Program to Print the Fibonacci sequence?\n",
    "**ANS:**"
   ]
  },
  {
   "cell_type": "code",
   "execution_count": 3,
   "id": "614c338e",
   "metadata": {},
   "outputs": [
    {
     "name": "stdout",
     "output_type": "stream",
     "text": [
      "6\n",
      "[0, 1, 1, 2, 3, 5]\n"
     ]
    }
   ],
   "source": [
    "c=int(input())\n",
    "l=[0,1]\n",
    "if c<=2:\n",
    "    print(l)\n",
    "else:\n",
    "    for i in range(c):\n",
    "        if i>=2:\n",
    "            l.append(l[i-1]+l[i-2])\n",
    "    print(l)"
   ]
  },
  {
   "cell_type": "markdown",
   "id": "13e882c9",
   "metadata": {},
   "source": [
    "#### 4.\tWrite a Python Program to Check Armstrong Number?\n",
    "**ANS:**"
   ]
  },
  {
   "cell_type": "code",
   "execution_count": 4,
   "id": "789db19d",
   "metadata": {},
   "outputs": [
    {
     "name": "stdout",
     "output_type": "stream",
     "text": [
      "153\n",
      "Armstrong Number\n"
     ]
    }
   ],
   "source": [
    "num=int(input())\n",
    "s=0\n",
    "for i in str(num):\n",
    "    s=s+int(i)**3\n",
    "if s==num:\n",
    "    print(\"Armstrong Number\")\n",
    "else:\n",
    "    print(\"Not Armstrong Number\")"
   ]
  },
  {
   "cell_type": "markdown",
   "id": "1c8ddedd",
   "metadata": {},
   "source": [
    "#### 5.\tWrite a Python Program to Find Armstrong Number in an Interval?\n",
    "**ANS:**"
   ]
  },
  {
   "cell_type": "code",
   "execution_count": 5,
   "id": "e71af551",
   "metadata": {},
   "outputs": [
    {
     "name": "stdout",
     "output_type": "stream",
     "text": [
      "[1, 153, 370, 371, 407]\n"
     ]
    }
   ],
   "source": [
    "def Arm(num):\n",
    "    s=0\n",
    "    for i in str(num):\n",
    "        s=s+int(i)**3\n",
    "    if s==num:\n",
    "        return True\n",
    "    else:\n",
    "        return False\n",
    "l=[]\n",
    "for i in range(1,1000):\n",
    "    if Arm(i)==True:\n",
    "        l.append(i)\n",
    "print(l)"
   ]
  },
  {
   "cell_type": "markdown",
   "id": "8788f134",
   "metadata": {},
   "source": [
    "#### 6.\tWrite a Python Program to Find the Sum of Natural Numbers?\n",
    "**ANS:**"
   ]
  },
  {
   "cell_type": "code",
   "execution_count": 6,
   "id": "1eb170ae",
   "metadata": {},
   "outputs": [
    {
     "name": "stdout",
     "output_type": "stream",
     "text": [
      "5\n",
      "15\n"
     ]
    }
   ],
   "source": [
    "n=int(input())\n",
    "print(int(n*((n+1)/2)))"
   ]
  },
  {
   "cell_type": "code",
   "execution_count": null,
   "id": "f1539e8b",
   "metadata": {},
   "outputs": [],
   "source": []
  }
 ],
 "metadata": {
  "kernelspec": {
   "display_name": "Python 3 (ipykernel)",
   "language": "python",
   "name": "python3"
  },
  "language_info": {
   "codemirror_mode": {
    "name": "ipython",
    "version": 3
   },
   "file_extension": ".py",
   "mimetype": "text/x-python",
   "name": "python",
   "nbconvert_exporter": "python",
   "pygments_lexer": "ipython3",
   "version": "3.10.0"
  }
 },
 "nbformat": 4,
 "nbformat_minor": 5
}

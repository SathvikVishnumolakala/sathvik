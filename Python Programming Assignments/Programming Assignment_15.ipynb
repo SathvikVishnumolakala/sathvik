{
 "cells": [
  {
   "cell_type": "markdown",
   "id": "185d9a80",
   "metadata": {},
   "source": [
    "#### 1.Please write a program using generator to print the numbers which can be divisible by 5 and 7 between 0 and n in comma separated form while n is input by console.\n",
    "Example:                                                                                                                       \n",
    "If the following n is given as input to the program:                                                                           \n",
    "100                                                                                                                             \n",
    "Then, the output of the program should be:                                                                                     \n",
    "0,35,70                                                                                                                         \n",
    "**ANS:**"
   ]
  },
  {
   "cell_type": "code",
   "execution_count": 1,
   "id": "69e39a1d",
   "metadata": {},
   "outputs": [
    {
     "name": "stdout",
     "output_type": "stream",
     "text": [
      "0, 35, 70, "
     ]
    }
   ],
   "source": [
    "def showDiv(num):\n",
    "    for i in range(0,num):\n",
    "        if (i%5 == 0) and (i%7 == 0):\n",
    "            yield i\n",
    "for i in showDiv(100):\n",
    "    print(str(i)+',',end=' ')"
   ]
  },
  {
   "cell_type": "markdown",
   "id": "05172cea",
   "metadata": {},
   "source": [
    "#### 2.Please write a program using generator to print the even numbers between 0 and n in comma separated form while n is input by console.\n",
    "Example:                                                                                                                       \n",
    "If the following n is given as input to the program:                                                                           \n",
    "10                                                                                                                             \n",
    "Then, the output of the program should be:                                                                                     \n",
    "0,2,4,6,8,10                                                                                                                   \n",
    "**ANS:**"
   ]
  },
  {
   "cell_type": "code",
   "execution_count": 2,
   "id": "cbab01de",
   "metadata": {},
   "outputs": [
    {
     "name": "stdout",
     "output_type": "stream",
     "text": [
      "0 2 4 6 8 10 "
     ]
    }
   ],
   "source": [
    "def genEven(in_num):\n",
    "    for i in range(in_num+1):\n",
    "        if i%2 == 0:\n",
    "            yield i\n",
    "\n",
    "for i in genEven(10):\n",
    "    print(i,end=' ')"
   ]
  },
  {
   "cell_type": "markdown",
   "id": "9891463d",
   "metadata": {},
   "source": [
    "#### 3.The Fibonacci Sequence is computed based on the following formula:\n",
    "f(n)=0 if n=0                                                                                                                   \n",
    "f(n)=1 if n=1                                                                                                                   \n",
    "f(n)=f(n-1)+f(n-2) if n>1                                                                                                       \n",
    "Please write a program using list comprehension to print the Fibonacci Sequence in comma separated form with a given n input by console.                                                                                                                       \n",
    "Example:                                                                                                                       \n",
    "If the following n is given as input to the program:                                                                           \n",
    "7                                                                                                                               \n",
    "Then, the output of the program should be:                                                                                     \n",
    "0,1,1,2,3,5,8,13                                                                                                               \n",
    "**ANS:**"
   ]
  },
  {
   "cell_type": "code",
   "execution_count": 3,
   "id": "baaf1ae4",
   "metadata": {},
   "outputs": [
    {
     "name": "stdout",
     "output_type": "stream",
     "text": [
      "[0, 1, 1, 2, 3, 5, 8, 13, 21, 34, 55, 89, 144, 233, 377, 610, 987, 1597, 2584, 4181]\n"
     ]
    }
   ],
   "source": [
    "def Fib(num):\n",
    "    if num == 0:\n",
    "        return 0\n",
    "    elif num == 1:\n",
    "        return 1\n",
    "    else:\n",
    "        return Fib(num-1)+Fib(num-2)\n",
    "    \n",
    "print([Fib(x) for x in range(20)])"
   ]
  },
  {
   "cell_type": "markdown",
   "id": "ce8ff6df",
   "metadata": {},
   "source": [
    "#### 4.Assuming that we have some email addresses in the \"username@companyname.com\" format, please write program to print the user name of a given email address. Both user names and company names are composed of letters only.                                            \n",
    "Example:                                                                                                                      \n",
    "If the following email address is given as input to the program:                                                               \n",
    "john@google.com                                                                                                                 \n",
    "Then, the output of the program should be:                                                                                     \n",
    "john                                                                                                                           \n",
    "**ANS:**"
   ]
  },
  {
   "cell_type": "code",
   "execution_count": 4,
   "id": "c9afb2d7",
   "metadata": {},
   "outputs": [
    {
     "name": "stdout",
     "output_type": "stream",
     "text": [
      "john@mail.com\n",
      "john\n"
     ]
    }
   ],
   "source": [
    "mail=input()\n",
    "for i in range(len(mail)):\n",
    "    if mail[i]=='@':\n",
    "        c=i\n",
    "print(mail[:c])"
   ]
  },
  {
   "cell_type": "markdown",
   "id": "6275be1a",
   "metadata": {},
   "source": [
    "#### 5.Define a class named Shape and its subclass Square. The Square class has an init function which takes a length as argument. Both classes have a area function which can print the area of the shape where Shape's area is 0 by default.\n",
    "**ANS:**"
   ]
  },
  {
   "cell_type": "code",
   "execution_count": 5,
   "id": "c52b9010",
   "metadata": {},
   "outputs": [
    {
     "name": "stdout",
     "output_type": "stream",
     "text": [
      "160000\n"
     ]
    }
   ],
   "source": [
    "class shape:\n",
    "    def area(self):\n",
    "        return 0\n",
    "class Square(shape):\n",
    "    def __init__(self,length):\n",
    "        self.length=length\n",
    "    def area(self):\n",
    "        return self.length*self.length\n",
    "    \n",
    "s=Square(400)\n",
    "print(s.area())"
   ]
  },
  {
   "cell_type": "code",
   "execution_count": null,
   "id": "403fd60e",
   "metadata": {},
   "outputs": [],
   "source": []
  }
 ],
 "metadata": {
  "kernelspec": {
   "display_name": "Python 3 (ipykernel)",
   "language": "python",
   "name": "python3"
  },
  "language_info": {
   "codemirror_mode": {
    "name": "ipython",
    "version": 3
   },
   "file_extension": ".py",
   "mimetype": "text/x-python",
   "name": "python",
   "nbconvert_exporter": "python",
   "pygments_lexer": "ipython3",
   "version": "3.10.0"
  }
 },
 "nbformat": 4,
 "nbformat_minor": 5
}

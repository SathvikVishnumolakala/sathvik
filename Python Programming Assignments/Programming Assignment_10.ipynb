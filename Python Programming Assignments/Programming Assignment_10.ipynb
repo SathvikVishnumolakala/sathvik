{
 "cells": [
  {
   "cell_type": "markdown",
   "id": "289f5f60",
   "metadata": {},
   "source": [
    "#### 1.\tWrite a Python program to find sum of elements in list?\n",
    "**ANS:**"
   ]
  },
  {
   "cell_type": "code",
   "execution_count": 1,
   "id": "e48d319d",
   "metadata": {},
   "outputs": [
    {
     "name": "stdout",
     "output_type": "stream",
     "text": [
      "21\n"
     ]
    }
   ],
   "source": [
    "l=[1,2,3,4,5,6]\n",
    "s=0\n",
    "for i in l:\n",
    "    s+=i\n",
    "print(s)"
   ]
  },
  {
   "cell_type": "markdown",
   "id": "22329635",
   "metadata": {},
   "source": [
    "#### 2.\tWrite a Python program to  Multiply all numbers in the list?\n",
    "**ANS:**"
   ]
  },
  {
   "cell_type": "code",
   "execution_count": 2,
   "id": "44968b5d",
   "metadata": {},
   "outputs": [
    {
     "name": "stdout",
     "output_type": "stream",
     "text": [
      "720\n"
     ]
    }
   ],
   "source": [
    "l=[1,2,3,4,5,6]\n",
    "m=1\n",
    "for i in l:\n",
    "    m*=i\n",
    "print(m)"
   ]
  },
  {
   "cell_type": "markdown",
   "id": "7d157547",
   "metadata": {},
   "source": [
    "#### 3.\tWrite a Python program to find smallest number in a list?\n",
    "**ANS:**"
   ]
  },
  {
   "cell_type": "code",
   "execution_count": 3,
   "id": "1977801b",
   "metadata": {},
   "outputs": [
    {
     "name": "stdout",
     "output_type": "stream",
     "text": [
      "1\n"
     ]
    }
   ],
   "source": [
    "l=[1,2,3,4,5,6]\n",
    "small=l[0]\n",
    "for i in l:\n",
    "    if i<small:\n",
    "        small=i\n",
    "print(small)"
   ]
  },
  {
   "cell_type": "markdown",
   "id": "9bf4e2c2",
   "metadata": {},
   "source": [
    "####  4.\tWrite a Python program to find largest number in a list?\n",
    "**ANS:**"
   ]
  },
  {
   "cell_type": "code",
   "execution_count": 4,
   "id": "f0150bae",
   "metadata": {},
   "outputs": [
    {
     "name": "stdout",
     "output_type": "stream",
     "text": [
      "6\n"
     ]
    }
   ],
   "source": [
    "l=[1,2,3,4,5,6]\n",
    "large=l[0]\n",
    "for i in l:\n",
    "    if i>large:\n",
    "        large=i\n",
    "print(large)"
   ]
  },
  {
   "cell_type": "markdown",
   "id": "b8a4c24d",
   "metadata": {},
   "source": [
    "#### 5.\tWrite a Python program to find second largest number in a list?\n",
    "**ANS:**"
   ]
  },
  {
   "cell_type": "code",
   "execution_count": 7,
   "id": "7c2f4c93",
   "metadata": {},
   "outputs": [
    {
     "name": "stdout",
     "output_type": "stream",
     "text": [
      "87\n"
     ]
    }
   ],
   "source": [
    "l=[1,2,87,39,45,22,90]\n",
    "l.sort()\n",
    "print(l[-2])"
   ]
  },
  {
   "cell_type": "markdown",
   "id": "8fb4f380",
   "metadata": {},
   "source": [
    "#### 6.\tWrite a Python program to find N largest elements from a list?\n",
    "**ANS:**"
   ]
  },
  {
   "cell_type": "code",
   "execution_count": 9,
   "id": "b8204605",
   "metadata": {},
   "outputs": [
    {
     "name": "stdout",
     "output_type": "stream",
     "text": [
      "3\n",
      "[45, 87, 90]\n"
     ]
    }
   ],
   "source": [
    "l=[1,2,87,39,45,22,90]\n",
    "n=int(input())\n",
    "l.sort()\n",
    "print(l[-n:])"
   ]
  },
  {
   "cell_type": "markdown",
   "id": "c3c5a2cc",
   "metadata": {},
   "source": [
    "#### 7.\tWrite a Python program to print even numbers in a list?\n",
    "**ANS:**"
   ]
  },
  {
   "cell_type": "code",
   "execution_count": 11,
   "id": "0511dbdf",
   "metadata": {},
   "outputs": [
    {
     "name": "stdout",
     "output_type": "stream",
     "text": [
      "4 5 2 3 7 9\n",
      "5\n",
      "3\n",
      "9\n"
     ]
    }
   ],
   "source": [
    "l=list(map(int,input().split()))\n",
    "for i in range(len(l)):\n",
    "    if i%2!=0:\n",
    "        print(l[i])"
   ]
  },
  {
   "cell_type": "markdown",
   "id": "8042c787",
   "metadata": {},
   "source": [
    "#### 8.\tWrite a Python program to print odd numbers in a List?\n",
    "**ANS:**"
   ]
  },
  {
   "cell_type": "code",
   "execution_count": 12,
   "id": "78de6121",
   "metadata": {},
   "outputs": [
    {
     "name": "stdout",
     "output_type": "stream",
     "text": [
      "34 55 6 7 8 90 3\n",
      "34\n",
      "6\n",
      "8\n",
      "3\n"
     ]
    }
   ],
   "source": [
    "l=list(map(int,input().split()))\n",
    "for i in range(len(l)):\n",
    "    if i%2==0:\n",
    "        print(l[i])"
   ]
  },
  {
   "cell_type": "markdown",
   "id": "80739f4a",
   "metadata": {},
   "source": [
    "#### 9.\tWrite a Python program to Remove empty List from List?\n",
    "**ANS:**"
   ]
  },
  {
   "cell_type": "code",
   "execution_count": 13,
   "id": "d26e31f6",
   "metadata": {},
   "outputs": [
    {
     "data": {
      "text/plain": [
       "[13, 324, 54, 6, 4, 9, 3, 4, 2]"
      ]
     },
     "execution_count": 13,
     "metadata": {},
     "output_type": "execute_result"
    }
   ],
   "source": [
    "l=[13,324,54,6,4,9,[],3,4,2]\n",
    "l.remove([])\n",
    "l"
   ]
  },
  {
   "cell_type": "markdown",
   "id": "b3ea2a51",
   "metadata": {},
   "source": [
    "#### 10.\tWrite a Python program to Cloning or Copying a list?\n",
    "**ANS:**"
   ]
  },
  {
   "cell_type": "code",
   "execution_count": 18,
   "id": "bc7ccca8",
   "metadata": {},
   "outputs": [
    {
     "name": "stdout",
     "output_type": "stream",
     "text": [
      "[1, 1, 3, 5, 6, 8, 7, 8, 7] 1396858363520\n",
      "[1, 1, 3, 5, 6, 8, 7, 8, 7] 1396858363136\n"
     ]
    }
   ],
   "source": [
    "l=[1,1,3,5,6,8,7,8,7]\n",
    "copy=l.copy()\n",
    "print(l,id(l))\n",
    "print(copy,id(copy))"
   ]
  },
  {
   "cell_type": "markdown",
   "id": "9778300a",
   "metadata": {},
   "source": [
    "#### 11.\tWrite a Python program to Count occurrences of an element in a list?\n",
    "**ANS:**"
   ]
  },
  {
   "cell_type": "code",
   "execution_count": 19,
   "id": "264ab732",
   "metadata": {},
   "outputs": [
    {
     "name": "stdout",
     "output_type": "stream",
     "text": [
      "element to find:4\n",
      "4 is repeated 5 times\n"
     ]
    }
   ],
   "source": [
    "l=[1,3,4,3,4,4,4,4,6,7]\n",
    "n=int(input(\"element to find:\"))\n",
    "c=0\n",
    "for i in l:\n",
    "    if i==n:\n",
    "        c+=1\n",
    "print(f\"{n} is repeated {c} times\")"
   ]
  },
  {
   "cell_type": "code",
   "execution_count": null,
   "id": "5228180d",
   "metadata": {},
   "outputs": [],
   "source": []
  }
 ],
 "metadata": {
  "kernelspec": {
   "display_name": "Python 3 (ipykernel)",
   "language": "python",
   "name": "python3"
  },
  "language_info": {
   "codemirror_mode": {
    "name": "ipython",
    "version": 3
   },
   "file_extension": ".py",
   "mimetype": "text/x-python",
   "name": "python",
   "nbconvert_exporter": "python",
   "pygments_lexer": "ipython3",
   "version": "3.10.0"
  }
 },
 "nbformat": 4,
 "nbformat_minor": 5
}

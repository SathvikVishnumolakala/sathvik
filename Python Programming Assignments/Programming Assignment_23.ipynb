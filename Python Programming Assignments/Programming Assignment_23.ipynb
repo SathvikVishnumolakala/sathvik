{
 "cells": [
  {
   "cell_type": "markdown",
   "id": "35dcce52",
   "metadata": {},
   "source": [
    "#### 1.Create a function that takes a number as an argument and returns True or False depending on whether the number is symmetrical or not. A number is symmetrical when it is the same as its reverse.\n",
    "#### Examples\n",
    "#### is_symmetrical(7227) ➞ True\n",
    "#### is_symmetrical(12567) ➞ False\n",
    "#### is_symmetrical(44444444) ➞ True\n",
    "#### is_symmetrical(9939) ➞ False\n",
    "#### is_symmetrical(1112111) ➞ True\n",
    "**ANS:**"
   ]
  },
  {
   "cell_type": "code",
   "execution_count": 1,
   "id": "8b584809",
   "metadata": {},
   "outputs": [
    {
     "name": "stdout",
     "output_type": "stream",
     "text": [
      "True\n",
      "False\n",
      "True\n",
      "False\n",
      "True\n"
     ]
    }
   ],
   "source": [
    "def is_symmetrical(num):\n",
    "    s=str(num)\n",
    "    if s==s[::-1]:\n",
    "        print(True)\n",
    "    else:\n",
    "        print(False)\n",
    "is_symmetrical(7227)\n",
    "is_symmetrical(12567)\n",
    "is_symmetrical(44444444)\n",
    "is_symmetrical(9939)\n",
    "is_symmetrical(1112111)"
   ]
  },
  {
   "cell_type": "markdown",
   "id": "985590f3",
   "metadata": {},
   "source": [
    "#### 2.Given a string of numbers separated by a comma and space, return the product of the numbers.\n",
    "#### Examples\n",
    "#### multiply_nums(\"2, 3\") ➞ 6\n",
    "#### multiply_nums(\"1, 2, 3, 4\") ➞ 24\n",
    "#### multiply_nums(\"54, 75, 453, 0\") ➞ 0\n",
    "#### multiply_nums(\"10, -2\") ➞ -20\n",
    "**ANS:**"
   ]
  },
  {
   "cell_type": "code",
   "execution_count": 2,
   "id": "11f2d57c",
   "metadata": {},
   "outputs": [
    {
     "name": "stdout",
     "output_type": "stream",
     "text": [
      "6\n",
      "24\n",
      "0\n",
      "-20\n"
     ]
    }
   ],
   "source": [
    "def multiply_nums(s):\n",
    "    l=s.split(',')\n",
    "    o=1\n",
    "    for i in l:\n",
    "        o*=int(i)\n",
    "    print(o)\n",
    "multiply_nums(\"2, 3\")\n",
    "multiply_nums(\"1, 2, 3, 4\")\n",
    "multiply_nums(\"54, 75, 453, 0\")\n",
    "multiply_nums(\"10, -2\")"
   ]
  },
  {
   "cell_type": "markdown",
   "id": "835d732a",
   "metadata": {},
   "source": [
    "#### 3.Create a function that squares every digit of a number.\n",
    "#### Examples\n",
    "#### square_digits(9119) ➞ 811181\n",
    "#### square_digits(2483) ➞ 416649\n",
    "#### square_digits(3212) ➞ 9414\n",
    "#### Notes\n",
    "#### The function receives an integer and must return an integer.\n",
    "**ANS:**"
   ]
  },
  {
   "cell_type": "code",
   "execution_count": 3,
   "id": "462d1b35",
   "metadata": {},
   "outputs": [
    {
     "name": "stdout",
     "output_type": "stream",
     "text": [
      "811181\n",
      "416649\n",
      "9414\n"
     ]
    }
   ],
   "source": [
    "def square_digits(num):\n",
    "    s=str(num)\n",
    "    o=''\n",
    "    for i in s:\n",
    "        o+=str(int(i)**2)\n",
    "    print(o)\n",
    "square_digits(9119)\n",
    "square_digits(2483)\n",
    "square_digits(3212)"
   ]
  },
  {
   "cell_type": "markdown",
   "id": "ac6500fb",
   "metadata": {},
   "source": [
    "#### 4.Create a function that sorts a list and removes all duplicate items from it.\n",
    "#### Examples\n",
    "#### setify([1, 3, 3, 5, 5]) ➞ [1, 3, 5]\n",
    "#### setify([4, 4, 4, 4]) ➞ [4]\n",
    "#### setify([5, 7, 8, 9, 10, 15]) ➞ [5, 7, 8, 9, 10, 15]\n",
    "#### setify([3, 3, 3, 2, 1]) ➞ [1, 2, 3]\n",
    "**ANS:**"
   ]
  },
  {
   "cell_type": "code",
   "execution_count": 4,
   "id": "0c8f8d8e",
   "metadata": {},
   "outputs": [
    {
     "name": "stdout",
     "output_type": "stream",
     "text": [
      "[1, 3, 5]\n",
      "[4]\n",
      "[5, 7, 8, 9, 10, 15]\n",
      "[1, 2, 3]\n"
     ]
    }
   ],
   "source": [
    "def setify(l):\n",
    "    s=set(l)\n",
    "    o=[]\n",
    "    for i in s:\n",
    "        o.append(i)\n",
    "    print(o)\n",
    "setify([1, 3, 3, 5, 5])\n",
    "setify([4, 4, 4, 4])\n",
    "setify([5, 7, 8, 9, 10, 15])\n",
    "setify([3, 3, 3, 2, 1])"
   ]
  },
  {
   "cell_type": "markdown",
   "id": "0b3f9f99",
   "metadata": {},
   "source": [
    "#### 5.Create a function that returns the mean of all digits.\n",
    "#### Examples\n",
    "#### mean(42) ➞ 3\n",
    "#### mean(12345) ➞ 3\n",
    "#### mean(666) ➞ 6\n",
    "#### Notes\n",
    "* The mean of all digits is the sum of digits / how many digits there are (e.g. mean of digits in 512 is (5+1+2)/3(number of digits) = 8/3=2).\n",
    "* The mean will always be an integer.\n",
    "\n",
    "**ANS:**"
   ]
  },
  {
   "cell_type": "code",
   "execution_count": 5,
   "id": "c93e5349",
   "metadata": {},
   "outputs": [
    {
     "name": "stdout",
     "output_type": "stream",
     "text": [
      "3\n",
      "3\n",
      "6\n"
     ]
    }
   ],
   "source": [
    "def mean(num):\n",
    "    s=str(num)\n",
    "    o=0\n",
    "    for i in s:\n",
    "        o+=int(i)\n",
    "    o=o/len(s)\n",
    "    print(int(o))\n",
    "mean(42)\n",
    "mean(12345)\n",
    "mean(666)"
   ]
  },
  {
   "cell_type": "code",
   "execution_count": null,
   "id": "2a79921e",
   "metadata": {},
   "outputs": [],
   "source": []
  }
 ],
 "metadata": {
  "kernelspec": {
   "display_name": "Python 3 (ipykernel)",
   "language": "python",
   "name": "python3"
  },
  "language_info": {
   "codemirror_mode": {
    "name": "ipython",
    "version": 3
   },
   "file_extension": ".py",
   "mimetype": "text/x-python",
   "name": "python",
   "nbconvert_exporter": "python",
   "pygments_lexer": "ipython3",
   "version": "3.10.0"
  }
 },
 "nbformat": 4,
 "nbformat_minor": 5
}

{
 "cells": [
  {
   "cell_type": "markdown",
   "id": "f5ebac11",
   "metadata": {},
   "source": [
    "#### 1.\tWrite a Python Program to find sum of array?\n",
    "**ANS:**"
   ]
  },
  {
   "cell_type": "code",
   "execution_count": 1,
   "id": "54df0fb5",
   "metadata": {},
   "outputs": [
    {
     "name": "stdout",
     "output_type": "stream",
     "text": [
      "1 2 3 4 5\n",
      "15\n"
     ]
    }
   ],
   "source": [
    "l=list(map(int,input().split()))\n",
    "s=0\n",
    "for i in l:\n",
    "    s+=i\n",
    "print(s)"
   ]
  },
  {
   "cell_type": "markdown",
   "id": "43473e05",
   "metadata": {},
   "source": [
    "#### 2.\tWrite a Python Program to find largest element in an array?\n",
    "**ANS:**"
   ]
  },
  {
   "cell_type": "code",
   "execution_count": 2,
   "id": "12655274",
   "metadata": {},
   "outputs": [
    {
     "name": "stdout",
     "output_type": "stream",
     "text": [
      "3 4 4 5 52 \n",
      "52\n"
     ]
    }
   ],
   "source": [
    "l=list(map(int,input().split()))\n",
    "s=l[0]\n",
    "for i in l:\n",
    "    if s<i:\n",
    "        s=i\n",
    "print(s)"
   ]
  },
  {
   "cell_type": "markdown",
   "id": "42d66da4",
   "metadata": {},
   "source": [
    "#### 3.\tWrite a Python Program for array rotation?\n",
    "**ANS:**"
   ]
  },
  {
   "cell_type": "code",
   "execution_count": 3,
   "id": "ec31c677",
   "metadata": {},
   "outputs": [
    {
     "name": "stdout",
     "output_type": "stream",
     "text": [
      "1 3 4 5 6\n",
      "[1, 3, 4, 5, 6]\n",
      "[6, 5, 4, 3, 1]\n"
     ]
    }
   ],
   "source": [
    "l=list(map(int,input().split()))\n",
    "print(l)\n",
    "r=l[::-1]\n",
    "print(r)"
   ]
  },
  {
   "cell_type": "markdown",
   "id": "8274d0b0",
   "metadata": {},
   "source": [
    "#### 4.\tWrite a Python Program to Split the array and add the first part to the end?\n",
    "**ANS:**"
   ]
  },
  {
   "cell_type": "code",
   "execution_count": 4,
   "id": "0a3f3dd1",
   "metadata": {},
   "outputs": [
    {
     "name": "stdout",
     "output_type": "stream",
     "text": [
      "2 5 5 63\n",
      "[2, 5, 5, 63]\n",
      "65\n"
     ]
    }
   ],
   "source": [
    "l=list(map(int,input().split()))\n",
    "print(l)\n",
    "print(l[0]+l[-1])"
   ]
  },
  {
   "cell_type": "markdown",
   "id": "af2cb7ce",
   "metadata": {},
   "source": [
    "#### 5.\tWrite a Python Program to check if given array is Monotonic?\n",
    "**ANS:**"
   ]
  },
  {
   "cell_type": "code",
   "execution_count": 5,
   "id": "745b6241",
   "metadata": {},
   "outputs": [
    {
     "name": "stdout",
     "output_type": "stream",
     "text": [
      "2 3 4 5 66 21\n",
      "[2, 3, 4, 5, 66, 21]\n",
      "Not Monotonic\n"
     ]
    }
   ],
   "source": [
    "l=list(map(int,input().split()))\n",
    "print(l)\n",
    "inc,dec=0,0\n",
    "for i in range(len(l)-1):\n",
    "    if l[i]<=l[i+1]:\n",
    "        inc+=1\n",
    "    elif l[i]>=l[i+1]:\n",
    "        dec+=1\n",
    "if inc>0 and dec==0:\n",
    "    print(\"Monotonic\")\n",
    "elif inc==0 and dec>0:\n",
    "    print(\"Monotonic\")\n",
    "else:\n",
    "    print(\"Not Monotonic\")"
   ]
  },
  {
   "cell_type": "code",
   "execution_count": null,
   "id": "6ab5f479",
   "metadata": {},
   "outputs": [],
   "source": []
  }
 ],
 "metadata": {
  "kernelspec": {
   "display_name": "Python 3 (ipykernel)",
   "language": "python",
   "name": "python3"
  },
  "language_info": {
   "codemirror_mode": {
    "name": "ipython",
    "version": 3
   },
   "file_extension": ".py",
   "mimetype": "text/x-python",
   "name": "python",
   "nbconvert_exporter": "python",
   "pygments_lexer": "ipython3",
   "version": "3.10.0"
  }
 },
 "nbformat": 4,
 "nbformat_minor": 5
}

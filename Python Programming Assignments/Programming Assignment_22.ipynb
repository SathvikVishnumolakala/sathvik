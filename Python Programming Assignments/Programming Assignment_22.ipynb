{
 "cells": [
  {
   "cell_type": "markdown",
   "id": "fc560b45",
   "metadata": {},
   "source": [
    "#### 1.Create a function that takes three parameters where:\n",
    "•\tx is the start of the range (inclusive).\n",
    "•\ty is the end of the range (inclusive).\n",
    "•\tn is the divisor to be checked against.\n",
    "#### Return an ordered list with numbers in the range that are divisible by the third parameter n. Return an empty list if there are no numbers that are divisible by n.\n",
    "#### examples\n",
    "#### list_operation(1, 10, 3) ➞ [3, 6, 9]\n",
    "#### list_operation(7, 9, 2) ➞ [8]\n",
    "#### list_operation(15, 20, 7) ➞ []\n",
    "**ANS:**"
   ]
  },
  {
   "cell_type": "code",
   "execution_count": 1,
   "id": "389508c8",
   "metadata": {},
   "outputs": [
    {
     "name": "stdout",
     "output_type": "stream",
     "text": [
      "[3, 6, 9]\n",
      "[8]\n",
      "[]\n"
     ]
    }
   ],
   "source": [
    "def list_operation(i,e,r):\n",
    "    o=[]\n",
    "    for k in range(i,e):\n",
    "        if k%r==0:\n",
    "            o.append(k)\n",
    "    print(o)\n",
    "list_operation(1,10,3)\n",
    "list_operation(7,9,2)\n",
    "list_operation(15,20,7)"
   ]
  },
  {
   "cell_type": "markdown",
   "id": "efe7851a",
   "metadata": {},
   "source": [
    "#### 2.Create a function that takes in two lists and returns True if the second list follows the first list by one element, and False otherwise. In other words, determine if the second list is the first list shifted to the right by 1.\n",
    "#### Examples\n",
    "#### simon_says([1, 2], [5, 1]) ➞ True\n",
    "#### simon_says([1, 2], [5, 5]) ➞ False\n",
    "#### simon_says([1, 2, 3, 4, 5], [0, 1, 2, 3, 4]) ➞ True\n",
    "#### simon_says([1, 2, 3, 4, 5], [5, 5, 1, 2, 3]) ➞ False\n",
    "#### Notes\n",
    "*\tBoth input lists will be of the same length, and will have a minimum length of 2.\n",
    "*\tThe values of the 0-indexed element in the second list and the n-1th indexed element in the first list do not matter.\n"
   ]
  },
  {
   "cell_type": "code",
   "execution_count": 2,
   "id": "bb6990de",
   "metadata": {},
   "outputs": [
    {
     "name": "stdout",
     "output_type": "stream",
     "text": [
      "True\n",
      "False\n",
      "True\n",
      "False\n"
     ]
    }
   ],
   "source": [
    "def simon_says(l1,l2):\n",
    "    if len(l1) == len(l1) and len(l1) >=2 and len(l1) >=2:\n",
    "        if(l1[:-1] == l2[1:]):\n",
    "            print(True)\n",
    "        else:\n",
    "            print(False)\n",
    "simon_says([1, 2], [5, 1])\n",
    "simon_says([1, 2], [5, 5])\n",
    "simon_says([1, 2, 3, 4, 5], [0, 1, 2, 3, 4])\n",
    "simon_says([1, 2, 3, 4, 5], [5, 5, 1, 2, 3])"
   ]
  },
  {
   "cell_type": "markdown",
   "id": "43759e11",
   "metadata": {},
   "source": [
    "#### 3.A group of friends have decided to start a secret society. The name will be the first letter of each of their names, sorted in alphabetical order.\n",
    "#### Create a function that takes in a list of names and returns the name of the secret society.\n",
    "#### Examples\n",
    "#### society_name([\"Adam\", \"Sarah\", \"Malcolm\"]) ➞ \"AMS\"\n",
    "#### society_name([\"Harry\", \"Newt\", \"Luna\", \"Cho\"]) ➞ \"CHLN\"\n",
    "#### society_name([\"Phoebe\", \"Chandler\", \"Rachel\", \"Ross\", \"Monica\", \"Joey\"])\n",
    "**ANS:**"
   ]
  },
  {
   "cell_type": "code",
   "execution_count": 3,
   "id": "a5100b22",
   "metadata": {},
   "outputs": [
    {
     "name": "stdout",
     "output_type": "stream",
     "text": [
      "AMS\n",
      "CHLN\n",
      "CJMPRR\n"
     ]
    }
   ],
   "source": [
    "def society_name(l):\n",
    "    o=[]\n",
    "    for i in l:\n",
    "        o.append(i[0])\n",
    "    out=''.join(sorted(o))\n",
    "    print(out)\n",
    "society_name([\"Adam\", \"Sarah\", \"Malcolm\"])\n",
    "society_name([\"Harry\", \"Newt\", \"Luna\", \"Cho\"])\n",
    "society_name([\"Phoebe\", \"Chandler\", \"Rachel\", \"Ross\", \"Monica\", \"Joey\"])"
   ]
  },
  {
   "cell_type": "markdown",
   "id": "67dc5c9d",
   "metadata": {},
   "source": [
    "#### 4.An isogram is a word that has no duplicate letters. Create a function that takes a string and returns either True or False depending on whether or not it's an \"isogram\".\n",
    "#### Examples\n",
    "#### is_isogram(\"Algorism\") ➞ True\n",
    "#### is_isogram(\"PasSword\") ➞ False\n",
    "#### # Not case sensitive.\n",
    "#### is_isogram(\"Consecutive\") ➞ False\n",
    "#### Notes\n",
    "* Ignore letter case (should not be case sensitive).\n",
    "* All test cases contain valid one word strings.\n",
    "\n",
    "**ANS:**"
   ]
  },
  {
   "cell_type": "code",
   "execution_count": 4,
   "id": "b7eafb7a",
   "metadata": {},
   "outputs": [
    {
     "name": "stdout",
     "output_type": "stream",
     "text": [
      "True\n",
      "False\n",
      "False\n"
     ]
    }
   ],
   "source": [
    "def is_isogram(s):\n",
    "    s=s.lower()\n",
    "    if len(s)==len(set(s)):\n",
    "        print(True)\n",
    "    else:\n",
    "        print(False)\n",
    "is_isogram(\"Algorism\")\n",
    "is_isogram(\"PasSword\")\n",
    "is_isogram(\"Consecutive\")"
   ]
  },
  {
   "cell_type": "markdown",
   "id": "d3615633",
   "metadata": {},
   "source": [
    "#### 5.Create a function that takes a string and returns True or False, depending on whether the characters are in order or not.\n",
    "#### Examples\n",
    "#### is_in_order(\"abc\") ➞ True\n",
    "#### is_in_order(\"edabit\") ➞ False\n",
    "#### is_in_order(\"123\") ➞ True\n",
    "#### is_in_order(\"xyzz\") ➞ True\n",
    "Notes\n",
    "* You don't have to handle empty strings.\n",
    "\n",
    "**ANS:**"
   ]
  },
  {
   "cell_type": "code",
   "execution_count": 5,
   "id": "6484baa9",
   "metadata": {},
   "outputs": [
    {
     "name": "stdout",
     "output_type": "stream",
     "text": [
      "True\n",
      "False\n",
      "True\n",
      "True\n"
     ]
    }
   ],
   "source": [
    "def is_in_order(s):\n",
    "    o=''.join(sorted(s))\n",
    "    if s==o:\n",
    "        print(True)\n",
    "    else:\n",
    "        print(False)\n",
    "is_in_order(\"abc\")\n",
    "is_in_order(\"edabit\")\n",
    "is_in_order(\"123\")\n",
    "is_in_order(\"xyzz\")"
   ]
  },
  {
   "cell_type": "code",
   "execution_count": null,
   "id": "4cae4afc",
   "metadata": {},
   "outputs": [],
   "source": []
  }
 ],
 "metadata": {
  "kernelspec": {
   "display_name": "Python 3 (ipykernel)",
   "language": "python",
   "name": "python3"
  },
  "language_info": {
   "codemirror_mode": {
    "name": "ipython",
    "version": 3
   },
   "file_extension": ".py",
   "mimetype": "text/x-python",
   "name": "python",
   "nbconvert_exporter": "python",
   "pygments_lexer": "ipython3",
   "version": "3.10.0"
  }
 },
 "nbformat": 4,
 "nbformat_minor": 5
}

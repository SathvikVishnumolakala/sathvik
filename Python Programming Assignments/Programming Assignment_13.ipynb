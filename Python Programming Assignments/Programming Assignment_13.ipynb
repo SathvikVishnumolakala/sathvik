{
 "cells": [
  {
   "cell_type": "markdown",
   "id": "58d52e4d",
   "metadata": {},
   "source": [
    "#### 1.Write a program that calculates and prints the value according to the given formula:\n",
    "`Q = Square root of [(2 * C * D)/H]`                                                                                           \n",
    "Following are the fixed values of C and H:                                                                                     \n",
    "C is 50. H is 30.                                                                                                               \n",
    "D is the variable whose values should be input to your program in a comma-separated sequence.                                   \n",
    "Example:-                                                                                                                       \n",
    "Let us assume the following comma separated input sequence is given to the program:                                             \n",
    "100,150,180\n",
    "The output of the program should be:                                                                                           \n",
    "18,22,24  "
   ]
  },
  {
   "cell_type": "code",
   "execution_count": 1,
   "id": "0c1cd254",
   "metadata": {},
   "outputs": [
    {
     "name": "stdout",
     "output_type": "stream",
     "text": [
      "100,150,180\n",
      "18,22,24\n"
     ]
    }
   ],
   "source": [
    "from math import sqrt\n",
    "C,H=50,30\n",
    "D=input().split(',')\n",
    "l=[]\n",
    "for i in D:\n",
    "    l.append(str(int(sqrt((2 * C *int(i)/H)))))\n",
    "print(','.join(l))"
   ]
  },
  {
   "cell_type": "markdown",
   "id": "43ea2c67",
   "metadata": {},
   "source": [
    "#### 2. Write a program which takes 2 digits, X,Y as input and generates a 2-dimensional array. The element value in the i-th row and j-th column of the array should be i*j.                                                                                                                                                                         \n",
    "Note: i=0,1.., X-1; j=0,1,¡¬Y-1.                                                                                               \n",
    "Example                                                                                                                         \n",
    "Suppose the following inputs are given to the program:                                                                         \n",
    "3,5                                                                                                                             \n",
    "Then, the output of the program should be:                                                                                     \n",
    "[[0, 0, 0, 0, 0], [0, 1, 2, 3, 4], [0, 2, 4, 6, 8]]                                                                             "
   ]
  },
  {
   "cell_type": "code",
   "execution_count": 2,
   "id": "82c375ec",
   "metadata": {},
   "outputs": [
    {
     "name": "stdout",
     "output_type": "stream",
     "text": [
      "3,5\n",
      "[[0, 0, 0, 0, 0], [0, 1, 2, 3, 4], [0, 2, 4, 6, 8]]\n"
     ]
    }
   ],
   "source": [
    "X,Y=map(int,input().split(','))\n",
    "l=[]\n",
    "for i in range(X):\n",
    "    l.append([])\n",
    "    for j in range(Y):\n",
    "        l[i].append(i*j)\n",
    "print(l)"
   ]
  },
  {
   "cell_type": "markdown",
   "id": "e1443793",
   "metadata": {},
   "source": [
    "#### 3.Write a program that accepts a comma separated sequence of words as input and prints the words in a comma-separated sequence after sorting them alphabetically.\n",
    "Suppose the following input is supplied to the program:                                                                         \n",
    "without,hello,bag,world                                                                                                         \n",
    "Then, the output should be:                                                                                                     \n",
    "bag,hello,without,world                                                                                                         "
   ]
  },
  {
   "cell_type": "code",
   "execution_count": 3,
   "id": "fd2764ff",
   "metadata": {},
   "outputs": [
    {
     "name": "stdout",
     "output_type": "stream",
     "text": [
      "without,hello,bag,world\n",
      "bag,hello,without,world\n"
     ]
    }
   ],
   "source": [
    "x=list(map(str,input().split(',')))\n",
    "x=sorted(x)\n",
    "o=''\n",
    "for i in x:\n",
    "    o+=i+','\n",
    "print(o[:-1])"
   ]
  },
  {
   "cell_type": "markdown",
   "id": "cf3a1eac",
   "metadata": {},
   "source": [
    "#### 4.Write a program that accepts a sequence of whitespace separated words as input and prints the words after removing all duplicate words and sorting them alphanumerically.\n",
    "Suppose the following input is supplied to the program:                                                                         \n",
    "hello world and practice makes perfect and hello world again                                                                   \n",
    "Then, the output should be:                                                                                                     \n",
    "again and hello makes perfect practice world                                                                                   "
   ]
  },
  {
   "cell_type": "code",
   "execution_count": 4,
   "id": "69a67712",
   "metadata": {},
   "outputs": [
    {
     "name": "stdout",
     "output_type": "stream",
     "text": [
      "hello world and practice makes perfect and hello world again\n",
      "again and hello makes perfect practice world\n"
     ]
    }
   ],
   "source": [
    "x=list(map(str,input().split(' ')))\n",
    "x=set(x)\n",
    "x=sorted(x)\n",
    "o=''\n",
    "for i in x:\n",
    "    o+=i+' '\n",
    "print(o[:-1])"
   ]
  },
  {
   "cell_type": "markdown",
   "id": "12346bc2",
   "metadata": {},
   "source": [
    "#### 5.Write a program that accepts a sentence and calculate the number of letters and digits.\n",
    "Suppose the following input is supplied to the program:                                                                         \n",
    "hello world! 123                                                                                                               \n",
    "Then, the output should be:                                                                                                     \n",
    "LETTERS 10                                                                                                                     \n",
    "DIGITS 3"
   ]
  },
  {
   "cell_type": "code",
   "execution_count": 7,
   "id": "7359ca70",
   "metadata": {},
   "outputs": [
    {
     "name": "stdout",
     "output_type": "stream",
     "text": [
      "hello world! 123\n",
      "LETTERS 10\n",
      "DIGITS 3\n"
     ]
    }
   ],
   "source": [
    "x=input()\n",
    "letters = 'ABCDEFGHIJKLMNOPQRSTUVWXYZabcdefghijklmnopqrstuvwxyz'\n",
    "digits = '0123456789'\n",
    "l,d=0,0\n",
    "for i in range(len(x)):\n",
    "    if x[i] in letters:\n",
    "        l+=1\n",
    "    elif x[i] in digits:\n",
    "        d+=1\n",
    "print('LETTERS {}'.format(l))\n",
    "print('DIGITS {}'.format(d))"
   ]
  },
  {
   "cell_type": "markdown",
   "id": "928c2ba8",
   "metadata": {},
   "source": [
    "#### 6.A website requires the users to input username and password to register. Write a program to check the validity of password input by users.\n",
    "Following are the criteria for checking the password:\n",
    "1. At least 1 letter between [a-z]                                                                                             \n",
    "2. At least 1 number between [0-9]                                                                                             \n",
    "1. At least 1 letter between [A-Z]                                                                                             \n",
    "3. At least 1 character from [$#@]                                                                                              \n",
    "4. Minimum length of transaction password: 6                                                                                     \n",
    "5. Maximum length of transaction password: 12                                                                                   \n",
    "Your program should accept a sequence of comma separated passwords and will check them according to the above criteria.     Passwords that match the criteria are to be printed, each separated by a comma.\n",
    "Example                                                                                                                         \n",
    "If the following passwords are given as input to the program:                                                                   \n",
    "ABd1234@1,a F1#,2w3E*,2We3345                                                                                                   \n",
    "Then, the output of the program should be:                                                                                      \n",
    "ABd1234@1                                                                                                                       "
   ]
  },
  {
   "cell_type": "code",
   "execution_count": 6,
   "id": "bee09f28",
   "metadata": {},
   "outputs": [
    {
     "name": "stdout",
     "output_type": "stream",
     "text": [
      "ABd1234@1,a F1#,2w3E*,2We3345\n",
      "ABd1234@1\n"
     ]
    }
   ],
   "source": [
    "small = 'abcdefghijklmnopqrstuvwxyz'\n",
    "large='ABCDEFGHIJKLMNOPQRSTUVWXYZ'\n",
    "digits = '0123456789'\n",
    "ch='$#@'\n",
    "x=input()\n",
    "for ele in x.split(\",\"):\n",
    "        if len(ele) <= 12 and len(ele) >=6 :\n",
    "            if any(i.isupper() for i in ele):\n",
    "                if any(i.islower() for i in ele):\n",
    "                    if any(i for i in ele if i in ch):\n",
    "                        print(ele)"
   ]
  },
  {
   "cell_type": "code",
   "execution_count": null,
   "id": "71615598",
   "metadata": {},
   "outputs": [],
   "source": []
  }
 ],
 "metadata": {
  "kernelspec": {
   "display_name": "Python 3 (ipykernel)",
   "language": "python",
   "name": "python3"
  },
  "language_info": {
   "codemirror_mode": {
    "name": "ipython",
    "version": 3
   },
   "file_extension": ".py",
   "mimetype": "text/x-python",
   "name": "python",
   "nbconvert_exporter": "python",
   "pygments_lexer": "ipython3",
   "version": "3.10.0"
  }
 },
 "nbformat": 4,
 "nbformat_minor": 5
}

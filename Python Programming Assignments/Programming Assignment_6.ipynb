{
 "cells": [
  {
   "cell_type": "markdown",
   "id": "8c567416",
   "metadata": {},
   "source": [
    "#### 1.\tWrite a Python Program to Display Fibonacci Sequence Using Recursion?\t\n",
    "**ANS:**"
   ]
  },
  {
   "cell_type": "code",
   "execution_count": 1,
   "id": "16a8cf5f",
   "metadata": {},
   "outputs": [
    {
     "name": "stdout",
     "output_type": "stream",
     "text": [
      "5\n",
      "0, 1, 1, 2, 3, "
     ]
    }
   ],
   "source": [
    "def fib(n,a,b):\n",
    "    if n == 0:\n",
    "        return 1\n",
    "    else:\n",
    "        s = a+b\n",
    "        print(s, end=', ')\n",
    "        fib(n-1,b,s)\n",
    "n= int(input())\n",
    "print('0, 1',end=', ')\n",
    "fib(n-2,0,1)"
   ]
  },
  {
   "cell_type": "markdown",
   "id": "1ca24b0b",
   "metadata": {},
   "source": [
    "#### 2.\tWrite a Python Program to Find Factorial of Number Using Recursion?\n",
    "**ANS:**"
   ]
  },
  {
   "cell_type": "code",
   "execution_count": 2,
   "id": "3f9e6b43",
   "metadata": {},
   "outputs": [
    {
     "name": "stdout",
     "output_type": "stream",
     "text": [
      "5\n",
      "120\n"
     ]
    }
   ],
   "source": [
    "def fact(n):\n",
    "    if n==0 or n==1:\n",
    "        return 1\n",
    "    else:\n",
    "        return n*fact(n-1)\n",
    "print(fact(int(input())))"
   ]
  },
  {
   "cell_type": "markdown",
   "id": "223e1de3",
   "metadata": {},
   "source": [
    "#### 3.\tWrite a Python Program to calculate your Body Mass Index?\n",
    "**ANS:**"
   ]
  },
  {
   "cell_type": "code",
   "execution_count": 3,
   "id": "a5c9ea02",
   "metadata": {},
   "outputs": [
    {
     "name": "stdout",
     "output_type": "stream",
     "text": [
      "60\n",
      "1.52\n",
      "25.969529085872576\n",
      "Overweight\n"
     ]
    }
   ],
   "source": [
    "def BMI(weight,height):\n",
    "    return weight/(height**2)\n",
    "\n",
    "weight=int(input())\n",
    "height=float(input())\n",
    "print(BMI(weight,height))\n",
    "if (BMI(weight,height) < 18.5):\n",
    "        print('Underweight')\n",
    "elif (BMI(weight,height) >= 18.5 and BMI(weight,height) < 24.9):\n",
    "        print('Healthy')\n",
    "elif (BMI(weight,height) >= 24.9 and BMI(weight,height) < 30):\n",
    "        print('Overweight')\n",
    "elif (BMI(weight,height) >=30):\n",
    "        print('Suffering from Obesity')"
   ]
  },
  {
   "cell_type": "markdown",
   "id": "0effb71c",
   "metadata": {},
   "source": [
    "#### 4.\tWrite a Python Program to calculate the natural logarithm of any number?\n",
    "**ANS:**"
   ]
  },
  {
   "cell_type": "code",
   "execution_count": 4,
   "id": "4ec708bc",
   "metadata": {},
   "outputs": [
    {
     "name": "stdout",
     "output_type": "stream",
     "text": [
      "90\n",
      "4.499809670330265\n"
     ]
    }
   ],
   "source": [
    "import math\n",
    "num=int(input())\n",
    "print(math.log(num))"
   ]
  },
  {
   "cell_type": "markdown",
   "id": "2e07f9ad",
   "metadata": {},
   "source": [
    "#### 5.\tWrite a Python Program for cube sum of first n natural numbers?\n",
    "**ANS:**"
   ]
  },
  {
   "cell_type": "code",
   "execution_count": 5,
   "id": "48d10d64",
   "metadata": {},
   "outputs": [
    {
     "name": "stdout",
     "output_type": "stream",
     "text": [
      "6\n",
      "441\n"
     ]
    }
   ],
   "source": [
    "n=int(input())\n",
    "s=0\n",
    "for i in range(n+1):\n",
    "    s+=i**3\n",
    "print(s)"
   ]
  },
  {
   "cell_type": "code",
   "execution_count": null,
   "id": "23877cc4",
   "metadata": {},
   "outputs": [],
   "source": []
  }
 ],
 "metadata": {
  "kernelspec": {
   "display_name": "Python 3 (ipykernel)",
   "language": "python",
   "name": "python3"
  },
  "language_info": {
   "codemirror_mode": {
    "name": "ipython",
    "version": 3
   },
   "file_extension": ".py",
   "mimetype": "text/x-python",
   "name": "python",
   "nbconvert_exporter": "python",
   "pygments_lexer": "ipython3",
   "version": "3.10.0"
  }
 },
 "nbformat": 4,
 "nbformat_minor": 5
}

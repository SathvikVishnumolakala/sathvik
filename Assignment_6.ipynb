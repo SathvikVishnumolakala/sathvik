{
 "cells": [
  {
   "cell_type": "markdown",
   "id": "73a2f6be",
   "metadata": {},
   "source": [
    "#### 1. What are escape characters, and how do you use them?\n",
    "**ANS** Escape characters are\n",
    "* \\' - Single Quote\n",
    "* \\\\ - Backslash\n",
    "* \\n - New line\n",
    "* \\r - Carriage Return\n",
    "* \\t - Tab\n",
    "* \\b - Backspace\n",
    "* \\f - Form feed\n",
    "* \\ooo - Octal value\n",
    "* \\xhh - Hex value\n",
    "* These are the escape characters ,used to insert that are illegal in a string."
   ]
  },
  {
   "cell_type": "markdown",
   "id": "51f24938",
   "metadata": {},
   "source": [
    "#### 2. What do the escape characters n and t stand for?\n",
    "**ANS**\n",
    "* n stands for New line\n",
    "* t stands for Tab"
   ]
  },
  {
   "cell_type": "markdown",
   "id": "e98aa0bf",
   "metadata": {},
   "source": [
    "#### 3. What is the way to include backslash characters in a string?\n",
    "**ANS** By using this \\ we can include backslash characters in a string. "
   ]
  },
  {
   "cell_type": "markdown",
   "id": "79b54384",
   "metadata": {},
   "source": [
    "#### 4. The string \"Howl's Moving Castle\" is a correct value. Why isn't the single quote character in the word Howl's not escaped a problem?\n",
    "**ANS** Because in the word **Howl's** we used single quote and the total string is represented in double quote.Since both are different it does not cause any error."
   ]
  },
  {
   "cell_type": "markdown",
   "id": "47c46456",
   "metadata": {},
   "source": [
    "#### 5. How do you write a string of newlines if you don't want to use the n character?\n",
    "**ANS** Multiline string can be used to use the newlines without using n character."
   ]
  },
  {
   "cell_type": "markdown",
   "id": "9b72d48c",
   "metadata": {},
   "source": [
    "#### 6. What are the values of the given expressions?\n",
    "#### 'Hello, world!'[1]\n",
    "#### 'Hello, world!'[0:5]\n",
    "#### 'Hello, world!'[:5]\n",
    "#### 'Hello, world!'[3:]\n",
    "**ANS**\n",
    "* **'e'**\n",
    "* **'Hello,'**\n",
    "* **'Hello'**\n",
    "* **'lo, world!'**\n"
   ]
  },
  {
   "cell_type": "markdown",
   "id": "3b768dda",
   "metadata": {},
   "source": [
    "#### 7. What are the values of the following expressions?\n",
    "#### 'Hello'.upper()\n",
    "#### 'Hello'.upper().isupper()\n",
    "#### 'Hello'.upper().lower()\n",
    "**ANS**\n",
    "* 'HELLO'\n",
    "* True\n",
    "* 'hello'"
   ]
  },
  {
   "cell_type": "markdown",
   "id": "e74103af",
   "metadata": {},
   "source": [
    "#### 8. What are the values of the following expressions?\n",
    "#### 'Remember, remember, the fifth of July.'.split()\n",
    "#### '-'.join('There can only one.'.split())\n",
    "**ANS**\n",
    "* ['Remember,', 'remember,', 'the', 'fifth', 'of', 'July.']\n",
    "* 'There-can-only-one.'"
   ]
  },
  {
   "cell_type": "markdown",
   "id": "c82a3281",
   "metadata": {},
   "source": [
    "#### 9. What are the methods for right-justifying, left-justifying, and centering a string?\n",
    "**ANS**  \n",
    "* rjust() for right-justifying.\n",
    "* ljust() for left-justifying.\n",
    "* center() for centering a string."
   ]
  },
  {
   "cell_type": "markdown",
   "id": "d380bae6",
   "metadata": {},
   "source": [
    "#### 10. What is the best way to remove whitespace characters from the start or end?\n",
    "**ANS** lstrip() or rstrip() are the methods for removing the whitespace characters from the start or end."
   ]
  },
  {
   "cell_type": "code",
   "execution_count": null,
   "id": "68074c56",
   "metadata": {},
   "outputs": [],
   "source": []
  }
 ],
 "metadata": {
  "kernelspec": {
   "display_name": "Python 3 (ipykernel)",
   "language": "python",
   "name": "python3"
  },
  "language_info": {
   "codemirror_mode": {
    "name": "ipython",
    "version": 3
   },
   "file_extension": ".py",
   "mimetype": "text/x-python",
   "name": "python",
   "nbconvert_exporter": "python",
   "pygments_lexer": "ipython3",
   "version": "3.10.0"
  }
 },
 "nbformat": 4,
 "nbformat_minor": 5
}

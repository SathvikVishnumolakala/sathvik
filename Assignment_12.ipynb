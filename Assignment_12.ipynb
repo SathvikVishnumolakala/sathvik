{
 "cells": [
  {
   "cell_type": "markdown",
   "id": "88ecb2c0",
   "metadata": {},
   "source": [
    "#### 1. In what modes should the PdfFileReader() and PdfFileWriter() File objects will be opened?\n",
    "**ANS:** `PdfFileReader()` can be opened by using `rb` read binary mode and for `PdfFileWriter` can be opened by using `wb` write binary mode."
   ]
  },
  {
   "cell_type": "markdown",
   "id": "bf13e76d",
   "metadata": {},
   "source": [
    "#### 2. From a PdfFileReader object, how do you get a Page object for page 5?\n",
    "**ANS:** By using **getPage(5)** we can get a page 5."
   ]
  },
  {
   "cell_type": "markdown",
   "id": "424a1e56",
   "metadata": {},
   "source": [
    "#### 3. What PdfFileReader variable stores the number of pages in the PDF document?\n",
    "**ANS:** `getNumPages()` can be used to store the number of pages in the PDF document."
   ]
  },
  {
   "cell_type": "markdown",
   "id": "28ea5946",
   "metadata": {},
   "source": [
    "#### 4. If a PdfFileReader object’s PDF is encrypted with the password swordfish, what must you do before you can obtain Page objects from it?\n",
    "**ANS:** PdfFileReader contains attribute called `isEncrypted` to check whether a pdf is encrypted or not. the method returns true if a pdf is encrypted and vice versa.`decrypt()` can be used to read the encrypted file ."
   ]
  },
  {
   "cell_type": "markdown",
   "id": "7d7d02ad",
   "metadata": {},
   "source": [
    "#### 5. What methods do you use to rotate a page?\n",
    "**ANS:**\n",
    "* `rotateClockwise()` for clockwise rotation.\n",
    "* `rotateCounterClockWise()` for counter clockwise rotation."
   ]
  },
  {
   "cell_type": "markdown",
   "id": "17f3a0aa",
   "metadata": {},
   "source": [
    "#### 6. What is the difference between a Run object and a Paragraph object?\n",
    "**ANS:** A new `paragraph` begins whenever the user presses ENTER or RETURN while typing in a Word document.Each of these Paragraph objects contains a list of one or more `Run` objects."
   ]
  },
  {
   "cell_type": "markdown",
   "id": "4477a6cd",
   "metadata": {},
   "source": [
    "#### 7. How do you obtain a list of Paragraph objects for a Document object that’s stored in a variable named doc?\n",
    "**ANS:**"
   ]
  },
  {
   "cell_type": "code",
   "execution_count": null,
   "id": "abb26793",
   "metadata": {},
   "outputs": [],
   "source": [
    "from docx import Document\n",
    "doc = Document(\"sample_file.docx\")\n",
    "print(doc.paragraphs) \n",
    "for paragraph in doc.paragraphs:\n",
    "    print(paragraph.text)"
   ]
  },
  {
   "cell_type": "markdown",
   "id": "bc0cb226",
   "metadata": {},
   "source": [
    "#### 8. What type of object has bold, underline, italic, strike, and outline variables?\n",
    "**ANS:** `Run` object has bold, underline, italic, strike, and outline variables. "
   ]
  },
  {
   "cell_type": "markdown",
   "id": "b3bb6a72",
   "metadata": {},
   "source": [
    "#### 9. What is the difference between False, True, and None for the bold variable?\n",
    "**ANS:** "
   ]
  },
  {
   "cell_type": "code",
   "execution_count": null,
   "id": "8016bda6",
   "metadata": {},
   "outputs": [],
   "source": [
    "bold=True #set to bold style\n",
    "bold=False # not set to bold style\n",
    "bold=None #style is not applicable"
   ]
  },
  {
   "cell_type": "markdown",
   "id": "f50fd4a8",
   "metadata": {},
   "source": [
    "#### 10. How do you create a Document object for a new Word document?\n",
    "**ANS:** "
   ]
  },
  {
   "cell_type": "code",
   "execution_count": null,
   "id": "098a8737",
   "metadata": {},
   "outputs": [],
   "source": [
    "from docx import Document\n",
    "document = Document()\n",
    "document.add_paragraph(\"My name is sathvik\")\n",
    "document.save('assignment.docx')"
   ]
  },
  {
   "cell_type": "markdown",
   "id": "873194b5",
   "metadata": {},
   "source": [
    "#### 11. How do you add a paragraph with the text 'Hello, there!' to a Document object stored in a variable named doc?\n",
    "**ANS:** "
   ]
  },
  {
   "cell_type": "code",
   "execution_count": null,
   "id": "19f48f09",
   "metadata": {},
   "outputs": [],
   "source": [
    "from docx import Document\n",
    "doc = Document()\n",
    "doc.add_paragraph('Hello, there!')\n",
    "doc.save('hello.docx')"
   ]
  },
  {
   "cell_type": "markdown",
   "id": "517c7767",
   "metadata": {},
   "source": [
    "#### 12. What integers represent the levels of headings available in Word documents?\n",
    "**ANS:**  There are a total of 5 levels statring for 0 t0 4. where level 0 makes a headline with the horizontal line below the text, whereas the heading level 1 is the main heading. Similarly, the other headings are sub-heading with their's font-sizes in decreasing order."
   ]
  },
  {
   "cell_type": "code",
   "execution_count": null,
   "id": "d91687f4",
   "metadata": {},
   "outputs": [],
   "source": []
  }
 ],
 "metadata": {
  "kernelspec": {
   "display_name": "Python 3 (ipykernel)",
   "language": "python",
   "name": "python3"
  },
  "language_info": {
   "codemirror_mode": {
    "name": "ipython",
    "version": 3
   },
   "file_extension": ".py",
   "mimetype": "text/x-python",
   "name": "python",
   "nbconvert_exporter": "python",
   "pygments_lexer": "ipython3",
   "version": "3.10.0"
  }
 },
 "nbformat": 4,
 "nbformat_minor": 5
}

{
 "cells": [
  {
   "cell_type": "markdown",
   "id": "3d503ce7",
   "metadata": {},
   "source": [
    "#### 1. How do you distinguish between shutil.copy() and shutil.copytree()?\n",
    "**ANS:** shutil.copy() only copies the single file and shutil.copytree() can copy entire folders and files in it."
   ]
  },
  {
   "cell_type": "markdown",
   "id": "220989f9",
   "metadata": {},
   "source": [
    "#### 2. What function is used to rename files??\n",
    "**ANS:** os.rename() function can be used to rename files."
   ]
  },
  {
   "cell_type": "markdown",
   "id": "69f758c2",
   "metadata": {},
   "source": [
    "#### 3. What is the difference between the delete functions in the send2trash and shutil modules?\n",
    "**ANS:** \n",
    "* shutil module contain functions like `shutil.rmtree()`,deletes a directory and all its contents.If once deleted then it can't be retrieved.It will be lost permanently.\n",
    "* send2trash module contain function `send2trash.send2trash()` to delete file.If any file deleted accidentally by using this function we can retrieve it back."
   ]
  },
  {
   "cell_type": "markdown",
   "id": "d2d8131d",
   "metadata": {},
   "source": [
    "#### 4.ZipFile objects have a close() method just like File objects’ close() method. What ZipFile method is equivalent to File objects’ open() method?\n",
    "**ANS:** ZipFile module provides a method called as `zipfile.zipfile()` to read and write to zipFiles.Arguments like filename and mode are used.`zipfile.zipfile('filename',mode='r')`"
   ]
  },
  {
   "cell_type": "markdown",
   "id": "ac553922",
   "metadata": {},
   "source": [
    "#### 5. Create a programme that searches a folder tree for files with a certain file extension (such as .pdf or .jpg). Copy these files from whatever location they are in to a new folder.\n",
    "\n",
    "**ANS:**"
   ]
  },
  {
   "cell_type": "code",
   "execution_count": 1,
   "id": "652f9fc6",
   "metadata": {},
   "outputs": [],
   "source": [
    "import os\n",
    "import shutil\n",
    "\n",
    "def search_and_copy(source,destination,extensions):\n",
    "    source = os.path.abspath(source)\n",
    "    destination = os.path.abspath(destination)\n",
    "    for foldername, subfolder, filenames in os.walk(source):\n",
    "        print(f'Folder Name ➞ {foldername}',end='\\n\\n')\n",
    "        print(f'Sub Folders ➞ {subfolder}',end='\\n\\n')\n",
    "        print(f'Files ➞ {filenames}',end='\\n\\n')\n",
    "        for filename in filenames:\n",
    "            fileName,extension = os.path.splitext(filename)\n",
    "            if extension in extensions:\n",
    "                targetFile = foldername+os.path.sep+fileName+extension\n",
    "                shutil.copy(targetFile, destination)\n",
    "        print(f'Files copied successfully from {source} to {destination}')\n",
    "    \n",
    "extensions = ['.pdf','.jpg']\n",
    "source = 'Dummy Source'\n",
    "destination = 'Dummy Destination'\n",
    "search_and_copy(source, destination, extensions)"
   ]
  },
  {
   "cell_type": "code",
   "execution_count": null,
   "id": "7c04ce3f",
   "metadata": {},
   "outputs": [],
   "source": []
  }
 ],
 "metadata": {
  "kernelspec": {
   "display_name": "Python 3 (ipykernel)",
   "language": "python",
   "name": "python3"
  },
  "language_info": {
   "codemirror_mode": {
    "name": "ipython",
    "version": 3
   },
   "file_extension": ".py",
   "mimetype": "text/x-python",
   "name": "python",
   "nbconvert_exporter": "python",
   "pygments_lexer": "ipython3",
   "version": "3.10.0"
  }
 },
 "nbformat": 4,
 "nbformat_minor": 5
}

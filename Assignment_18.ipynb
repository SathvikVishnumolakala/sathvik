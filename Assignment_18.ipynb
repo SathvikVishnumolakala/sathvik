{
 "cells": [
  {
   "cell_type": "markdown",
   "id": "ba45f8e7",
   "metadata": {},
   "source": [
    "#### 1. Create a zoo.py file first. Define the hours() function, which prints the string 'Open 9-5 daily'. Then, use the interactive interpreter to import the zoo module and call its hours() function.\n",
    "**ANS:**"
   ]
  },
  {
   "cell_type": "code",
   "execution_count": 2,
   "id": "e57578e3",
   "metadata": {},
   "outputs": [
    {
     "name": "stdout",
     "output_type": "stream",
     "text": [
      "Open 9-5 daily\n"
     ]
    }
   ],
   "source": [
    "import zoo\n",
    "zoo.hours()"
   ]
  },
  {
   "cell_type": "markdown",
   "id": "0ef500ef",
   "metadata": {},
   "source": [
    "#### 2. In the interactive interpreter, import the zoo module as menagerie and call its hours() function.\n",
    "**ANS:**"
   ]
  },
  {
   "cell_type": "code",
   "execution_count": 3,
   "id": "8375a172",
   "metadata": {},
   "outputs": [
    {
     "name": "stdout",
     "output_type": "stream",
     "text": [
      "Open 9-5 daily\n"
     ]
    }
   ],
   "source": [
    "import zoo as menagerie\n",
    "menagerie.hours()"
   ]
  },
  {
   "cell_type": "markdown",
   "id": "a4b0d2e7",
   "metadata": {},
   "source": [
    "#### 3. Using the interpreter, explicitly import and call the hours() function from zoo.\n",
    "**ANS:**"
   ]
  },
  {
   "cell_type": "code",
   "execution_count": 4,
   "id": "51a48c29",
   "metadata": {},
   "outputs": [
    {
     "name": "stdout",
     "output_type": "stream",
     "text": [
      "Open 9-5 daily\n"
     ]
    }
   ],
   "source": [
    "from zoo import hours\n",
    "hours()"
   ]
  },
  {
   "cell_type": "markdown",
   "id": "7728c0f8",
   "metadata": {},
   "source": [
    "#### 4. Import the hours() function as info and call it.\n",
    "**ANS:**"
   ]
  },
  {
   "cell_type": "code",
   "execution_count": 5,
   "id": "96bde88e",
   "metadata": {},
   "outputs": [
    {
     "name": "stdout",
     "output_type": "stream",
     "text": [
      "Open 9-5 daily\n"
     ]
    }
   ],
   "source": [
    "from zoo import hours as info\n",
    "info()"
   ]
  },
  {
   "cell_type": "markdown",
   "id": "a784ee63",
   "metadata": {},
   "source": [
    "#### 5. Create a plain dictionary with the key-value pairs 'a': 1, 'b': 2, and 'c': 3, and print it out.\n",
    "**ANS:***"
   ]
  },
  {
   "cell_type": "code",
   "execution_count": 6,
   "id": "74975dd8",
   "metadata": {},
   "outputs": [
    {
     "name": "stdout",
     "output_type": "stream",
     "text": [
      "{'a': 1, 'b': 2, 'c': 3}\n"
     ]
    }
   ],
   "source": [
    "plain_dict={'a':1,'b':2,'c':3}\n",
    "print(plain_dict)"
   ]
  },
  {
   "cell_type": "markdown",
   "id": "fcb19211",
   "metadata": {},
   "source": [
    "#### 6.Make an OrderedDict called fancy from the same pairs listed in 5 and print it. Did it print in the same order as plain?\n",
    "**ANS:**"
   ]
  },
  {
   "cell_type": "code",
   "execution_count": 7,
   "id": "9ae16f7d",
   "metadata": {},
   "outputs": [
    {
     "name": "stdout",
     "output_type": "stream",
     "text": [
      "{'a': 1, 'b': 2, 'c': 3}\n",
      "OrderedDict([('a', 1), ('b', 2), ('c', 3)])\n"
     ]
    }
   ],
   "source": [
    "from collections import OrderedDict\n",
    "fancy=OrderedDict(plain_dict)\n",
    "print(plain_dict)\n",
    "print(fancy)"
   ]
  },
  {
   "cell_type": "markdown",
   "id": "15079afc",
   "metadata": {},
   "source": [
    "#### 7. Make a default dictionary called dict_of_lists and pass it the argument list. Make the list dict_of_lists['a'] and append the value 'something for a' to it in one assignment. Print dict_of_lists['a'].\n",
    "**ANS:**"
   ]
  },
  {
   "cell_type": "code",
   "execution_count": 9,
   "id": "02de51fb",
   "metadata": {},
   "outputs": [
    {
     "name": "stdout",
     "output_type": "stream",
     "text": [
      "['something for a ']\n"
     ]
    }
   ],
   "source": [
    "from collections import defaultdict\n",
    "dict_of_lists=defaultdict(list)\n",
    "dict_of_lists['a'].append('something for a ')\n",
    "print(dict_of_lists['a'])"
   ]
  },
  {
   "cell_type": "code",
   "execution_count": null,
   "id": "014d3be7",
   "metadata": {},
   "outputs": [],
   "source": []
  }
 ],
 "metadata": {
  "kernelspec": {
   "display_name": "Python 3 (ipykernel)",
   "language": "python",
   "name": "python3"
  },
  "language_info": {
   "codemirror_mode": {
    "name": "ipython",
    "version": 3
   },
   "file_extension": ".py",
   "mimetype": "text/x-python",
   "name": "python",
   "nbconvert_exporter": "python",
   "pygments_lexer": "ipython3",
   "version": "3.10.0"
  }
 },
 "nbformat": 4,
 "nbformat_minor": 5
}

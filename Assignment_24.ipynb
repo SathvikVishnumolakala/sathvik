{
 "cells": [
  {
   "cell_type": "markdown",
   "id": "b30de877",
   "metadata": {},
   "source": [
    "#### 1. What is the relationship between def statements and lambda expressions ?\n",
    "**ANS:** `def` statement is used to create a normal function.where as `lamba` expressions are used to create Anonymous functions.Lambda's body is a single expression and not a block of statements like def statement. The lambda expression's body is similar to what we'd put in a def body's return statement."
   ]
  },
  {
   "cell_type": "markdown",
   "id": "9a2c96f4",
   "metadata": {},
   "source": [
    "#### 2. What is the benefit of lambda?\n",
    "**ANS:** They Can be used to create Nameless/Anonymous functions inside some complex functions if we are planning to use it only once.Moderate to small functions can be created in a single line. Fuctions created using lambda expressions can be assigned to a variable and can be used by simply calling the variable."
   ]
  },
  {
   "cell_type": "markdown",
   "id": "b2e0af1a",
   "metadata": {},
   "source": [
    "#### 3. Compare and contrast map, filter, and reduce.\n",
    "**ANS:**\n",
    "* `map()`:The map() function is a type of higher-order. This function takes another function as a parameter along with a sequence of iterables and returns an output after applying the function to each iterable present in the sequence.\n",
    "* `filter()`:The filter() function is used to create an output list consisting of values for which the function returns true.\n",
    "* `reduce()`:The reduce() function, as the name describes, applies a given function to the iterables and returns a single value."
   ]
  },
  {
   "cell_type": "markdown",
   "id": "b4d58a10",
   "metadata": {},
   "source": [
    "#### 4. What are function annotations, and how are they used?\n",
    "**ANS:**\n",
    "Function annotations provide a way of associating various parts of a function with arbitrary pythoncexpressions at compile time.\n",
    "Annotations of simple parameters `def func(x: expression, y: expression = 20):`\n",
    "Whereas the annotations for excess parameters are as − `def func (**args: expression, **kwargs: expression):`"
   ]
  },
  {
   "cell_type": "markdown",
   "id": "983794e1",
   "metadata": {},
   "source": [
    "#### 5. What are recursive functions, and how are they used?\n",
    "**ANS:** A recursive function is a function that calls itself during its execution. The process may repeat several times, outputting the result and the end of each iteration."
   ]
  },
  {
   "cell_type": "markdown",
   "id": "af84023a",
   "metadata": {},
   "source": [
    "#### 6. What are some general design guidelines for coding functions?\n",
    "**ANS:** \n",
    "* Always use a docstring to explain the functionality of the function\n",
    "* avoid using or limited use of global variables\n",
    "* Proper Identation to increase the code readability\n",
    "* try to follow a naming convention for function names (pascalCase or camelCase) and stick with the same convention throughout the application.\n",
    "* Avoid using digits while choosing a variable name\n",
    "* try to use a name for the function which conveys the purpose of the function\n",
    "* Local variables should be named using camelCase format `(ex: localVariable)` whereas Global variables names should be using PascalCase `(ex:GlobalVariable)`.\n",
    "* Constant should be represented in allcaps `(ex:CONSTANT)`."
   ]
  },
  {
   "cell_type": "markdown",
   "id": "aa6c4dc1",
   "metadata": {},
   "source": [
    "#### 7. Name three or more ways that functions can communicate results to a caller.\n",
    "**ANS:**\n",
    "* print\n",
    "* return\n",
    "* yield"
   ]
  },
  {
   "cell_type": "code",
   "execution_count": null,
   "id": "23910aed",
   "metadata": {},
   "outputs": [],
   "source": []
  }
 ],
 "metadata": {
  "kernelspec": {
   "display_name": "Python 3 (ipykernel)",
   "language": "python",
   "name": "python3"
  },
  "language_info": {
   "codemirror_mode": {
    "name": "ipython",
    "version": 3
   },
   "file_extension": ".py",
   "mimetype": "text/x-python",
   "name": "python",
   "nbconvert_exporter": "python",
   "pygments_lexer": "ipython3",
   "version": "3.10.0"
  }
 },
 "nbformat": 4,
 "nbformat_minor": 5
}

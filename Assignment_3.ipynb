{
 "cells": [
  {
   "cell_type": "markdown",
   "id": "90f47376",
   "metadata": {},
   "source": [
    "#### 1. Why are functions advantageous to have in your programs?\n",
    "**ANS:** \n",
    "* Funciton can decreases the number of lines in the code.\n",
    "* No need to write the same code number of times."
   ]
  },
  {
   "cell_type": "markdown",
   "id": "f9918c19",
   "metadata": {},
   "source": [
    "#### 2. When does the code in a function run: when it's specified or when it's called?\n",
    "**ANS:**\n",
    "The code runs when it's called."
   ]
  },
  {
   "cell_type": "markdown",
   "id": "3b532ece",
   "metadata": {},
   "source": [
    "#### 3. What statement creates a function?\n",
    "**ANS:** **def** keyword can be used to create function."
   ]
  },
  {
   "cell_type": "markdown",
   "id": "89bb2b31",
   "metadata": {},
   "source": [
    "#### 4. What is the difference between a function and a function call?\n",
    "**ANS:** \n",
    "* A function is a block of code that does particular operation and returns the result.\n",
    "* A function call executes the code in the function and returns the values whenever it is called."
   ]
  },
  {
   "cell_type": "markdown",
   "id": "8243b488",
   "metadata": {},
   "source": [
    "#### 5. How many global scopes are there in a Python program? How many local scopes?\n",
    "**ANS:** There 2 scopes in python.\n",
    "* Global scope \n",
    "* Local scope "
   ]
  },
  {
   "cell_type": "markdown",
   "id": "3ac56eca",
   "metadata": {},
   "source": [
    "#### 6. What happens to variables in a local scope when the function call returns?\n",
    "**ANS:** "
   ]
  },
  {
   "cell_type": "markdown",
   "id": "c90f4058",
   "metadata": {},
   "source": [
    "#### 7. What is the concept of a return value? Is it possible to have a return value in an expression?\n",
    "**ANS:**\n",
    "The specific value is returned from the function.\n",
    "* Yes,it is possible the expression evaluates first and returns the value."
   ]
  },
  {
   "cell_type": "markdown",
   "id": "b2d835b0",
   "metadata": {},
   "source": [
    "#### 8. If a function does not have a return statement, what is the return value of a call to that function?\n",
    "**ANS:** \n",
    "None type is returned."
   ]
  },
  {
   "cell_type": "markdown",
   "id": "e2747558",
   "metadata": {},
   "source": [
    "#### 9. How do you make a function variable refer to the global variable?\n",
    "**ANS:** By using the Global keyword we can refer the function variable to the global variable."
   ]
  },
  {
   "cell_type": "markdown",
   "id": "b63dd407",
   "metadata": {},
   "source": [
    "#### 10. What is the data type of None?\n",
    "**ANS:** The data type of None is **NoneType**."
   ]
  },
  {
   "cell_type": "markdown",
   "id": "906abc7f",
   "metadata": {},
   "source": [
    "#### 11. What does the sentence import areallyourpetsnamederic do?\n",
    "**ANS:** An exception will occur i.e **ModuleNotFound** and prints No module named 'areallyourpetsnamederic'."
   ]
  },
  {
   "cell_type": "markdown",
   "id": "fc54c69c",
   "metadata": {},
   "source": [
    "#### 12. If you had a bacon() feature in a spam module, what would you call it after importing spam?\n",
    "**ANS:** we can call using **spam.bacon()**."
   ]
  },
  {
   "cell_type": "markdown",
   "id": "e188a160",
   "metadata": {},
   "source": [
    "#### 13. What can you do to save a programme from crashing if it encounters an error?\n",
    "**ANS:** Exception handl can be used to save a programme form crashing if it encounters an error."
   ]
  },
  {
   "cell_type": "markdown",
   "id": "915bed63",
   "metadata": {},
   "source": [
    "#### 14. What is the purpose of the try clause? What is the purpose of the except clause?\n",
    "**ANS:** **try** and **except** clause are used to handle the exceptions.The code is written under try clause and if any error occurs except clause can handle that error and whatever we want to print instead of error  we can write that in except clause."
   ]
  },
  {
   "cell_type": "code",
   "execution_count": null,
   "id": "6f78f04e",
   "metadata": {},
   "outputs": [],
   "source": []
  }
 ],
 "metadata": {
  "kernelspec": {
   "display_name": "Python 3 (ipykernel)",
   "language": "python",
   "name": "python3"
  },
  "language_info": {
   "codemirror_mode": {
    "name": "ipython",
    "version": 3
   },
   "file_extension": ".py",
   "mimetype": "text/x-python",
   "name": "python",
   "nbconvert_exporter": "python",
   "pygments_lexer": "ipython3",
   "version": "3.10.0"
  }
 },
 "nbformat": 4,
 "nbformat_minor": 5
}

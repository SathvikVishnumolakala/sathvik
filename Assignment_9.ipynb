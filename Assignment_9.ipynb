{
 "cells": [
  {
   "cell_type": "markdown",
   "id": "570f4859",
   "metadata": {},
   "source": [
    "#### 1. To what does a relative path refer?\n",
    "**ANS:** A relative path is a way to give the location of a directory relative to another directory. "
   ]
  },
  {
   "cell_type": "markdown",
   "id": "5dc6dc8e",
   "metadata": {},
   "source": [
    "#### 2. What does an absolute path start with your operating system?\n",
    "**ANS:** In windows based system starts with `C:` and in linux based systems starts with `/`."
   ]
  },
  {
   "cell_type": "markdown",
   "id": "e71a71be",
   "metadata": {},
   "source": [
    "#### 3. What do the functions os.getcwd() and os.chdir() do?\n",
    "**ANS:** `os.chdir()` changes the current working directory to the specified path.`os.getcwd()` gets the location of the current directory."
   ]
  },
  {
   "cell_type": "markdown",
   "id": "8cd1d13e",
   "metadata": {},
   "source": [
    "#### 4. What are the . and .. folders?\n",
    "**ANS:** `.` represents the current directory and `..` represents the parent directory of the current directory."
   ]
  },
  {
   "cell_type": "markdown",
   "id": "47932e45",
   "metadata": {},
   "source": [
    "#### 5. In C:\\bacon\\eggs\\spam.txt, which part is the dir name, and which part is the base name?\n",
    "**ANS:** \n",
    "* `C:\\bacon\\eggs` is the dir name.\n",
    "* `spam.txt` is the base name."
   ]
  },
  {
   "cell_type": "markdown",
   "id": "9728c06a",
   "metadata": {},
   "source": [
    "#### 6. What are the three “mode” arguments that can be passed to the open() function?\n",
    "**ANS:** A file can be accessed in python using `open()` funtion.It takes two arguments filename and mode of operation,this is optional.If no mode is provided it takes the default is read mode. **open(filename, mode)** \n",
    "* `r`-read mode\n",
    "* `w`-write mode \n",
    "* `r+`-read/write mode"
   ]
  },
  {
   "cell_type": "markdown",
   "id": "bf6d8364",
   "metadata": {},
   "source": [
    "#### 7. What happens if an existing file is opened in write mode?\n",
    "**ANS:** It overwrites the existing file,if no file is not found then it creates new file."
   ]
  },
  {
   "cell_type": "markdown",
   "id": "8113952f",
   "metadata": {},
   "source": [
    "#### 8. How do you tell the difference between read() and readlines()?\n",
    "**ANS:** `read` will read the whole file at once and then print out the first characters that take up as many bytes as you specify in the parenthesis.`readlines()` that will read and print out only the first characters that take up as many bytes as you specify in the parenthesis."
   ]
  },
  {
   "cell_type": "markdown",
   "id": "c79272db",
   "metadata": {},
   "source": [
    "#### 9. What data structure does a shelf value resemble?\n",
    "**ANS:** It contains key and values it represents dictionary."
   ]
  },
  {
   "cell_type": "code",
   "execution_count": null,
   "id": "bfdb632a",
   "metadata": {},
   "outputs": [],
   "source": []
  }
 ],
 "metadata": {
  "kernelspec": {
   "display_name": "Python 3 (ipykernel)",
   "language": "python",
   "name": "python3"
  },
  "language_info": {
   "codemirror_mode": {
    "name": "ipython",
    "version": 3
   },
   "file_extension": ".py",
   "mimetype": "text/x-python",
   "name": "python",
   "nbconvert_exporter": "python",
   "pygments_lexer": "ipython3",
   "version": "3.10.0"
  }
 },
 "nbformat": 4,
 "nbformat_minor": 5
}

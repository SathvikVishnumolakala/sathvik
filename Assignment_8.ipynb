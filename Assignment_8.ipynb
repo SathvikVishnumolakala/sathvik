{
 "cells": [
  {
   "cell_type": "markdown",
   "id": "28da0cc7",
   "metadata": {},
   "source": [
    "#### 1. Is the Python Standard Library included with PyInputPlus?\n",
    "**ANS:** **PyInputPlus** is not included in the Python.But we can install it from pip."
   ]
  },
  {
   "cell_type": "markdown",
   "id": "9fa53116",
   "metadata": {},
   "source": [
    "#### 2. Why is PyInputPlus commonly imported with import pyinputplus as pypi?\n",
    "**ANS:** Whenever we want to use the library we have to specify the name ,instead of that we can give a short name **pypi**."
   ]
  },
  {
   "cell_type": "markdown",
   "id": "ffe1cb49",
   "metadata": {},
   "source": [
    "#### 3. How do you distinguish between inputInt() and inputFloat()?\n",
    "**ANS:** The difference is datatype.**inputint()** expects integer values and **inputfloat()** expects the floating point values upto 4 decimals."
   ]
  },
  {
   "cell_type": "markdown",
   "id": "ec2455b9",
   "metadata": {},
   "source": [
    "#### 4. Using PyInputPlus, how do you ensure that the user enters a whole number between 0 and 99?\n",
    "**ANS:** By using pyip.inputint(min=0, max=99)"
   ]
  },
  {
   "cell_type": "markdown",
   "id": "9ef690cf",
   "metadata": {},
   "source": [
    "#### 5. What is transferred to the keyword arguments allowRegexes and blockRegexes?\n",
    "**ANS:** A list of regex strings that are either explicitly allowed(**allowRegexes**) or denied(**blockRegexes**)."
   ]
  },
  {
   "cell_type": "markdown",
   "id": "3940dd9e",
   "metadata": {},
   "source": [
    "#### 6. If a blank input is entered three times, what does inputStr(limit=3) do?\n",
    "**ANS:** This function will raise **RetryLimitException**."
   ]
  },
  {
   "cell_type": "markdown",
   "id": "e5a3d4ec",
   "metadata": {},
   "source": [
    "#### 7. If blank input is entered three times, what does inputStr(limit=3, default='hello') do?\n",
    "**ANS:** This function returns the value `hello`."
   ]
  },
  {
   "cell_type": "code",
   "execution_count": null,
   "id": "72ea015e",
   "metadata": {},
   "outputs": [],
   "source": []
  }
 ],
 "metadata": {
  "kernelspec": {
   "display_name": "Python 3 (ipykernel)",
   "language": "python",
   "name": "python3"
  },
  "language_info": {
   "codemirror_mode": {
    "name": "ipython",
    "version": 3
   },
   "file_extension": ".py",
   "mimetype": "text/x-python",
   "name": "python",
   "nbconvert_exporter": "python",
   "pygments_lexer": "ipython3",
   "version": "3.10.0"
  }
 },
 "nbformat": 4,
 "nbformat_minor": 5
}

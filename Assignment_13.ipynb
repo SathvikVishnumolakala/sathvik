{
 "cells": [
  {
   "cell_type": "markdown",
   "id": "8e239064",
   "metadata": {},
   "source": [
    "#### 1. What advantages do Excel spreadsheets have over CSV spreadsheets?\n",
    "**ANS:** Excel is more superior when compared with the CSV file format; thus, CSV consumes less amount of file size when the user is importing data; it is a much faster format compared to excel. CSV does not manipulate data and stores it as-is. Excel also allows the user the add-in feature."
   ]
  },
  {
   "cell_type": "markdown",
   "id": "b81ef5e5",
   "metadata": {},
   "source": [
    "#### 2.What do you pass to csv.reader() and csv.writer() to create reader and writer objects?\n",
    "**ANS:** Filename is pass to csv.reader() and csv.writer() to create reader and writer objects."
   ]
  },
  {
   "cell_type": "markdown",
   "id": "84c097c6",
   "metadata": {},
   "source": [
    "#### 3. What modes do File objects for reader and writer objects need to be opened in?\n",
    "**ANS:** For reader object read mode `mode=r` and for writer object write mode `mode=w`."
   ]
  },
  {
   "cell_type": "markdown",
   "id": "f1fb11f2",
   "metadata": {},
   "source": [
    "#### 4. What method takes a list argument and writes it to a CSV file?\n",
    "**ANS:** The most common method to write data from a list to CSV file is the `writerow()` method of writer and DictWriter class."
   ]
  },
  {
   "cell_type": "markdown",
   "id": "a42c96c7",
   "metadata": {},
   "source": [
    "#### 5. What do the keyword arguments delimiter and line terminator do?\n",
    "**ANS:** The delimiter is the character that appears between cells on a row. By default, the delimiter for a CSV file is a comma. The line terminator is the character that comes at the end of a row. By default, the line terminator is a newline."
   ]
  },
  {
   "cell_type": "markdown",
   "id": "13a01409",
   "metadata": {},
   "source": [
    "#### 6. What function takes a string of JSON data and returns a Python data structure?\n",
    "**ANS:** We use the `json.loads()` method to parse a JSON string and return a Python object such as a dictionary.The `json.loads()` method takes the file contents as a string."
   ]
  },
  {
   "cell_type": "markdown",
   "id": "d78569c2",
   "metadata": {},
   "source": [
    "#### 7. What function takes a Python data structure and returns a string of JSON data?\n",
    "**ANS:** We can convert it into a JSON string by using the `json.dumps()` method."
   ]
  },
  {
   "cell_type": "code",
   "execution_count": null,
   "id": "ad07b04f",
   "metadata": {},
   "outputs": [],
   "source": []
  }
 ],
 "metadata": {
  "kernelspec": {
   "display_name": "Python 3 (ipykernel)",
   "language": "python",
   "name": "python3"
  },
  "language_info": {
   "codemirror_mode": {
    "name": "ipython",
    "version": 3
   },
   "file_extension": ".py",
   "mimetype": "text/x-python",
   "name": "python",
   "nbconvert_exporter": "python",
   "pygments_lexer": "ipython3",
   "version": "3.10.0"
  }
 },
 "nbformat": 4,
 "nbformat_minor": 5
}

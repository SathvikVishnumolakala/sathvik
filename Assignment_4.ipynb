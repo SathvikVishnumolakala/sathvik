{
 "cells": [
  {
   "cell_type": "markdown",
   "id": "45a2294e",
   "metadata": {},
   "source": [
    "#### 1. What exactly is []?\n",
    "**ANS** It is used to represent the list."
   ]
  },
  {
   "cell_type": "markdown",
   "id": "8e73de0f",
   "metadata": {},
   "source": [
    "#### 2. In a list of values stored in a variable called spam, how would you assign the value 'hello' as the third value? (Assume [2, 4, 6, 8, 10] are in spam.) \n",
    "**ANS:** \n",
    "* spam[2]='hello'"
   ]
  },
  {
   "cell_type": "markdown",
   "id": "5a476b39",
   "metadata": {},
   "source": [
    "#### Let's pretend the spam includes the list ['a', 'b', 'c', 'd'] for the next three queries.\n",
    "#### 3. What is the value of spam[int(int('3' * 2) / 11)]?\n",
    "**ANS:**\n",
    "* '3'*2 gives '33' then int('33') gives 33 then int(33/11) gives 3\n",
    "* spam[3] value is **'d'**."
   ]
  },
  {
   "cell_type": "markdown",
   "id": "6535088a",
   "metadata": {},
   "source": [
    "####  4. What is the value of spam[-1]?\n",
    "**ANS:** spam[-1] gives **'d'**."
   ]
  },
  {
   "cell_type": "markdown",
   "id": "d3a6b2b7",
   "metadata": {},
   "source": [
    "#### 5. What is the value of spam[:2]?\n",
    "**ANS:** Gives the list of [a,b]"
   ]
  },
  {
   "cell_type": "markdown",
   "id": "0bdbe2f5",
   "metadata": {},
   "source": [
    "#### Let's pretend bacon has the list [3.14, 'cat,' 11, 'cat,' True] for the next three questions.\n",
    "#### 6. What is the value of bacon.index('cat')?\n",
    "**ANS:** Gives the value 1 which is index value of cat."
   ]
  },
  {
   "cell_type": "markdown",
   "id": "be94598d",
   "metadata": {},
   "source": [
    "#### 7. How does bacon.append(99) change the look of the list value in bacon?\n",
    "**ANS:** It appends the value of 99 at last of the list."
   ]
  },
  {
   "cell_type": "markdown",
   "id": "fce8703c",
   "metadata": {},
   "source": [
    "#### 8. How does bacon.remove('cat') change the look of the list in bacon?\n",
    "**ANS:** The remove() function removes the specific value."
   ]
  },
  {
   "cell_type": "markdown",
   "id": "e37d52b0",
   "metadata": {},
   "source": [
    "#### 9. What are the list concatenation and list replication operators?\n",
    "**ANS:** \n",
    "* List concatenation combines the two lists and gives as a single list.**+** is used to list concatenation.\n",
    "* List replication repeats the list over specific number of times.**'*'** is used to list replicaiton"
   ]
  },
  {
   "cell_type": "markdown",
   "id": "ff935a02",
   "metadata": {},
   "source": [
    "#### 10. What is difference between the list methods append() and insert()?\n",
    "**ANS:** \n",
    "* append()- appends a element to the list at last position.\n",
    "* insert()- inserts a element to the list at specified position."
   ]
  },
  {
   "cell_type": "markdown",
   "id": "822853f2",
   "metadata": {},
   "source": [
    "#### 11. What are the two methods for removing items from a list?\n",
    "**ANS:** remove() and pop() functions can be used to removing items from a list.\n",
    "* remove() removes the specified value from the list.\n",
    "* pop() removes the element of a specified index in a list."
   ]
  },
  {
   "cell_type": "markdown",
   "id": "aaa2931e",
   "metadata": {},
   "source": [
    "####  12. Describe how list values and string values are identical.\n",
    "**ANS:** \n",
    "* Both are sequences difference between them is lists are mutable and strings are immutable.\n",
    "* Strings only contains characters and list contains different types of data."
   ]
  },
  {
   "cell_type": "markdown",
   "id": "790ecbbe",
   "metadata": {},
   "source": [
    "#### 13. What's the difference between tuples and lists?\n",
    "**ANS:** Tuples and lists are similar but the difference is tuples are immutable and lists are mutable."
   ]
  },
  {
   "cell_type": "markdown",
   "id": "c2083557",
   "metadata": {},
   "source": [
    "#### 14. How do you type a tuple value that only contains the integer 42?\n",
    "**ANS:** (42,) The trailing comma is mandatory for creating this type of tuples."
   ]
  },
  {
   "cell_type": "markdown",
   "id": "e91989a9",
   "metadata": {},
   "source": [
    "#### 15. How do you get a list value's tuple form? How do you get a tuple value's list form?\n",
    "**ANS:** \n",
    "* List can be changed into tuple by using **tuple()** function.\n",
    "* Tuple can be changed into list by using **list()** function."
   ]
  },
  {
   "cell_type": "markdown",
   "id": "883dba4e",
   "metadata": {},
   "source": [
    "#### 16. Variables that \"contain\" list values are not necessarily lists themselves. Instead, what do they contain?\n",
    "**ANS:** Variables will contain references to list values. But for strings and integer values, variables simply contain the string or integer value."
   ]
  },
  {
   "cell_type": "markdown",
   "id": "e79dbc01",
   "metadata": {},
   "source": [
    "#### 17. How do you distinguish between copy.copy() and copy.deepcopy()?\n",
    "**ANS:**\n",
    "* copy.copy() creates the reference to the original object.If we change the reference object then the original object also changes.\n",
    "* copy.deepcopy() creates the object containing original object.If we change the new object it does not effects the original object."
   ]
  },
  {
   "cell_type": "code",
   "execution_count": null,
   "id": "18d627c7",
   "metadata": {},
   "outputs": [],
   "source": []
  }
 ],
 "metadata": {
  "kernelspec": {
   "display_name": "Python 3 (ipykernel)",
   "language": "python",
   "name": "python3"
  },
  "language_info": {
   "codemirror_mode": {
    "name": "ipython",
    "version": 3
   },
   "file_extension": ".py",
   "mimetype": "text/x-python",
   "name": "python",
   "nbconvert_exporter": "python",
   "pygments_lexer": "ipython3",
   "version": "3.10.0"
  }
 },
 "nbformat": 4,
 "nbformat_minor": 5
}

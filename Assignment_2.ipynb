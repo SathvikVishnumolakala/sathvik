{
 "cells": [
  {
   "cell_type": "markdown",
   "id": "ca5d9892",
   "metadata": {},
   "source": [
    "#### 1.What are the two values of the Boolean data type? How do you write them?\n",
    "**ANS:** The two values of the Boolean data type are True and False.\n",
    "* True\n",
    "* False"
   ]
  },
  {
   "cell_type": "markdown",
   "id": "7dbb4454",
   "metadata": {},
   "source": [
    "#### 2. What are the three different types of Boolean operators?\n",
    "**ANS:** \n",
    "* The AND operator\n",
    "* The OR operator\n",
    "* The NOT operator"
   ]
  },
  {
   "cell_type": "markdown",
   "id": "33f8cc55",
   "metadata": {},
   "source": [
    "#### 3. Make a list of each Boolean operator's truth tables (i.e. every possible combination of Boolean values for the operator and what it evaluate ).\n",
    "**ANS:**\n",
    "* AND \n",
    "       A     B      A AND B\n",
    "      True  True     True\n",
    "      False True     False\n",
    "      True  False    False\n",
    "      False False    False\n",
    "      \n",
    "* OR\n",
    "       A     B      A OR B\n",
    "      True  True     True\n",
    "      False True     True\n",
    "      True  False    True\n",
    "      False False    False\n",
    "      \n",
    "* NOT \n",
    "        A          NOT A\n",
    "       True       False\n",
    "       False       True "
   ]
  },
  {
   "cell_type": "markdown",
   "id": "583d3234",
   "metadata": {},
   "source": [
    "#### 4. What are the values of the following expressions?\n",
    "#### (5 > 4) and (3 == 5)\n",
    "#### not (5 > 4)\n",
    "#### (5 > 4) or (3 == 5)\n",
    "#### not ((5 > 4) or (3 == 5))\n",
    "#### (True and True) and (True == False)\n",
    "#### (not False) or (not True)\n",
    "**ANS:**\n",
    "The values are \n",
    "* False\n",
    "* False\n",
    "* True\n",
    "* False\n",
    "* False\n",
    "* True\n"
   ]
  },
  {
   "cell_type": "markdown",
   "id": "b8c258f2",
   "metadata": {},
   "source": [
    "#### 5. What are the six comparison operators?\n",
    "**ANS:**\n",
    "1.  ==\n",
    "2.  '>'\n",
    "3.  '>='\n",
    "4.  <=\n",
    "5.  <\n",
    "6.  !="
   ]
  },
  {
   "cell_type": "markdown",
   "id": "aba61475",
   "metadata": {},
   "source": [
    "#### 6. How do you tell the difference between the equal to and assignment operators?Describe a condition and when you would use one.\n",
    "**ANS:** The equal operator checks whether it is equal or not.The assignment operator when we need to assign a value to a variable.\n",
    "*   **a=6** This is assignment operator it just assigns the 6 to the variable.\n",
    "*   **a==6** This is equal operator it checks if its equal or not.It returns True if equal aand False if not equal."
   ]
  },
  {
   "cell_type": "markdown",
   "id": "6dc008b2",
   "metadata": {},
   "source": [
    "#### 7. Identify the three blocks in this code:\n",
    "spam = 0\n",
    "if spam == 10:\n",
    "print('eggs')\n",
    "if spam > 5:\n",
    "print('bacon')\n",
    "else:\n",
    "print('ham')\n",
    "print('spam')\n",
    "print('spam')\n",
    " \n",
    "**ANS:** The three blocks are\n",
    "* if spam == 10:\n",
    "    print('eggs')\n",
    "* if spam > 5:\n",
    "    print('bacon')\n",
    "* else:\n",
    "    print('ham')\n",
    "    print('spam')\n",
    "    print('spam')"
   ]
  },
  {
   "cell_type": "markdown",
   "id": "c3934b1a",
   "metadata": {},
   "source": [
    "#### 8. Write code that prints Hello if 1 is stored in spam, prints Howdy if 2 is stored in spam, and prints Greetings! if anything else is stored in spam.\n",
    "**ANS:** \n",
    "* if spam==1:\n",
    "    print(\"Hello\")\n",
    "* elif spam==2:\n",
    "    print(\"Howdy\")\n",
    "* else:\n",
    "    print(\"Greetings!\")"
   ]
  },
  {
   "cell_type": "markdown",
   "id": "43ae7634",
   "metadata": {},
   "source": [
    "#### 9.If your programme is stuck in an endless loop, what keys you’ll press?\n",
    "**ANS:**\n",
    "Ctrl+C  is the key used to break the endless loop."
   ]
  },
  {
   "cell_type": "markdown",
   "id": "95bc5bab",
   "metadata": {},
   "source": [
    "#### 10. How can you tell the difference between break and continue?\n",
    "**ANS:** Break terminates the current executing loop.Continue skips the current iteration and moves to the next iteration."
   ]
  },
  {
   "cell_type": "markdown",
   "id": "f35e16b0",
   "metadata": {},
   "source": [
    "#### 11. In a for loop, what is the difference between range(10), range(0, 10), and range(0, 10, 1)?\n",
    "**ANS:** \n",
    "All the three range functions gives same range of values i.e **0 to 9**.\n",
    "* range(10) gives the numbers from 0 to 9,it automatically initializes with starting value with 0. \n",
    "* range(0,10) gives the numbers from 0 to 9,but we are specifing the initial value with 0.\n",
    "* range(0,10,1) gives the numbers from 0 to 9,but we are specifing the initial value with 0 and the difference between 2 values is 1."
   ]
  },
  {
   "cell_type": "markdown",
   "id": "b7a2b68b",
   "metadata": {},
   "source": [
    "#### 12. Write a short program that prints the numbers 1 to 10 using a for loop. Then write an equivalent program that prints the numbers 1 to 10 using a while loop.\n",
    "**ANS:**\n",
    "* Using for loop"
   ]
  },
  {
   "cell_type": "code",
   "execution_count": 1,
   "id": "6dc190d0",
   "metadata": {},
   "outputs": [
    {
     "name": "stdout",
     "output_type": "stream",
     "text": [
      "1\n",
      "2\n",
      "3\n",
      "4\n",
      "5\n",
      "6\n",
      "7\n",
      "8\n",
      "9\n",
      "10\n"
     ]
    }
   ],
   "source": [
    "for i in range(1,11):\n",
    "    print(i)"
   ]
  },
  {
   "cell_type": "markdown",
   "id": "d722fabb",
   "metadata": {},
   "source": [
    "* Using While loop"
   ]
  },
  {
   "cell_type": "code",
   "execution_count": 3,
   "id": "c63e5671",
   "metadata": {},
   "outputs": [
    {
     "name": "stdout",
     "output_type": "stream",
     "text": [
      "1\n",
      "2\n",
      "3\n",
      "4\n",
      "5\n",
      "6\n",
      "7\n",
      "8\n",
      "9\n",
      "10\n"
     ]
    }
   ],
   "source": [
    "l=1\n",
    "while l<=10:\n",
    "    print(l)\n",
    "    l+=1"
   ]
  },
  {
   "cell_type": "markdown",
   "id": "d8218b5b",
   "metadata": {},
   "source": [
    "#### 13. If you had a function named bacon() inside a module named spam, how would you call it after importing spam?\n",
    "**ANS:** spam.bacon()"
   ]
  },
  {
   "cell_type": "code",
   "execution_count": null,
   "id": "dc7f778d",
   "metadata": {},
   "outputs": [],
   "source": []
  }
 ],
 "metadata": {
  "kernelspec": {
   "display_name": "Python 3 (ipykernel)",
   "language": "python",
   "name": "python3"
  },
  "language_info": {
   "codemirror_mode": {
    "name": "ipython",
    "version": 3
   },
   "file_extension": ".py",
   "mimetype": "text/x-python",
   "name": "python",
   "nbconvert_exporter": "python",
   "pygments_lexer": "ipython3",
   "version": "3.10.0"
  }
 },
 "nbformat": 4,
 "nbformat_minor": 5
}

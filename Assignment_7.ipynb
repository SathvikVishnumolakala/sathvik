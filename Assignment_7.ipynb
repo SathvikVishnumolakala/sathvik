{
 "cells": [
  {
   "cell_type": "markdown",
   "id": "c98da185",
   "metadata": {},
   "source": [
    "#### 1. What is the name of the feature responsible for generating Regex objects?\n",
    "**ANS:** The feature responsible for generating regex objects **re.compile()**."
   ]
  },
  {
   "cell_type": "markdown",
   "id": "d7072799",
   "metadata": {},
   "source": [
    "#### 2. Why do raw strings often appear in Regex objects?\n",
    "**ANS:**  Raw strings are used so that backslashes do not have to be escaped."
   ]
  },
  {
   "cell_type": "markdown",
   "id": "0a7b08f8",
   "metadata": {},
   "source": [
    "#### 3. What is the return value of the search() method?\n",
    "**ANS:** It returns -1 if no match is found."
   ]
  },
  {
   "cell_type": "markdown",
   "id": "cfe065dd",
   "metadata": {},
   "source": [
    "#### 4. From a Match item, how do you get the actual strings that match the pattern?\n",
    "**ANS:** For a matched items `group()` methods returns actual strings that match the pattern."
   ]
  },
  {
   "cell_type": "markdown",
   "id": "40aa886e",
   "metadata": {},
   "source": [
    "#### 5. In the regex which created from the r'(\\d\\d\\d)-(\\d\\d\\d-\\d\\d\\d\\d)', what does group zero cover? Group 2? Group 1?\n",
    "**ANS:** The zero group covers the entire pattern match where as the first group cover `(\\d\\d\\d)` and the second cover `(\\d\\d\\d-\\d\\d\\d\\d)`."
   ]
  },
  {
   "cell_type": "markdown",
   "id": "fb0176cd",
   "metadata": {},
   "source": [
    "#### 6. In standard expression syntax, parentheses and intervals have distinct meanings. How can you tell a regex that you want it to fit real parentheses and periods?\n",
    "**ANS:** The `\\.` `\\(` and `\\)` escape characters in the raw string passed to re.compile() will match actual parenthesis character"
   ]
  },
  {
   "cell_type": "markdown",
   "id": "467645f7",
   "metadata": {},
   "source": [
    "#### 7. The findall() method returns a string list or a list of string tuples. What causes it to return one of the two options?\n",
    "**ANS:** It returns list of strings matched is returned,if the regex pattern has no group.It returns list of string tuples matched is returned,if the regex pattern has group."
   ]
  },
  {
   "cell_type": "markdown",
   "id": "c31c3b33",
   "metadata": {},
   "source": [
    "#### 8. In standard expressions, what does the | character mean?\n",
    "**ANS:** It is same as **OR** operator."
   ]
  },
  {
   "cell_type": "markdown",
   "id": "e628a8b3",
   "metadata": {},
   "source": [
    "#### 9. In regular expressions, what does the `?` character stand for?\n",
    "**ANS:** It's `?` characters represents zero or one match of the preceeding group."
   ]
  },
  {
   "cell_type": "markdown",
   "id": "05f39ef9",
   "metadata": {},
   "source": [
    "#### 10.In regular expressions, what is the difference between the + and * characters?\n",
    "**ANS:** `+` represents one or more occurances of the preceeding group.`*` represents Zero ore more occurances of the preceeding group."
   ]
  },
  {
   "cell_type": "markdown",
   "id": "4368e2cb",
   "metadata": {},
   "source": [
    "#### 11. What is the difference between {4} and {4,5} in regular expression?\n",
    "**ANS:** {4} means that its preceeding group should repeat 4 times.{4,5} means that its preceeding group should repeat minimum 4 times and 5 times maximum."
   ]
  },
  {
   "cell_type": "markdown",
   "id": "9433b63f",
   "metadata": {},
   "source": [
    "#### 12. What do you mean by the \\d, \\w, and \\s shorthand character classes signify in regular expressions?\n",
    "**ANS:** These are the special sequences.\n",
    "* `\\d`- Matches a word character equivalent to [a-zA-Z0-9].\n",
    "* `\\w`- Matches digit character equivalent to [0-9].\n",
    "* `\\s`- Matches whitespace character ."
   ]
  },
  {
   "cell_type": "markdown",
   "id": "017a6f88",
   "metadata": {},
   "source": [
    "#### 13. What do means by \\D, \\W, and \\S shorthand character classes signify in regular expressions?\n",
    "**ANS:** \n",
    "* `\\W` - Matches any non-alphanumeric character equivalent to [^a-zA-Z0-9_]\n",
    "* `\\D` - Matches any non-digit character, this is equivalent to the set class [^0-9]\n",
    "* `\\S` - Matches any non-whitespace character."
   ]
  },
  {
   "cell_type": "markdown",
   "id": "0b6c0ec6",
   "metadata": {},
   "source": [
    "#### 14. What is the difference between .*? and .*?\n",
    "**ANS:** \n",
    "* `.*?` is non greedy mode,returns the shortest string that satisfies the condition.\n",
    "* `*` is a Greedy mode,returns the longest string that satisfies the condition."
   ]
  },
  {
   "cell_type": "markdown",
   "id": "f626cf86",
   "metadata": {},
   "source": [
    "#### 15. What is the syntax for matching both numbers and lowercase letters with a character class?\n",
    "**ANS:** [a-z0-9] or [0-9a-z]"
   ]
  },
  {
   "cell_type": "markdown",
   "id": "1de9e534",
   "metadata": {},
   "source": [
    "#### 16. What is the procedure for making a normal expression in regax case insensitive?\n",
    "**ANS:** re.IGNORECASE "
   ]
  },
  {
   "cell_type": "markdown",
   "id": "306f91b8",
   "metadata": {},
   "source": [
    "#### 17. What does the . character normally match? What does it match if re.DOTALL is passed as 2nd argument in re.compile()?\n",
    "**ANS:** `.` character matches everything in input except newline character. By using **re.DOTALL** as a flag to **re.compile()**,we can make the dot character match all the characters,including newline character."
   ]
  },
  {
   "cell_type": "markdown",
   "id": "09e693f1",
   "metadata": {},
   "source": [
    "#### 18. If numReg = re.compile(r'\\d+'), what will numRegex.sub('X', '11 drummers, 10 pipers, five rings, 4 hen') return?\n",
    "**ANS:** Output will `X drummers, X pipers, five rings, X hen`"
   ]
  },
  {
   "cell_type": "markdown",
   "id": "af47ed89",
   "metadata": {},
   "source": [
    "#### 19. What does passing re.VERBOSE as the 2nd argument to re.compile() allow to do?\n",
    "**ANS:** `re.VERBOSE` will allow to add whitespace and comments to string passed to `re.compile()`. "
   ]
  },
  {
   "cell_type": "markdown",
   "id": "af63b1a8",
   "metadata": {},
   "source": [
    "#### 20. How would you write a regex that match a number with comma for every three digits? It must match the given following:\n",
    "#### '42'\n",
    "#### '1,234'\n",
    "#### '6,368,745'\n",
    "####  but not the following:\n",
    "#### '12,34,567' (which has only two digits between the commas)\n",
    "#### '1234' (which lacks commas)\n",
    "**ANS:** "
   ]
  },
  {
   "cell_type": "markdown",
   "id": "5fe71540",
   "metadata": {},
   "source": [
    "#### 21. How would you write a regex that matches the full name of someone whose last name is Watanabe? You can assume that the first name that comes before it will always be one word that begins with a capital letter. The regex must match the following:\n",
    "#### 'Haruto Watanabe'\n",
    "#### 'Alice Watanabe'\n",
    "#### 'RoboCop Watanabe'\n",
    "#### but not the following:\n",
    "#### 'haruto Watanabe' (where the first name is not capitalized)\n",
    "#### 'Mr. Watanabe' (where the preceding word has a nonletter character)\n",
    "#### 'Watanabe' (which has no first name)\n",
    "#### 'Haruto watanabe' (where Watanabe is not capitalized)\n",
    "**ANS:** `reg = r'[A-Z]{1}[a-z]*\\sWatanabe'`"
   ]
  },
  {
   "cell_type": "markdown",
   "id": "427e862c",
   "metadata": {},
   "source": [
    "#### 22. How would you write a regex that matches a sentence where the first word is either Alice, Bob, or Carol; the second word is either eats, pets, or throws; the third word is apples, cats, or baseballs; and the sentence ends with a period? This regex should be case-insensitive. It must match the following:\n",
    "#### 'Alice eats apples.'\n",
    "#### 'Bob pets cats.'\n",
    "#### 'Carol throws baseballs.'\n",
    "#### 'Alice throws Apples.'\n",
    "#### 'BOB EATS CATS.'\n",
    "#### but not the following:\n",
    "#### 'RoboCop eats apples.'\n",
    "#### 'ALICE THROWS FOOTBALLS.'\n",
    "#### 'Carol eats 7 cats.'\n",
    "**ANS:** `reg= r'(Alice|Bob|Carol)\\s(eats|pets|throws)\\s(apples|cats|baseballs)\\.'`"
   ]
  },
  {
   "cell_type": "code",
   "execution_count": null,
   "id": "a22105e2",
   "metadata": {},
   "outputs": [],
   "source": []
  },
  {
   "cell_type": "code",
   "execution_count": null,
   "id": "44199b10",
   "metadata": {},
   "outputs": [],
   "source": []
  }
 ],
 "metadata": {
  "kernelspec": {
   "display_name": "Python 3 (ipykernel)",
   "language": "python",
   "name": "python3"
  },
  "language_info": {
   "codemirror_mode": {
    "name": "ipython",
    "version": 3
   },
   "file_extension": ".py",
   "mimetype": "text/x-python",
   "name": "python",
   "nbconvert_exporter": "python",
   "pygments_lexer": "ipython3",
   "version": "3.10.0"
  }
 },
 "nbformat": 4,
 "nbformat_minor": 5
}

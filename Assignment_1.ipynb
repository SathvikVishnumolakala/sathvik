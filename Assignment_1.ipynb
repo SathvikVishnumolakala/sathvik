{
 "cells": [
  {
   "cell_type": "markdown",
   "id": "e2ba48c2",
   "metadata": {},
   "source": [
    "#### 1. In the below elements which of them are values or an expression? **eg:-** values can be integer or string and expressions will be mathematical operators.  \n",
    "`*`,`'hello'`, `-87.8`,`-`,`/`,`+`,`6`\n",
    "\n",
    "**ANS:**  \n",
    "* There are 4 expressions and 3 values.\n",
    "* Expressions are '*','-','/','+'.\n",
    "* Values are 'hello',87.8,6."
   ]
  },
  {
   "cell_type": "markdown",
   "id": "c6d28a58",
   "metadata": {},
   "source": [
    "#### 2. What is the difference between string and variable?\n",
    "**ANS:**\n",
    "Strings are collection of characters.Variables stores the values of different type.Strings can be stored in variables.\n",
    "Variables may be characters but keywords cannot used as variable."
   ]
  },
  {
   "cell_type": "markdown",
   "id": "adbb6912",
   "metadata": {},
   "source": [
    "#### 3.Describe three different data types.\n",
    "**ANS:**\n",
    "int,float,str\n",
    "* **int:** int contains integer values.(Ex:-99,294,0,-111)\n",
    "* **float:** float contains floating values(Ex:-23.4,346.3)\n",
    "* **str:** str contains strings which are collection of characters.(Ex:-'sathvik',\"ineuron\")"
   ]
  },
  {
   "cell_type": "code",
   "execution_count": 1,
   "id": "0c96bc5e",
   "metadata": {},
   "outputs": [
    {
     "name": "stdout",
     "output_type": "stream",
     "text": [
      "<class 'int'>\n",
      "<class 'float'>\n",
      "<class 'str'>\n"
     ]
    }
   ],
   "source": [
    "a=99\n",
    "b=23.4\n",
    "c='sathvik'\n",
    "print(type(a))\n",
    "print(type(b))\n",
    "print(type(c))"
   ]
  },
  {
   "cell_type": "markdown",
   "id": "8fead432",
   "metadata": {},
   "source": [
    "#### 4.What is an expression made up of? What do all expressions do?\n",
    "**ANS:** \n",
    "Expressions are made up of values,mathematical operators,variables,constants.Expressions evaluate the mathematical operators and gives the values.\n"
   ]
  },
  {
   "cell_type": "code",
   "execution_count": 3,
   "id": "a29c3e54",
   "metadata": {},
   "outputs": [
    {
     "data": {
      "text/plain": [
       "909.3333333333334"
      ]
     },
     "execution_count": 3,
     "metadata": {},
     "output_type": "execute_result"
    }
   ],
   "source": [
    "k=9\n",
    "p=93*88/k\n",
    "p"
   ]
  },
  {
   "cell_type": "markdown",
   "id": "0f6e4c49",
   "metadata": {},
   "source": [
    "#### 5.This assignment statements, like spam = 10. What is the difference between an expression and a statement?\n",
    "**ANS:** The statements stores the values and variables are used to store the values. Expression contains the mathematical operators."
   ]
  },
  {
   "cell_type": "markdown",
   "id": "9afe34f2",
   "metadata": {},
   "source": [
    "#### 6. After running the following code, what does the variable bacon contain?\n",
    "#### bacon = 22\n",
    "#### bacon + 1\n",
    "**ANS:** The variable bacon contains the value of 22.The assignment operation is not done,so the bacon value doesn't change.\n"
   ]
  },
  {
   "cell_type": "code",
   "execution_count": 4,
   "id": "22d42d30",
   "metadata": {},
   "outputs": [
    {
     "name": "stdout",
     "output_type": "stream",
     "text": [
      "22\n"
     ]
    }
   ],
   "source": [
    "bacon=22\n",
    "bacon+1\n",
    "print(bacon)"
   ]
  },
  {
   "cell_type": "markdown",
   "id": "962852e4",
   "metadata": {},
   "source": [
    "#### 7. What should be the values of the following two terms be?\n",
    "#### 'spam' + 'spamspam'\n",
    "#### 'spam' * 3\n",
    "**ANS:** Both will give the same values.i.e 'spamspamspam'\n",
    "* The first line having '+' operator concatenate the both strings.\n",
    "* The second line mulitpies the string 3 times."
   ]
  },
  {
   "cell_type": "code",
   "execution_count": 6,
   "id": "4792ab2d",
   "metadata": {},
   "outputs": [
    {
     "name": "stdout",
     "output_type": "stream",
     "text": [
      "spamspamspam\n",
      "spamspamspam\n"
     ]
    }
   ],
   "source": [
    "print('spam'+'spamspam')\n",
    "print('spam'*3)"
   ]
  },
  {
   "cell_type": "markdown",
   "id": "e3e722d0",
   "metadata": {},
   "source": [
    "#### 8. Why is eggs a valid variable name while 100 is invalid?\n",
    "**ANS:** It's the one of the rule for variable name.\n",
    "* The variable name does not contain numerical values.\n",
    "so the variable name eggs is valid and 100 is invalid."
   ]
  },
  {
   "cell_type": "markdown",
   "id": "a9923b2e",
   "metadata": {},
   "source": [
    "#### 9. What three functions can be used to get the integer, floating-point number, or string version of a value?\n",
    "**ANS:** \n",
    "* int() is the function name to get the integer value.\n",
    "* float() is the function name to get the floating-point value.\n",
    "* str() is the function name to get the string values."
   ]
  },
  {
   "cell_type": "code",
   "execution_count": 10,
   "id": "68532bac",
   "metadata": {},
   "outputs": [
    {
     "name": "stdout",
     "output_type": "stream",
     "text": [
      "99 <class 'int'>\n",
      "34.99 <class 'str'>\n",
      "32456.0 <class 'float'>\n"
     ]
    }
   ],
   "source": [
    "a,k,l='99',34.99,32456\n",
    "b,c,d=int(a),str(k),float(l)\n",
    "print(b, type(b))\n",
    "print(c, type(c))\n",
    "print(d, type(d))"
   ]
  },
  {
   "cell_type": "markdown",
   "id": "9ba0784d",
   "metadata": {},
   "source": [
    "#### 10. Why does this expression cause an error? How can you fix it?\n",
    "#### 'I have eaten ' + 99 + ' burritos.'\n",
    "**ANS:**\n",
    "* Because the string cannot concatenate with the numerical values.\n",
    "* To overcome this str function or string of 99 values can be used\n",
    "1. 'I have eaten ' + str(99) + ' burritos.'\n",
    "2. 'I have eaten ' + '99' + ' burritos.'"
   ]
  },
  {
   "cell_type": "code",
   "execution_count": 11,
   "id": "329a9fb0",
   "metadata": {
    "scrolled": true
   },
   "outputs": [
    {
     "ename": "TypeError",
     "evalue": "can only concatenate str (not \"int\") to str",
     "output_type": "error",
     "traceback": [
      "\u001b[1;31m---------------------------------------------------------------------------\u001b[0m",
      "\u001b[1;31mTypeError\u001b[0m                                 Traceback (most recent call last)",
      "\u001b[1;32m~\\AppData\\Local\\Temp/ipykernel_18364/1830233853.py\u001b[0m in \u001b[0;36m<module>\u001b[1;34m\u001b[0m\n\u001b[1;32m----> 1\u001b[1;33m \u001b[0mprint\u001b[0m\u001b[1;33m(\u001b[0m\u001b[1;34m'I have eaten '\u001b[0m \u001b[1;33m+\u001b[0m \u001b[1;36m99\u001b[0m \u001b[1;33m+\u001b[0m \u001b[1;34m' burritos.'\u001b[0m\u001b[1;33m)\u001b[0m\u001b[1;33m\u001b[0m\u001b[1;33m\u001b[0m\u001b[0m\n\u001b[0m",
      "\u001b[1;31mTypeError\u001b[0m: can only concatenate str (not \"int\") to str"
     ]
    }
   ],
   "source": [
    "print('I have eaten ' + 99 + ' burritos.')"
   ]
  },
  {
   "cell_type": "code",
   "execution_count": 12,
   "id": "18ee1c2e",
   "metadata": {},
   "outputs": [
    {
     "name": "stdout",
     "output_type": "stream",
     "text": [
      "I have eaten 99 burritos.\n",
      "I have eaten 99 burritos.\n"
     ]
    }
   ],
   "source": [
    "print('I have eaten ' + '99' + ' burritos.')\n",
    "print('I have eaten ' + str(99) + ' burritos.')"
   ]
  },
  {
   "cell_type": "code",
   "execution_count": null,
   "id": "bce45c2b",
   "metadata": {},
   "outputs": [],
   "source": []
  }
 ],
 "metadata": {
  "kernelspec": {
   "display_name": "Python 3 (ipykernel)",
   "language": "python",
   "name": "python3"
  },
  "language_info": {
   "codemirror_mode": {
    "name": "ipython",
    "version": 3
   },
   "file_extension": ".py",
   "mimetype": "text/x-python",
   "name": "python",
   "nbconvert_exporter": "python",
   "pygments_lexer": "ipython3",
   "version": "3.10.0"
  }
 },
 "nbformat": 4,
 "nbformat_minor": 5
}

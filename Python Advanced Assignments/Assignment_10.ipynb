{
 "cells": [
  {
   "cell_type": "markdown",
   "id": "c0446df1",
   "metadata": {},
   "source": [
    "#### 1. What is the difference between __getattr__ and __getattribute__?\n",
    "**ANS:** `__getattribute__` is used to find the attribute in a class. It raises an error **AttributeError** if attribute is not found. `__getattr__` is used when `__getattribute__` got an attribute error, then it returns default value. Both are used in same class. "
   ]
  },
  {
   "cell_type": "markdown",
   "id": "31c5659f",
   "metadata": {},
   "source": [
    "#### Q2. What is the difference between properties and descriptors?\n",
    "**ANS:**  \n",
    "* With Properties we can bind getter, setter and delete functions together with an attribute name, using the built-in property function or `@property` decorator.\n",
    "* With Descriptor we can bind getter, setter and delete functions into a seperate class. we then assign an object of this class to the attribute name in our main class."
   ]
  },
  {
   "cell_type": "markdown",
   "id": "6ea2c1cb",
   "metadata": {},
   "source": [
    "#### Q3. What are the key differences in functionality between __getattr__ and __getattribute__, as well as properties and descriptors?\n",
    "**ANS:** \n",
    "* `__getattr__` : Python will call this method whenever you request an attribute that hasn't already been defined\n",
    "* `__getattribute__`: This method will invoked before looking at the actual attributes on the object. \n",
    "* With Properties we can bind getter, setter and delete functions together with an attribute name, using the built-in property function or `@property` decorator.\n",
    "* With Descriptor we can bind getter, setter and delete functions into a seperate class. we then assign an object of this class to the attribute name in our main class."
   ]
  },
  {
   "cell_type": "code",
   "execution_count": null,
   "id": "895d79d4",
   "metadata": {},
   "outputs": [],
   "source": []
  }
 ],
 "metadata": {
  "kernelspec": {
   "display_name": "Python 3 (ipykernel)",
   "language": "python",
   "name": "python3"
  },
  "language_info": {
   "codemirror_mode": {
    "name": "ipython",
    "version": 3
   },
   "file_extension": ".py",
   "mimetype": "text/x-python",
   "name": "python",
   "nbconvert_exporter": "python",
   "pygments_lexer": "ipython3",
   "version": "3.10.0"
  }
 },
 "nbformat": 4,
 "nbformat_minor": 5
}

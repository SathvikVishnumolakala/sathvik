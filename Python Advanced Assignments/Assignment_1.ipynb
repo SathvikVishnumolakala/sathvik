{
 "cells": [
  {
   "cell_type": "markdown",
   "id": "40267130",
   "metadata": {},
   "source": [
    "#### 1. What is the purpose of Python's OOP?\n",
    "**ANS:** A programming paradigm that uses objects and classes in programming. It aims to implement real-world entities like inheritance, polymorphisms, encapsulation in the programming.\n",
    "* It helps to divide our over all program into different small segments and thus making it solving easy with the use of objects.\n",
    "* Helps in easy maintenance and modification of existing program\n",
    "* Multiple instances of an object can be made."
   ]
  },
  {
   "cell_type": "markdown",
   "id": "2c38693b",
   "metadata": {},
   "source": [
    "#### 2. Where does an inheritance search look for an attribute?\n",
    "**ANS:** It first searches for the attribute in its instance and then looks in the class it is generated from, to all super classes listed in its class header."
   ]
  },
  {
   "cell_type": "markdown",
   "id": "60f4ab33",
   "metadata": {},
   "source": [
    "#### 3. How do you distinguish between a class object and an instance object?\n",
    "**Ans:** An object is an instance of a class. When a class is created, no memory is allocated. Objects are allocated memory space whenever they are created. The class has to be declared first and only once."
   ]
  },
  {
   "cell_type": "markdown",
   "id": "ff014b92",
   "metadata": {},
   "source": [
    "#### 4. What makes the first argument in a class’s method function special?\n",
    "**ANS:** **Self** is the first argument used.It binds the attributes with the given arguments."
   ]
  },
  {
   "cell_type": "markdown",
   "id": "fff42cce",
   "metadata": {},
   "source": [
    "#### 5. What is the purpose of the __init__ method?\n",
    "**ANS:** The **__init__** method lets the class initialize the object's attributes and serves no other purpose.It is only used within classes."
   ]
  },
  {
   "cell_type": "markdown",
   "id": "01e25d81",
   "metadata": {},
   "source": [
    "#### 6. What is the process for creating a class instance?\n",
    "**ANS:** To create class instance,we need to call the class by its name and pass the arguments to the class,which its **init** method accepts."
   ]
  },
  {
   "cell_type": "markdown",
   "id": "0e39c5a0",
   "metadata": {},
   "source": [
    "#### 7. What is the process for creating a class?\n",
    "**ANS:** **class** keyword is used to create a class.Syntax will be **class name_of_the_class:**\n",
    "* **EX:** class Student:"
   ]
  },
  {
   "cell_type": "markdown",
   "id": "523b68c4",
   "metadata": {},
   "source": [
    "#### 8. How would you define the superclasses of a class?\n",
    "**ANS:** Superclass is given as the argument to the class."
   ]
  },
  {
   "cell_type": "code",
   "execution_count": null,
   "id": "1b1b4f29",
   "metadata": {},
   "outputs": [],
   "source": []
  }
 ],
 "metadata": {
  "kernelspec": {
   "display_name": "Python 3 (ipykernel)",
   "language": "python",
   "name": "python3"
  },
  "language_info": {
   "codemirror_mode": {
    "name": "ipython",
    "version": 3
   },
   "file_extension": ".py",
   "mimetype": "text/x-python",
   "name": "python",
   "nbconvert_exporter": "python",
   "pygments_lexer": "ipython3",
   "version": "3.10.0"
  }
 },
 "nbformat": 4,
 "nbformat_minor": 5
}

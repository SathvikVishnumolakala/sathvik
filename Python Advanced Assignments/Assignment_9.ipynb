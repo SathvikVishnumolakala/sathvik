{
 "cells": [
  {
   "cell_type": "markdown",
   "id": "269405c6",
   "metadata": {},
   "source": [
    "#### 1. In Python 3.X, what are the names and functions of string object types?\n",
    "**ANS:** \n",
    "* `.isdecimal()` -> Returns True if all characters in a string are decimal.\n",
    "* `.isalnum()` -> Returns True if all characters in the string are AlphaNumeric.\n",
    "* `.istitle()` -> Returns True if first character in a string is in Uppercase.\n",
    "* `.partition()` -> Splits string at first occurance of sub string and returns a tuple of 3 elements.\n",
    "* `.rpartition()` -> Splits string at last occurance of sub string and returns a tuple of 3 elements.\n",
    "* `.isidentifier()` -> Returns True if give string is a valid identifier name.\n",
    "* `len()` -> Returns the length of the given string.\n",
    "* `.index()` -> Returns the lowest index of substring if substring is found in the string.\n",
    "* `.rindex()` -> Returns the highest index of substring if substring is found in the string.\n",
    "* `max()` -> Returns the highest Alphabetical Character in the string as per ASCII.\n",
    "* `min()` -> Returns the lowest Alphabetical Character in the string as per ASCII.\n",
    "* `.splitlines()` -> Returns a list of lines in the string.\n",
    "* `.capitalize()` -> Returns the string with first character capitalized.\n",
    "* `.upper()` -> Returns the string with all characters in uppercase.\n",
    "* `.lower()` -> Returns the string with all characters in lowercase\n",
    "* `.casefold()` -> Returns the string in lowercase which can be used for caseless comparisions.\n",
    "* `.expandtabs(no_of_spaces)` -> Replaces tabs in a string with specified no of spaces default is 8\n",
    "* `.find()` -> Returns lowest index of substring if substring is found in the string else returns -1.\n",
    "* `.rfind()` -> Returns highest index of substring if substring is found in the string else returns -1.\n",
    "* `.count()` -> Returns the no of occurances of the char in the given string.\n",
    "* `.split()` -> Returns list of words seperated by given sep else seperated by whitespace.\n",
    "* `.rsplit()` -> Returns list of words seperated by given sep else seperated by whitespace scanning from end.\n",
    "* `.lstrip()` -> Returns a copy of where leading whitespaces are removed.\n",
    "* `.rstrip()` -> Returns a copy of where trailed whitespaces are removed.\n",
    "* `.strip()` -> Returns a copy of where both leading and trailing whitespaces are removed.\n",
    "* `.swapcase()` -> Swaps lowercase characters with uppercase and vice versa.\n",
    "* `.join()` -> Concatenates a list or tuple of words with intervening occuernces of sep.\n",
    "* `.translate()` -> translates the characters using table.\n",
    "* `.maketrans()` -> Creating a mapping translation tbale usable for .translate()\n",
    "* `.replace(,)` -> Replace all occurances of char_1 with char_2 in string.\n",
    "* `.encode()` -> Encodes string into any encoding supported by python. Default encoding is UTF-8.\n",
    "* `.ljust()` -> Left-justify in a field of given width.\n",
    "* `.rjust()` -> Right-justify in a field of given width.\n",
    "* `.center()` -> Center-justify in a field of given width.\n",
    "* `.zfill()` -> Zfill adds zeros to the begining of string until the specified length is reached."
   ]
  },
  {
   "cell_type": "markdown",
   "id": "813014d7",
   "metadata": {},
   "source": [
    "#### 2. How do the string forms in Python 3.X vary in terms of operations?\n",
    "**ANS:**  In Python3 default format of strings is Unicode Whereas in Pyton2 we need to explicitly mention Unicode value using `u`"
   ]
  },
  {
   "cell_type": "markdown",
   "id": "4de0f777",
   "metadata": {},
   "source": [
    "#### 3. In 3.X, how do you put non-ASCII Unicode characters in a string?\n",
    "**ANS:** In Python 3.x `unidecode()` method from unidecode library can be used to put non-ASCII Unicode Characters in a string."
   ]
  },
  {
   "cell_type": "markdown",
   "id": "7a372bdf",
   "metadata": {},
   "source": [
    "#### 4. In Python 3.X, what are the key differences between text-mode and binary-mode files?\n",
    "**ANS:** The major difference between these two is that a text file contains textual information in the form of alphabets, digits and special characters or symbols. On the other hand, a binary file contains bytes or a compiled version of a text file.\n",
    "\n",
    "* When a file is opened in `text mode`, reading its data automatically decodes its content (as per the platform default or as per provided encoding), and returns it as a str; writing operation takes a str, and automatically encodes it before transferring to the file. Text mode files also support universal end-of-line translation, and encoding specification arguments.\n",
    "\n",
    "* When a file is opened in `binary mode` by adding a `b` to the mode string argument in the open() call, reading its data does not decode it in any way, and simply returns its content raw and unchanged, as a bytes object; writing takes a bytes object and transfers it to the file unchanged. Binary-mode files also accept a bytearray object for the content to be written to the file."
   ]
  },
  {
   "cell_type": "markdown",
   "id": "629c27aa",
   "metadata": {},
   "source": [
    "#### 5. How can you interpret a Unicode text file containing text encoded in a different encoding than your platform's default?\n",
    "**ANS:** Use of `encode()` and `decode()` method can be used to you interpret a Unicode text file containing text encoded in a different encoding than your platform's default, by default encoding parameter is `UTF-8`."
   ]
  },
  {
   "cell_type": "markdown",
   "id": "1f96f554",
   "metadata": {},
   "source": [
    "#### 6. What is the best way to make a Unicode text file in a particular encoding format?\n",
    "**ANS:**  Use `str.encode()` and `file.write()` to make a Unicode text file in a particular encoding format, default encoding format is `UTF-18`."
   ]
  },
  {
   "cell_type": "markdown",
   "id": "ece79eee",
   "metadata": {},
   "source": [
    "#### 7. What qualifies ASCII text as a form of Unicode text?\n",
    "**ANS:** `Unicode` represents most written languages in the world. ASCII has its equivalent in Unicode. The difference between ASCII and Unicode is that ASCII represents lowercase letters (a-z), uppercase letters (A-Z), digits (0–9) and symbols such as punctuation marks while Unicode represents letters of English, Arabic, Greek etc. mathematical symbols, historical scripts, emoji covering a wide range of characters than ASCII."
   ]
  },
  {
   "cell_type": "markdown",
   "id": "5a7615d9",
   "metadata": {},
   "source": [
    "#### 8. How much of an effect does the change in string types in Python 3.X have on your code?\n",
    "**ANS:**  Python 3 stores strings as Unicode by default whereas Python 2 requires you to mark a string with a u if you want to store it as Unicode. Unicode strings are more versatile than ASCII strings, which are the Python 3.X default, as they can store letters from foreign languages as well as emoji and the standard Roman letters and numerals."
   ]
  },
  {
   "cell_type": "code",
   "execution_count": null,
   "id": "9a63e607",
   "metadata": {},
   "outputs": [],
   "source": []
  }
 ],
 "metadata": {
  "kernelspec": {
   "display_name": "Python 3 (ipykernel)",
   "language": "python",
   "name": "python3"
  },
  "language_info": {
   "codemirror_mode": {
    "name": "ipython",
    "version": 3
   },
   "file_extension": ".py",
   "mimetype": "text/x-python",
   "name": "python",
   "nbconvert_exporter": "python",
   "pygments_lexer": "ipython3",
   "version": "3.10.0"
  }
 },
 "nbformat": 4,
 "nbformat_minor": 5
}

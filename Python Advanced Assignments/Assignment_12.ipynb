{
 "cells": [
  {
   "cell_type": "markdown",
   "id": "4c1fcd3a",
   "metadata": {},
   "source": [
    "#### 1. Does assigning a value to a string's indexed character violate Python's string immutability?\n",
    "**ANS:** String indexed character cannot assigned a new value, Strings are immutable."
   ]
  },
  {
   "cell_type": "markdown",
   "id": "35f89300",
   "metadata": {},
   "source": [
    "#### 2. Does using the += operator to concatenate strings violate Python's string immutability? Why or why not?\n",
    "**ANS:** It does not violate the string's immutability. It reassigns the string value to it."
   ]
  },
  {
   "cell_type": "code",
   "execution_count": 2,
   "id": "3468f793",
   "metadata": {},
   "outputs": [
    {
     "name": "stdout",
     "output_type": "stream",
     "text": [
      "a\n",
      "2163364308464\n",
      "al\n",
      "2163439487152\n"
     ]
    }
   ],
   "source": [
    "s='a'\n",
    "print(s)\n",
    "print(id(s))\n",
    "s+='l'\n",
    "print(s)\n",
    "print(id(s))"
   ]
  },
  {
   "cell_type": "markdown",
   "id": "c1f93720",
   "metadata": {},
   "source": [
    "#### 3. In Python, how many different ways are there to index a character?\n",
    "**ANS:** There are two ways i.e Positive and negative indexing. Positive indexing starts with 0 and negative indexing starts with -1."
   ]
  },
  {
   "cell_type": "code",
   "execution_count": 4,
   "id": "479b97d8",
   "metadata": {},
   "outputs": [
    {
     "name": "stdout",
     "output_type": "stream",
     "text": [
      "s h i\n",
      "k h t\n"
     ]
    }
   ],
   "source": [
    "s='sathvik'\n",
    "print(s[0],s[3],s[5])\n",
    "print(s[-1],s[-4],s[-5])"
   ]
  },
  {
   "cell_type": "markdown",
   "id": "a59f0f49",
   "metadata": {},
   "source": [
    "####  4. What is the relationship between indexing and slicing?\n",
    "**ANS:** Indexing means we can access characters but in slicing we can access sequence of characters."
   ]
  },
  {
   "cell_type": "code",
   "execution_count": 5,
   "id": "5d5319ad",
   "metadata": {},
   "outputs": [
    {
     "name": "stdout",
     "output_type": "stream",
     "text": [
      "s\n",
      "sat\n"
     ]
    }
   ],
   "source": [
    "s='sathvik'\n",
    "print(s[0])#indexing\n",
    "print(s[0:3])#slicing"
   ]
  },
  {
   "cell_type": "markdown",
   "id": "6f3baadb",
   "metadata": {},
   "source": [
    "#### 5. What is an indexed character's exact data type? What is the data form of a slicing-generated substring?\n",
    "**ANS:** Both indexed character and slicing generated substring have string datatype."
   ]
  },
  {
   "cell_type": "code",
   "execution_count": 6,
   "id": "cad26b18",
   "metadata": {},
   "outputs": [
    {
     "name": "stdout",
     "output_type": "stream",
     "text": [
      "<class 'str'>\n",
      "<class 'str'>\n"
     ]
    }
   ],
   "source": [
    "s='sathvik'\n",
    "print(type(s[0]))#indexing\n",
    "print(type(s[0:3]))#slicing"
   ]
  },
  {
   "cell_type": "markdown",
   "id": "479dfc0a",
   "metadata": {},
   "source": [
    "#### 6. What is the relationship between string and character \"types\" in Python?\n",
    "**ANS:** The string is a sequence of characters."
   ]
  },
  {
   "cell_type": "markdown",
   "id": "9ee99bf3",
   "metadata": {},
   "source": [
    "#### 7. Identify at least two operators and one method that allow you to combine one or more smaller strings to create a larger string.\n",
    "**ANS:** `=`,`+=` and `*` are the operators to combine the smaller strings to create a larger string. `.join()` method allows to combine the smaller strings to create a larger string."
   ]
  },
  {
   "cell_type": "code",
   "execution_count": 9,
   "id": "4c3691f6",
   "metadata": {},
   "outputs": [
    {
     "name": "stdout",
     "output_type": "stream",
     "text": [
      "ineuron full stack Data Science\n",
      "sathvik sathvik sathvik \n",
      "ineuron\n"
     ]
    }
   ],
   "source": [
    "s='ineuron full stack'\n",
    "s+=' Data' \n",
    "print(s+' Science') \n",
    "print('sathvik '*3)\n",
    "print(''.join(['i','n','e','u','r','o','n']))"
   ]
  },
  {
   "cell_type": "markdown",
   "id": "4a862e10",
   "metadata": {},
   "source": [
    "#### 8. What is the benefit of first checking the target string with in or not in before using the index method to find a substring?\n",
    "**ANS:** Checking the target string with `in` or `not` Operators before using the index method to find a substring just helps confirming availability of substring and thus avoid raising of `ValueError`."
   ]
  },
  {
   "cell_type": "markdown",
   "id": "f454b319",
   "metadata": {},
   "source": [
    "#### 9. Which operators and built-in string methods produce simple Boolean (true/false) results?\n",
    "**ANS:** \n",
    "* `in`\n",
    "* `not`\n",
    "* `<string>.isalpha()`\n",
    "* `<string>.isaplnum()`\n",
    "* `<string>.isdecimal()`\n",
    "* `<string>.isdigit()`\n",
    "* `<string>.islower()`\n",
    "* `<string>.isnumeric()`\n",
    "* `<string>.isprintable()`\n",
    "* `<string>.istitle()`\n",
    "* `<string>.isspace()`"
   ]
  },
  {
   "cell_type": "code",
   "execution_count": null,
   "id": "3e658521",
   "metadata": {},
   "outputs": [],
   "source": []
  }
 ],
 "metadata": {
  "kernelspec": {
   "display_name": "Python 3 (ipykernel)",
   "language": "python",
   "name": "python3"
  },
  "language_info": {
   "codemirror_mode": {
    "name": "ipython",
    "version": 3
   },
   "file_extension": ".py",
   "mimetype": "text/x-python",
   "name": "python",
   "nbconvert_exporter": "python",
   "pygments_lexer": "ipython3",
   "version": "3.10.0"
  }
 },
 "nbformat": 4,
 "nbformat_minor": 5
}

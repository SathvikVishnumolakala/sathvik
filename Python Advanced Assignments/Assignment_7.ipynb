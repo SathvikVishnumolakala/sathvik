{
 "cells": [
  {
   "cell_type": "markdown",
   "id": "99d6fb2a",
   "metadata": {},
   "source": [
    "#### 1. What is the purpose of the try statement?\n",
    "**ANS:** It checks whether the exception occurs or not,If exception  occurs it simply send the statements to the except block.\n",
    "Simply it handles the exceptions."
   ]
  },
  {
   "cell_type": "code",
   "execution_count": 1,
   "id": "b9fb7755",
   "metadata": {},
   "outputs": [
    {
     "name": "stdout",
     "output_type": "stream",
     "text": [
      "Division by zero\n"
     ]
    }
   ],
   "source": [
    "try:\n",
    "    print(5/0)\n",
    "except:\n",
    "    print(\"Division by zero\")"
   ]
  },
  {
   "cell_type": "markdown",
   "id": "8af7b921",
   "metadata": {},
   "source": [
    "#### 2. What are the two most popular try statement variations?\n",
    "**ANS:** The popular try statement variations are\n",
    "* `try`,`except`\n",
    "* `try`,`except`,`finally`\n",
    "* `try`,`except`,`finally`,`else`\n"
   ]
  },
  {
   "cell_type": "markdown",
   "id": "bca89096",
   "metadata": {},
   "source": [
    "#### 3. What is the purpose of the raise statement?\n",
    "**ANS:** `raise` is used to raise an exception explicitly."
   ]
  },
  {
   "cell_type": "markdown",
   "id": "dfb14837",
   "metadata": {},
   "source": [
    "#### 4. What does the assert statement do, and what other statement is it like?\n",
    "**ANS:** There are few assertions that programmer always want to be true to avoid code failure. This type of requirement is fulfilled by `assert` statement. This statement takes a boolean condition output of which is True, Further Program Executes. if output of assert statement is False, it raises an Assertion Error."
   ]
  },
  {
   "cell_type": "code",
   "execution_count": 3,
   "id": "bbba55c8",
   "metadata": {},
   "outputs": [
    {
     "ename": "AssertionError",
     "evalue": "This is not a valid statement",
     "output_type": "error",
     "traceback": [
      "\u001b[1;31m---------------------------------------------------------------------------\u001b[0m",
      "\u001b[1;31mAssertionError\u001b[0m                            Traceback (most recent call last)",
      "\u001b[1;32m~\\AppData\\Local\\Temp/ipykernel_5932/2581436789.py\u001b[0m in \u001b[0;36m<module>\u001b[1;34m\u001b[0m\n\u001b[1;32m----> 1\u001b[1;33m \u001b[1;32massert\u001b[0m\u001b[1;33m(\u001b[0m\u001b[1;36m1\u001b[0m\u001b[1;33m==\u001b[0m\u001b[1;36m2\u001b[0m\u001b[1;33m)\u001b[0m\u001b[1;33m,\u001b[0m\u001b[1;34mf'This is not a valid statement'\u001b[0m\u001b[1;33m\u001b[0m\u001b[1;33m\u001b[0m\u001b[0m\n\u001b[0m",
      "\u001b[1;31mAssertionError\u001b[0m: This is not a valid statement"
     ]
    }
   ],
   "source": [
    "assert(1==2),f'This is not a valid statement'"
   ]
  },
  {
   "cell_type": "markdown",
   "id": "40782592",
   "metadata": {},
   "source": [
    "#### 5. What is the purpose of the with/as argument, and what other statement is it like?\n",
    "**ANS:** `with/as` statement simplifies use of file handling in python. When we use a `with` statement for file reading, there is no need for programmer to explicitly takecare of activities like resource deallocation and file closing by using file.close() method. `with` statement itself ensures proper acquisition and release of resources. this avoids triggering of exceptions if file closing is unknowingly forgotten in the code execution."
   ]
  },
  {
   "cell_type": "code",
   "execution_count": null,
   "id": "80366a58",
   "metadata": {},
   "outputs": [],
   "source": [
    "    "
   ]
  }
 ],
 "metadata": {
  "kernelspec": {
   "display_name": "Python 3 (ipykernel)",
   "language": "python",
   "name": "python3"
  },
  "language_info": {
   "codemirror_mode": {
    "name": "ipython",
    "version": 3
   },
   "file_extension": ".py",
   "mimetype": "text/x-python",
   "name": "python",
   "nbconvert_exporter": "python",
   "pygments_lexer": "ipython3",
   "version": "3.10.0"
  }
 },
 "nbformat": 4,
 "nbformat_minor": 5
}

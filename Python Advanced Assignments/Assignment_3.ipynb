{
 "cells": [
  {
   "cell_type": "markdown",
   "id": "edf047e5",
   "metadata": {},
   "source": [
    "#### 1. What is the concept of an abstract superclass?\n",
    "**ANS:** An abstract class/superclass is a blueprint for other classes.A class which contains one or more abstract methods is called an abstract class."
   ]
  },
  {
   "cell_type": "markdown",
   "id": "e13dc483",
   "metadata": {},
   "source": [
    "#### 2. What happens when a class statement's top level contains a basic assignment statement?\n",
    "**ANS:** When a class statement's top level contains a basic assignment statement,its usually treated as a class attribute or class level variable.\n",
    "where as assignment statements inside methods are treated as instance attributes or local attributes."
   ]
  },
  {
   "cell_type": "code",
   "execution_count": 1,
   "id": "8b8363de",
   "metadata": {},
   "outputs": [],
   "source": [
    "class Dog:\n",
    "    Breed='Husky'#class attribute\n",
    "    def __init__(self,name,age):\n",
    "        self.name=name#instace attribute\n",
    "        self.age=age"
   ]
  },
  {
   "cell_type": "markdown",
   "id": "858ed239",
   "metadata": {},
   "source": [
    "#### 3. Why does a class need to manually call a superclass's __init__ method?\n",
    "**ANS:** If a child has `__init__` method,then it will not inherit the `__init__` method of the parent.The `__init__` method in\n",
    "child class overrides the `__init__` method in parent class/superclass.So we have to manually call a parent superclass's `__init__` using `super()` method."
   ]
  },
  {
   "cell_type": "code",
   "execution_count": 3,
   "id": "0f79085f",
   "metadata": {},
   "outputs": [
    {
     "name": "stdout",
     "output_type": "stream",
     "text": [
      "{'name': 'sathvik', 'rollno': 948, 'branch': 'ECE'}\n"
     ]
    }
   ],
   "source": [
    "class student:\n",
    "    def __init__(self,name,rollno):\n",
    "        self.name=name\n",
    "        self.rollno=rollno\n",
    "class college(student):\n",
    "    def __init__(self,name,rollno,branch):\n",
    "        super().__init__(name,rollno)\n",
    "        self.branch=branch\n",
    "sath=college('sathvik',948,'ECE')\n",
    "print(sath.__dict__)"
   ]
  },
  {
   "cell_type": "markdown",
   "id": "bd0a4f55",
   "metadata": {},
   "source": [
    "#### 4. How can you augment, instead of completely replacing, an inherited method?\n",
    "**ANS:** **super()** method can be used to augment,instead of completely replacing,an inherited method."
   ]
  },
  {
   "cell_type": "markdown",
   "id": "e2baeb49",
   "metadata": {},
   "source": [
    "#### 5. How is the local scope of a class different from that of a function?\n",
    "**ANS:** \n",
    "* A variable which is defined inside a function is called as local variable.It has only local scope i.e the local variable can be accessed only inside the function.The variable can be destroyed after the completion of the function.\n",
    "* Similarly in a class if variable is declared top of all methods then it can be accessed outside the class using dot operator `.`.These are class attributes or class level variables."
   ]
  },
  {
   "cell_type": "code",
   "execution_count": 5,
   "id": "8a760d92",
   "metadata": {},
   "outputs": [
    {
     "name": "stdout",
     "output_type": "stream",
     "text": [
      "93856984\n",
      "a is not defined\n",
      "sathvik\n"
     ]
    }
   ],
   "source": [
    "def fun(a):\n",
    "    print(a)\n",
    "fun(93856984)\n",
    "try:\n",
    "    print(a)\n",
    "except:\n",
    "    print('a is not defined')\n",
    "class student:\n",
    "    name='sathvik'\n",
    "    def __init__(self,rollno):\n",
    "        self.rollno=rollno\n",
    "print(student.name)"
   ]
  },
  {
   "cell_type": "code",
   "execution_count": null,
   "id": "0c05dd15",
   "metadata": {},
   "outputs": [],
   "source": []
  }
 ],
 "metadata": {
  "kernelspec": {
   "display_name": "Python 3 (ipykernel)",
   "language": "python",
   "name": "python3"
  },
  "language_info": {
   "codemirror_mode": {
    "name": "ipython",
    "version": 3
   },
   "file_extension": ".py",
   "mimetype": "text/x-python",
   "name": "python",
   "nbconvert_exporter": "python",
   "pygments_lexer": "ipython3",
   "version": "3.10.0"
  }
 },
 "nbformat": 4,
 "nbformat_minor": 5
}

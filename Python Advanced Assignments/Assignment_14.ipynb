{
 "cells": [
  {
   "cell_type": "markdown",
   "id": "5fe83d01",
   "metadata": {},
   "source": [
    "#### 1. Is an assignment operator like += only for show? Is it possible that it would lead to faster results at the runtime?\n",
    "**ANS:** `A=A+1` evaluates to finding `A`, adding 1 to it. Then storing the value again in variable `A`. This expression makes Python to look for memory holder of a twice. But `A+=1` simply means value of `A`is to incremented by 1. As memory address has to be identified once, `+=` leads to faster operation."
   ]
  },
  {
   "cell_type": "markdown",
   "id": "35d13215",
   "metadata": {},
   "source": [
    "#### 2. What is the smallest number of statements you'd have to write in most programming languages to replace the Python expression a, b = a + b, a?\n",
    "**ANS:** Minimum number of statements required are 4 statements.Two statements for initialisation for `a` and `b` values.Remaining 2 statements are `a=a+b` and `b=a`."
   ]
  },
  {
   "cell_type": "markdown",
   "id": "269363e8",
   "metadata": {},
   "source": [
    "#### 3. In Python, what is the most effective way to set a list of 100 integers to 0?\n",
    "**ANS:** "
   ]
  },
  {
   "cell_type": "code",
   "execution_count": 3,
   "id": "791d9a26",
   "metadata": {},
   "outputs": [
    {
     "name": "stdout",
     "output_type": "stream",
     "text": [
      "[0, 0, 0, 0, 0, 0, 0, 0, 0, 0, 0, 0, 0, 0, 0, 0, 0, 0, 0, 0, 0, 0, 0, 0, 0, 0, 0, 0, 0, 0, 0, 0, 0, 0, 0, 0, 0, 0, 0, 0, 0, 0, 0, 0, 0, 0, 0, 0, 0, 0, 0, 0, 0, 0, 0, 0, 0, 0, 0, 0, 0, 0, 0, 0, 0, 0, 0, 0, 0, 0, 0, 0, 0, 0, 0, 0, 0, 0, 0, 0, 0, 0, 0, 0, 0, 0, 0, 0, 0, 0, 0, 0, 0, 0, 0, 0, 0, 0, 0, 0]\n",
      "[0, 0, 0, 0, 0, 0, 0, 0, 0, 0, 0, 0, 0, 0, 0, 0, 0, 0, 0, 0, 0, 0, 0, 0, 0, 0, 0, 0, 0, 0, 0, 0, 0, 0, 0, 0, 0, 0, 0, 0, 0, 0, 0, 0, 0, 0, 0, 0, 0, 0, 0, 0, 0, 0, 0, 0, 0, 0, 0, 0, 0, 0, 0, 0, 0, 0, 0, 0, 0, 0, 0, 0, 0, 0, 0, 0, 0, 0, 0, 0, 0, 0, 0, 0, 0, 0, 0, 0, 0, 0, 0, 0, 0, 0, 0, 0, 0, 0, 0, 0]\n"
     ]
    }
   ],
   "source": [
    "l=[0]*100\n",
    "print(l)\n",
    "l1=[0 for i in range(100)]\n",
    "print(l1)"
   ]
  },
  {
   "cell_type": "markdown",
   "id": "7b08f8b0",
   "metadata": {},
   "source": [
    "#### 4. What is the most effective way to initialise a list of 99 integers that repeats the sequence 1, 2, 3? S If necessary, show step-by-step instructions on how to accomplish this.\n",
    "**ANS:**"
   ]
  },
  {
   "cell_type": "code",
   "execution_count": 4,
   "id": "9a652453",
   "metadata": {},
   "outputs": [
    {
     "name": "stdout",
     "output_type": "stream",
     "text": [
      "[1, 2, 3, 1, 2, 3, 1, 2, 3, 1, 2, 3, 1, 2, 3, 1, 2, 3, 1, 2, 3, 1, 2, 3, 1, 2, 3, 1, 2, 3, 1, 2, 3, 1, 2, 3, 1, 2, 3, 1, 2, 3, 1, 2, 3, 1, 2, 3, 1, 2, 3, 1, 2, 3, 1, 2, 3, 1, 2, 3, 1, 2, 3, 1, 2, 3, 1, 2, 3, 1, 2, 3, 1, 2, 3, 1, 2, 3, 1, 2, 3, 1, 2, 3, 1, 2, 3, 1, 2, 3, 1, 2, 3, 1, 2, 3, 1, 2, 3]\n"
     ]
    }
   ],
   "source": [
    "l2=[1,2,3]*33\n",
    "print(l2)"
   ]
  },
  {
   "cell_type": "markdown",
   "id": "7fee7de3",
   "metadata": {},
   "source": [
    "#### 5. If you're using IDLE to run a Python application, explain how to print a multidimensional list as efficiently?\n",
    "**ANS:**"
   ]
  },
  {
   "cell_type": "code",
   "execution_count": 6,
   "id": "6faddb25",
   "metadata": {},
   "outputs": [
    {
     "name": "stdout",
     "output_type": "stream",
     "text": [
      "1 2 3 4 5 6 "
     ]
    }
   ],
   "source": [
    "l3=[[1,2],[3,4],[5,6]]\n",
    "for i in range(len(l3)):\n",
    "    for j in range(len(l3[i])):\n",
    "        print(l3[i][j],end=' ')"
   ]
  },
  {
   "cell_type": "markdown",
   "id": "995d14ea",
   "metadata": {},
   "source": [
    "#### 6. Is it possible to use list comprehension with a string? If so, how can you go about doing it?\n",
    "**ANS:** It is possible to use list comprehension with a string."
   ]
  },
  {
   "cell_type": "code",
   "execution_count": 8,
   "id": "e4bd5104",
   "metadata": {},
   "outputs": [
    {
     "name": "stdout",
     "output_type": "stream",
     "text": [
      "['i', 'n', 'e', 'u', 'r', 'o', 'n']\n"
     ]
    }
   ],
   "source": [
    "s=[i for i in 'ineuron']\n",
    "print(s)"
   ]
  },
  {
   "cell_type": "markdown",
   "id": "2423f296",
   "metadata": {},
   "source": [
    "#### 7. From the command line, how do you get support with a user-written Python programme? Is this possible from inside IDLE?\n",
    "**ANS:** \n",
    "* Get support with a user-written Python Programme: Start a command prompt (Windows) or terminal window (Linux/Mac). If the current working directory is the same as the location in which you saved the file, you can simply specify the filename as a command-line argument to the Python interpreter.\n",
    "* Get support with a User-written Python Program from IDLE: You can also create script files and run them in IDLE. From the Shell window menu, select `File → New File`. That should open an additional editing window. Type in the code to be executed. From the menu in that window, `select File → Save or File → Save As…` and save the file to disk. Then `select Run → Run Module`. The output should appear back in the interpreter"
   ]
  },
  {
   "cell_type": "markdown",
   "id": "5b1c825f",
   "metadata": {},
   "source": [
    "#### 8. Functions are said to be “first-class objects” in Python but not in most other languages, such as C++ or Java. What can you do in Python with a function (callable object) that you can't do in C or C++?\n",
    "**ANS:** \n",
    "* A function is an instance of the Object type.\n",
    "* You can store the function in a variable.\n",
    "* You can pass the function as a parameter to another function.\n",
    "* You can return the function from a function.\n",
    "* You can store them in data structures such as hash tables, lists."
   ]
  },
  {
   "cell_type": "markdown",
   "id": "19bf4752",
   "metadata": {},
   "source": [
    "#### 9. How do you distinguish between a wrapper, a wrapped feature, and a decorator?\n",
    "**ANS:** Wrappers Around the functions are known as Decrators."
   ]
  },
  {
   "cell_type": "markdown",
   "id": "02bf92fb",
   "metadata": {},
   "source": [
    "#### 10. If a function is a generator function, what does it return?\n",
    "**ANS:** Generator functions are a special kind of function that return a `lazy iterator`. These are objects that you can loop over like a list. However, unlike lists, lazy iterators do not store their contents in memory."
   ]
  },
  {
   "cell_type": "markdown",
   "id": "b91fb219",
   "metadata": {},
   "source": [
    "#### 11. What is the one improvement that must be made to a function in order for it to become a generator function in the Python language?\n",
    "**ANS:** Generator is a written as normal function but uses `yield` keyword to return values instead of `return` keyword."
   ]
  },
  {
   "cell_type": "markdown",
   "id": "fa9856fa",
   "metadata": {},
   "source": [
    "#### 12. Identify at least one benefit of generators.\n",
    "**ANS:** `return` statement sends a specified value back to its caller whereas `yield` statment can produce a sequence of values. We should use generator when we want to iterate over a sequence, but don’t want to store the entire sequence in memory."
   ]
  },
  {
   "cell_type": "code",
   "execution_count": null,
   "id": "062a4dd9",
   "metadata": {},
   "outputs": [],
   "source": []
  }
 ],
 "metadata": {
  "kernelspec": {
   "display_name": "Python 3 (ipykernel)",
   "language": "python",
   "name": "python3"
  },
  "language_info": {
   "codemirror_mode": {
    "name": "ipython",
    "version": 3
   },
   "file_extension": ".py",
   "mimetype": "text/x-python",
   "name": "python",
   "nbconvert_exporter": "python",
   "pygments_lexer": "ipython3",
   "version": "3.10.0"
  }
 },
 "nbformat": 4,
 "nbformat_minor": 5
}

{
 "cells": [
  {
   "cell_type": "markdown",
   "id": "d5077641",
   "metadata": {},
   "source": [
    "#### 1. What are the two latest user-defined exception constraints in Python 3.X?\n",
    "**ANS:** `raise` and `assert` are the two latest user-defined exception constraints in Python 3.X."
   ]
  },
  {
   "cell_type": "markdown",
   "id": "aeecc8d4",
   "metadata": {},
   "source": [
    "#### 2. How are class-based exceptions that have been raised matched to handlers?\n",
    "**ANS:** Users can define custom exceptions by creating a new class. This exception class has to be derived, either directly or indirectly from built-in `Exception` class. This new exception class like other exceptions can be raised using the `raise` statement with an optional error message."
   ]
  },
  {
   "cell_type": "code",
   "execution_count": 1,
   "id": "91bf244a",
   "metadata": {},
   "outputs": [
    {
     "ename": "AgeException",
     "evalue": "Not elligible to vote",
     "output_type": "error",
     "traceback": [
      "\u001b[1;31m---------------------------------------------------------------------------\u001b[0m",
      "\u001b[1;31mAgeException\u001b[0m                              Traceback (most recent call last)",
      "\u001b[1;32m~\\AppData\\Local\\Temp/ipykernel_7872/2499615186.py\u001b[0m in \u001b[0;36m<module>\u001b[1;34m\u001b[0m\n\u001b[0;32m      3\u001b[0m         \u001b[0mself\u001b[0m\u001b[1;33m.\u001b[0m\u001b[0mmsg\u001b[0m\u001b[1;33m=\u001b[0m\u001b[0mmsg\u001b[0m\u001b[1;33m\u001b[0m\u001b[1;33m\u001b[0m\u001b[0m\n\u001b[0;32m      4\u001b[0m \u001b[0mage\u001b[0m\u001b[1;33m=\u001b[0m\u001b[1;36m10\u001b[0m\u001b[1;33m\u001b[0m\u001b[1;33m\u001b[0m\u001b[0m\n\u001b[1;32m----> 5\u001b[1;33m \u001b[1;32mif\u001b[0m \u001b[0mage\u001b[0m\u001b[1;33m<=\u001b[0m\u001b[1;36m18\u001b[0m\u001b[1;33m:\u001b[0m\u001b[1;32mraise\u001b[0m \u001b[0mAgeException\u001b[0m\u001b[1;33m(\u001b[0m\u001b[1;34m\"Not elligible to vote\"\u001b[0m\u001b[1;33m)\u001b[0m\u001b[1;33m\u001b[0m\u001b[1;33m\u001b[0m\u001b[0m\n\u001b[0m",
      "\u001b[1;31mAgeException\u001b[0m: Not elligible to vote"
     ]
    }
   ],
   "source": [
    "class AgeException(Exception):\n",
    "    def __init__(self,msg):\n",
    "        self.msg=msg\n",
    "age=10\n",
    "if age<=18:raise AgeException(\"Not elligible to vote\")"
   ]
  },
  {
   "cell_type": "markdown",
   "id": "348ada8b",
   "metadata": {},
   "source": [
    "#### 3. Describe two methods for attaching context information to exception artefacts.\n",
    "**ANS:** \n",
    "* The `process()` method of LoggerAdapter is where the contextual information is added to the logging output. its passes the message and keyword arguments of the logging call, and it passes back modified versions of these to use in the call to the underlying logger.\n",
    "* The `exception()`, Logs a messgae with level ERROR on this logger. The arguments are interpreted as for debug(). Exception info is added to the logging message."
   ]
  },
  {
   "cell_type": "markdown",
   "id": "cc91906a",
   "metadata": {},
   "source": [
    "#### 4. Describe two methods for specifying the text of an exception object's error message.\n",
    "**ANS:** `raise` and `assert` are two methods for specifying the text of an exception object's error message.raise statement is used to trigger explicit exception, if certain condition is not as per requirement of programmer. it helps in triggering exception as per need of programmer and logic.\n"
   ]
  },
  {
   "cell_type": "markdown",
   "id": "e3353d0d",
   "metadata": {},
   "source": [
    "#### Q5. Why do you no longer use string-based exceptions?\n",
    "**ANS:** String-based Exceptions doesn't inherit from Exceptions. so plain exceptions catch all exceptions and not only system."
   ]
  },
  {
   "cell_type": "code",
   "execution_count": null,
   "id": "3549b196",
   "metadata": {},
   "outputs": [],
   "source": []
  }
 ],
 "metadata": {
  "kernelspec": {
   "display_name": "Python 3 (ipykernel)",
   "language": "python",
   "name": "python3"
  },
  "language_info": {
   "codemirror_mode": {
    "name": "ipython",
    "version": 3
   },
   "file_extension": ".py",
   "mimetype": "text/x-python",
   "name": "python",
   "nbconvert_exporter": "python",
   "pygments_lexer": "ipython3",
   "version": "3.10.0"
  }
 },
 "nbformat": 4,
 "nbformat_minor": 5
}

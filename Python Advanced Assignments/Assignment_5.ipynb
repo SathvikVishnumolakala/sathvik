{
 "cells": [
  {
   "cell_type": "markdown",
   "id": "d9def78e",
   "metadata": {},
   "source": [
    "#### 1. What is the meaning of multiple inheritance?\n",
    "**ANS:** When a child class uses the multiple parent classes then it is called multiple inheritance."
   ]
  },
  {
   "cell_type": "code",
   "execution_count": 1,
   "id": "aa222413",
   "metadata": {},
   "outputs": [],
   "source": [
    "class parent1:\n",
    "    pass\n",
    "class parent2:\n",
    "    pass\n",
    "class child(parent1,parent2):\n",
    "    pass"
   ]
  },
  {
   "cell_type": "markdown",
   "id": "05e55af6",
   "metadata": {},
   "source": [
    "#### 2. What is the concept of delegation?\n",
    "**ANS:** Delegation provides a proxy object for any class thay you want on top of the main class.It Wraps the object of main class into a smaller object with limited access."
   ]
  },
  {
   "cell_type": "markdown",
   "id": "53d5cb2b",
   "metadata": {},
   "source": [
    "#### 3. What is the concept of composition?\n",
    "**ANS:** In the concept of Composition, a class refers to one or more other classes by using instances of those classes as a instance variable. Irrespective of inheritence in this approach all the parent class members are not inherited into child class, but only required methods from a class are used by using class instances."
   ]
  },
  {
   "cell_type": "markdown",
   "id": "a6b0c2ab",
   "metadata": {},
   "source": [
    "#### 4. What are bound methods and how do we use them?\n",
    "**ANS:**  If a function is an attribute of class and it is accessed via the instances, they are called `bound methods`. A bound method is one that has self as its first argument. Since these are dependent on the instance of classes, these are also known as `instance methods`."
   ]
  },
  {
   "cell_type": "markdown",
   "id": "76c2338d",
   "metadata": {},
   "source": [
    "#### 5. What is the purpose of pseudoprivate attributes?\n",
    "**ANS:**  Pseudoprivate attributes are also useful in larger frameworks or tools, both to avoid introducing new method names that might accidentally hide definitions elsewhere in the class tree and to reduce the chance of internal methods being replaced by names defined lower in the tree. If a method is intended for use only within a class that may be mixed into other classes, the double underscore prefix ensures that the method won't interfere with other names in the tree, especially in multiple-inheritance scenarios.\n",
    "\n",
    "Pseudoprivate names also prevent subclasses from accidentally redefining the internal method's name."
   ]
  },
  {
   "cell_type": "code",
   "execution_count": null,
   "id": "82b1d952",
   "metadata": {},
   "outputs": [],
   "source": []
  }
 ],
 "metadata": {
  "kernelspec": {
   "display_name": "Python 3 (ipykernel)",
   "language": "python",
   "name": "python3"
  },
  "language_info": {
   "codemirror_mode": {
    "name": "ipython",
    "version": 3
   },
   "file_extension": ".py",
   "mimetype": "text/x-python",
   "name": "python",
   "nbconvert_exporter": "python",
   "pygments_lexer": "ipython3",
   "version": "3.10.0"
  }
 },
 "nbformat": 4,
 "nbformat_minor": 5
}

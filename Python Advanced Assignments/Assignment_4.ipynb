{
 "cells": [
  {
   "cell_type": "markdown",
   "id": "90301db8",
   "metadata": {},
   "source": [
    "#### 1. Which two operator overloading methods can you use in your classes to support iteration?\n",
    "**ANS:** `__iter__` and `__next__` are the two operator overloading methods used in classes to support iteration.\n",
    "* `__iter__` returns iterator object and is called at the start of the loop in class.\n",
    "* `__next__` is called at each loop increment,returns the incremented value.And stops the loop if no value is returned."
   ]
  },
  {
   "cell_type": "code",
   "execution_count": 1,
   "id": "3338557c",
   "metadata": {},
   "outputs": [
    {
     "name": "stdout",
     "output_type": "stream",
     "text": [
      "1 2 3 4 5 6 7 8 "
     ]
    }
   ],
   "source": [
    "class Counter:\n",
    "    def __init__(self,low,high):\n",
    "        self.current = low\n",
    "        self.high = high\n",
    "    def __iter__(self):\n",
    "        return self\n",
    "    def __next__(self):\n",
    "        if self.current > self.high:\n",
    "            raise StopIteration\n",
    "        else:\n",
    "            self.current += 1\n",
    "            return self.current - 1\n",
    "for ele in Counter(1,8):\n",
    "    print(ele, end=\" \")"
   ]
  },
  {
   "cell_type": "markdown",
   "id": "50261052",
   "metadata": {},
   "source": [
    "#### 2. In what contexts do the two operator overloading methods manage printing?\n",
    "**ANS:** `__str__` and `__repr__` are two operator overloading methods that manage printing.\n",
    "* The difference between both these operators is the goal of `__repr__` is to be unambiguous and `__str__` is to be readable.\n",
    "* The main purpose of `__str__` is for readability. it prints the informal string representation of an object, one that is useful for printing the object. it may not be possible to convert result string to original object.\n",
    "* `__repr__` is used to print official string representation of an object, so it includes all information and development."
   ]
  },
  {
   "cell_type": "markdown",
   "id": "dd3fc483",
   "metadata": {},
   "source": [
    "#### 3. In a class, how do you intercept slice operations?\n",
    "**ANS:** In a class **slice()** in `__getitem__` method is used to intercept slice operations.\n",
    "* **Ex:** `__getitem__(slice(start,stop,step))`"
   ]
  },
  {
   "cell_type": "markdown",
   "id": "5798bd55",
   "metadata": {},
   "source": [
    "#### 4. In a class, how do you capture in-place addition?\n",
    "**ANS:** `a+b` is normal addition. Whereas `a+=b` is inplace addition operation. In this in-place addition a itself will store the value of addition. In a class `__iadd__` method is used for this in-place operation"
   ]
  },
  {
   "cell_type": "markdown",
   "id": "3aeed0e5",
   "metadata": {},
   "source": [
    "#### 5. When is it appropriate to use operator overloading?\n",
    "**ANS:** Operator overloading is used when we want to use an operator other than its normal operation to have different meaning according to the context required in user defined function."
   ]
  },
  {
   "cell_type": "code",
   "execution_count": null,
   "id": "b383fb92",
   "metadata": {},
   "outputs": [],
   "source": []
  }
 ],
 "metadata": {
  "kernelspec": {
   "display_name": "Python 3 (ipykernel)",
   "language": "python",
   "name": "python3"
  },
  "language_info": {
   "codemirror_mode": {
    "name": "ipython",
    "version": 3
   },
   "file_extension": ".py",
   "mimetype": "text/x-python",
   "name": "python",
   "nbconvert_exporter": "python",
   "pygments_lexer": "ipython3",
   "version": "3.10.0"
  }
 },
 "nbformat": 4,
 "nbformat_minor": 5
}

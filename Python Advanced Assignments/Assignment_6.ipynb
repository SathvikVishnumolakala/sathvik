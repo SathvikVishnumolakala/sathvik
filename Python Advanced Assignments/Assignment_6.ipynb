{
 "cells": [
  {
   "cell_type": "markdown",
   "id": "ca1b3da9",
   "metadata": {},
   "source": [
    "#### 1. Describe three applications for exception processing.\n",
    "**ANS:** Exception processing is important to find exceptions that cause runtime error.\n",
    "* Checking Appropriate use of input in an application\n",
    "* Checking for Arithmetic exceptions in mathematical executions\n",
    "* Checking File I/O exceptions during File handling"
   ]
  },
  {
   "cell_type": "markdown",
   "id": "09577a47",
   "metadata": {},
   "source": [
    "#### 2. What happens if you don't do something extra to treat an exception?\n",
    "**ANS:** It breaks the flow of program during the runtime which leads to termination of program.It may leads to crashing the program."
   ]
  },
  {
   "cell_type": "markdown",
   "id": "62f19f0f",
   "metadata": {},
   "source": [
    "#### 3. What are your options for recovering from an exception in your script?\n",
    "**ANS:** In Python `try` and `except` are provided to handle the exception."
   ]
  },
  {
   "cell_type": "markdown",
   "id": "2e36e516",
   "metadata": {},
   "source": [
    "#### 4. Describe two methods for triggering exceptions in your script.\n",
    "**ANS:** `raise` and `assert` are the two methods for triggering exceptions in script.\n",
    "* `raise` method triggers an exception if condition provided to it turns out to be True.\n",
    "* `assert` will let the program to continue execution if condition provided to it turns out to be True else exception will be raised"
   ]
  },
  {
   "cell_type": "markdown",
   "id": "b13a1aa9",
   "metadata": {},
   "source": [
    "#### 5. Identify two methods for specifying actions to be executed at termination time, regardless of whether or not an exception exists.\n",
    "**ANS:** Python Provides `else` and `finally` blocks for specifying actions to be executed at termination time, regardless of whether an exceptions exists or not."
   ]
  },
  {
   "cell_type": "code",
   "execution_count": null,
   "id": "5486d494",
   "metadata": {},
   "outputs": [],
   "source": []
  }
 ],
 "metadata": {
  "kernelspec": {
   "display_name": "Python 3 (ipykernel)",
   "language": "python",
   "name": "python3"
  },
  "language_info": {
   "codemirror_mode": {
    "name": "ipython",
    "version": 3
   },
   "file_extension": ".py",
   "mimetype": "text/x-python",
   "name": "python",
   "nbconvert_exporter": "python",
   "pygments_lexer": "ipython3",
   "version": "3.10.0"
  }
 },
 "nbformat": 4,
 "nbformat_minor": 5
}

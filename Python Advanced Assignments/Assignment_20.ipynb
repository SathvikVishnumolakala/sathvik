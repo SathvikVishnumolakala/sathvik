{
 "cells": [
  {
   "cell_type": "markdown",
   "id": "1ce1d97a",
   "metadata": {},
   "source": [
    "#### 1. Compare and contrast the float and Decimal classes' benefits and drawbacks.\n",
    "**ANS:** Both are numerical values.\n",
    "* Use `floats` when convenience and speed matter. A float gives you an approximation of the number you declare.\n",
    "* Use `decimals` when precision matters. `Decimals` can suffer from their own precision issues, but generally, `decimals` are more precise than `floats`."
   ]
  },
  {
   "cell_type": "markdown",
   "id": "2e5dd2a5",
   "metadata": {},
   "source": [
    "#### 2. Decimal('1.200') and Decimal('1.2') are two objects to consider. In what sense are these the same object? Are these just two ways of representing the exact same value, or do they correspond to different internal states?\n",
    "**ANS:** Both values are same but internal representation at storage Is different. Precsion differs, Decimal('1.200') gives internally 1.200 and Decimal('1.2') gives 1.2."
   ]
  },
  {
   "cell_type": "markdown",
   "id": "8c338637",
   "metadata": {},
   "source": [
    "#### 3. What happens if the equality of Decimal('1.200') and Decimal('1.2') is checked?\n",
    "**ANS:** Both values are equal and returns `True` if we check."
   ]
  },
  {
   "cell_type": "markdown",
   "id": "98482b3e",
   "metadata": {},
   "source": [
    "#### 4. Why is it preferable to start a Decimal object with a string rather than a floating-point value?\n",
    "**ANS:** Floating-point value is converted to Decimal format. Decimal can store float value with absolute precision. But when float value is given as Decimal object,it first has to be converted from floating point value which might already have rounding error."
   ]
  },
  {
   "cell_type": "markdown",
   "id": "bfdd7866",
   "metadata": {},
   "source": [
    "#### 5. In an arithmetic phrase, how simple is it to combine Decimal objects with integers?\n",
    "**ANS:** We can do it with use of `Decimal()`."
   ]
  },
  {
   "cell_type": "markdown",
   "id": "bb98e257",
   "metadata": {},
   "source": [
    "#### 6. Can Decimal objects and floating-point values be combined easily?\n",
    "**ANS:** Arithmetic operfations like Adding,subtracting or multiplying a Decimal object by a floating-point value is generates an error.\n",
    "\n",
    "To do these operations, the floating point has to be converted to a Decimal."
   ]
  },
  {
   "cell_type": "markdown",
   "id": "b5579d98",
   "metadata": {},
   "source": [
    "#### 7. Using the Fraction class but not the Decimal class, give an example of a quantity that can be expressed with absolute precision. \n",
    "**ANS:** Value of 0.5 will be represented as ½."
   ]
  },
  {
   "cell_type": "markdown",
   "id": "135f0e22",
   "metadata": {},
   "source": [
    "#### 8. Describe a quantity that can be accurately expressed by the Decimal or Fraction classes but not by a floating-point value.\n",
    "**ANS:** Fraction cannot be expressed in floating point value."
   ]
  },
  {
   "cell_type": "markdown",
   "id": "bc839cb1",
   "metadata": {},
   "source": [
    "#### 9.Consider the following two fraction objects: Fraction(1, 2) and Fraction(1, 2). (5, 10). Is the internal state of these two objects the same? Why do you think that is?\n",
    "**ANS:** Both will be reduced to 1/2."
   ]
  },
  {
   "cell_type": "markdown",
   "id": "93cabe89",
   "metadata": {},
   "source": [
    "#### 10. How do the Fraction class and the integer type (int) relate to each other? Containment or inheritance?\n",
    "**ANS:**  Fraction class and integer type(int) are related in form of a container.It contains two ints, one the numerator and the other the denominator."
   ]
  },
  {
   "cell_type": "code",
   "execution_count": null,
   "id": "4d9c7c1d",
   "metadata": {},
   "outputs": [],
   "source": []
  }
 ],
 "metadata": {
  "kernelspec": {
   "display_name": "Python 3 (ipykernel)",
   "language": "python",
   "name": "python3"
  },
  "language_info": {
   "codemirror_mode": {
    "name": "ipython",
    "version": 3
   },
   "file_extension": ".py",
   "mimetype": "text/x-python",
   "name": "python",
   "nbconvert_exporter": "python",
   "pygments_lexer": "ipython3",
   "version": "3.10.0"
  }
 },
 "nbformat": 4,
 "nbformat_minor": 5
}

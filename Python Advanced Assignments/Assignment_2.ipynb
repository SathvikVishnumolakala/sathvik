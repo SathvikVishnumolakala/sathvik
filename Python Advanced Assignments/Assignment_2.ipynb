{
 "cells": [
  {
   "cell_type": "markdown",
   "id": "bac5acba",
   "metadata": {},
   "source": [
    "#### 1. What is the relationship between classes and modules?\n",
    "**ANS:** Python class is like blueprint of an object.Classes can generate instances i.e objects.Modules are collections of methods and constants.They cannot create instances.Modules are simply files."
   ]
  },
  {
   "cell_type": "markdown",
   "id": "cd0d5ec2",
   "metadata": {},
   "source": [
    "#### 2. How do you make instances and classes?\n",
    "**ANS:** Classes can be made by using **class** keyword.And we call the class by its name and pass the argument which its `__init__` method.\n",
    "* Ex(for class): class employee:def __init__ (self,name,salary):self.name=name self.salary=salary\n",
    "* Ex(for instance):sathvik=employee('Sathvik',30000) "
   ]
  },
  {
   "cell_type": "markdown",
   "id": "37fd527d",
   "metadata": {},
   "source": [
    "#### 3. Where and how should be class attributes created?\n",
    "**ANS:** Class attributes are belong to class itself.These are created at the top of the class.These are used by the instances of the class."
   ]
  },
  {
   "cell_type": "markdown",
   "id": "fe801804",
   "metadata": {},
   "source": [
    "#### 4. Where and how are instance attributes created?\n",
    "**ANS:** Instance attributes are passed when the object of the class is created.These attributes are not shared by all objects.\n",
    "These are defined within the `__init__`."
   ]
  },
  {
   "cell_type": "markdown",
   "id": "3bef0217",
   "metadata": {},
   "source": [
    "#### 5. What does the term \"self\" in a Python class mean?\n",
    "**ANS:** **self** represents the instance of the class(object itself).It binds the attributes with the arguments."
   ]
  },
  {
   "cell_type": "code",
   "execution_count": 2,
   "id": "99a5ab01",
   "metadata": {},
   "outputs": [
    {
     "name": "stdout",
     "output_type": "stream",
     "text": [
      "{'name': 'sathvik', 'rollno': 1234}\n",
      "{'name': 'vishnu', 'rollno': 29}\n"
     ]
    }
   ],
   "source": [
    "class student:\n",
    "    def __init__(self,name,rollno):\n",
    "        self.name=name\n",
    "        self.rollno=rollno\n",
    "sathvik=student('sathvik',1234)\n",
    "vishnu=student('vishnu',29)\n",
    "\n",
    "print(sathvik.__dict__)\n",
    "print(vishnu.__dict__)"
   ]
  },
  {
   "cell_type": "markdown",
   "id": "1784741f",
   "metadata": {},
   "source": [
    "#### 6. How does a Python class handle operator overloading?\n",
    "**ANS:** Python handle operator overloading by using special method called **Magic methods**. These special methods usually begin and end with `__` (double underscore).\n",
    "* Example: Magic methods for basic arithmetic operators are:\n",
    "* `+ -> __add__()`\n",
    "* `- ->__sub__()`\n",
    "* `* ->__mul__()`\n",
    "* `/ ->__div__()`"
   ]
  },
  {
   "cell_type": "markdown",
   "id": "771ea14d",
   "metadata": {},
   "source": [
    "#### 7. When do you consider allowing operator overloading of your classes?\n",
    "**ANS:** When we want to have different meaning for the same operator accroding to the context we use operator overloading."
   ]
  },
  {
   "cell_type": "markdown",
   "id": "c6e65ac9",
   "metadata": {},
   "source": [
    "#### 8. What is the most popular form of operator overloading?\n",
    "**ANS:**  The most popular form of operator overloading in python is by special methods called **Magic methods**. Which usually beign and end with double underscore `__`."
   ]
  },
  {
   "cell_type": "markdown",
   "id": "eab2eff1",
   "metadata": {},
   "source": [
    "#### 9. What are the two most important concepts to grasp in order to comprehend Python OOP code?\n",
    "**ANS:** `class` and `object` are the two most important concepts to grasp in order to comprehend Python OOP code.\n",
    "Along with classes and objects the important concepts to grasp are:\n",
    "* Inheritance\n",
    "* Abstraction\n",
    "* Polymorphism\n",
    "* Encapsulation"
   ]
  },
  {
   "cell_type": "code",
   "execution_count": null,
   "id": "93d0b5f5",
   "metadata": {},
   "outputs": [],
   "source": []
  }
 ],
 "metadata": {
  "kernelspec": {
   "display_name": "Python 3 (ipykernel)",
   "language": "python",
   "name": "python3"
  },
  "language_info": {
   "codemirror_mode": {
    "name": "ipython",
    "version": 3
   },
   "file_extension": ".py",
   "mimetype": "text/x-python",
   "name": "python",
   "nbconvert_exporter": "python",
   "pygments_lexer": "ipython3",
   "version": "3.10.0"
  }
 },
 "nbformat": 4,
 "nbformat_minor": 5
}
